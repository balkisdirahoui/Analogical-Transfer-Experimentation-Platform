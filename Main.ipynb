{
  "cells": [
    {
      "cell_type": "markdown",
      "metadata": {
        "id": "view-in-github",
        "colab_type": "text"
      },
      "source": [
        "<a href=\"https://colab.research.google.com/github/balkisdirahoui/pldac-/blob/main/Main.ipynb\" target=\"_parent\"><img src=\"https://colab.research.google.com/assets/colab-badge.svg\" alt=\"Open In Colab\"/></a>"
      ]
    },
    {
      "cell_type": "code",
      "execution_count": 86,
      "id": "4f53dbf8",
      "metadata": {
        "id": "4f53dbf8"
      },
      "outputs": [],
      "source": [
        "import numpy as np\n",
        "import sklearn\n",
        "from sklearn.neighbors import KNeighborsClassifier as KNN\n",
        "from sklearn import tree\n",
        "from sklearn.model_selection import train_test_split\n",
        "import math\n",
        "import time\n",
        "import matplotlib.pyplot as plt\n",
        "#%load_ext autoreload\n",
        "#%autoreload 2"
      ]
    },
    {
      "cell_type": "markdown",
      "id": "b5ee5194",
      "metadata": {
        "id": "b5ee5194"
      },
      "source": [
        "### Objet split"
      ]
    },
    {
      "cell_type": "code",
      "execution_count": 87,
      "id": "71f92c77",
      "metadata": {
        "id": "71f92c77"
      },
      "outputs": [],
      "source": [
        "class split():\n",
        "  \n",
        "    def __init_(self,data):\n",
        "        self.data = data\n",
        "        \n",
        "    def split(self):\n",
        "        return data\n",
        "\n",
        "class splitML(split):\n",
        "    def __init_(self,data, test_size, random_state):\n",
        "        super().__init__(data)\n",
        "        self.test_size =test_size\n",
        "        self.random_state = random_state\n",
        "        \n",
        "    def split(self):\n",
        "        return train_test_split(X, y, test_size= self.test_size , random_state= self.random_state)\n",
        "    \n",
        "class splitTransfert(split):\n",
        "    def __init_(self,data):\n",
        "        super().__init__(data)\n"
      ]
    },
    {
      "cell_type": "markdown",
      "id": "4a7346f9",
      "metadata": {
        "id": "4a7346f9"
      },
      "source": [
        "### Main"
      ]
    },
    {
      "cell_type": "code",
      "execution_count": 88,
      "id": "6468834a",
      "metadata": {
        "id": "6468834a"
      },
      "outputs": [],
      "source": [
        "\n",
        "class main :\n",
        "\n",
        "  \"\"\"modele : objet de la classe medele \n",
        "  \"\"\"\n",
        "  #modele = modele(data,params,metric)\n",
        "    "
      ]
    },
    {
      "cell_type": "code",
      "execution_count": 89,
      "id": "4a785b47",
      "metadata": {
        "id": "4a785b47"
      },
      "outputs": [],
      "source": [
        "class classifieur:\n",
        "  \n",
        "    def __init__(self,data,param_modele,param_split):\n",
        "        self.data =data\n",
        "        self.param_modele = param_modele\n",
        "        self.param_split = param_split\n",
        "\n",
        "        \n",
        "    def fit(X,y):\n",
        "        pass\n",
        "    def predict(X):\n",
        "        pass\n",
        "    def score(X,y):\n",
        "        pass\n",
        "    \n",
        "    def split(self):\n",
        "        pass\n",
        "\n",
        "        "
      ]
    },
    {
      "cell_type": "markdown",
      "id": "0f9455f0",
      "metadata": {
        "id": "0f9455f0"
      },
      "source": [
        "### KNN"
      ]
    },
    {
      "cell_type": "code",
      "execution_count": 90,
      "id": "bbf77287",
      "metadata": {
        "id": "bbf77287"
      },
      "outputs": [],
      "source": [
        "\n",
        "class knn(classifieur):\n",
        "    \"\"\"\n",
        "    params = {\"n_neigbors\" : 2, \"metric\" : 'cosine' } par exemple\n",
        "    param_modele : les parametres propres a un modeles \n",
        "    param_split : la taille du test et du train \n",
        "    \"\"\"\n",
        "    \n",
        "    def __init__(self,data,param_modele,param_split):\n",
        "        super().__init__(data,param_modele, param_split)\n",
        "        for key in param_modele:\n",
        "            setattr(self,key,param_modele[key])\n",
        "            \n",
        "        self.clf = KNN(**param_modele)\n",
        "        print(data.shape)\n",
        "        self.X_train,  self.X_test, self.y_train, self.y_test = train_test_split(data[:,:-1],data[:,-1], **param_split)\n",
        "       \n",
        "\n",
        "    def fit(self):\n",
        "        self.clf.fit(self.X_train,self.y_train)\n",
        "    def predcit(self):\n",
        "        return self.clf.predict(self.X_test)\n",
        "    def score(self):\n",
        "      \n",
        "        return self.clf.score(self.X_test,self.y_test)\n"
      ]
    },
    {
      "cell_type": "code",
      "execution_count": 91,
      "id": "e1b17d58",
      "metadata": {
        "id": "e1b17d58",
        "outputId": "d70c734b-7550-444e-d6ad-696652001b20",
        "colab": {
          "base_uri": "https://localhost:8080/"
        }
      },
      "outputs": [
        {
          "output_type": "stream",
          "name": "stdout",
          "text": [
            "data\n",
            "2\n"
          ]
        }
      ],
      "source": [
        "p = {\"a\" : 2,\"b\":2, \"c\" : 2}\n",
        "def f(data , a, b, c ):\n",
        "    print(data)\n",
        "    print(a)\n",
        "\n",
        "f(\"data\",**p)"
      ]
    },
    {
      "cell_type": "code",
      "execution_count": 92,
      "id": "751d65e2",
      "metadata": {
        "id": "751d65e2"
      },
      "outputs": [],
      "source": [
        "def genere_dataset_gaussian(positive_center,positive_sigma,negative_center,negative_sigma,nb_points):\n",
        "    data_pos= np.random.multivariate_normal(positive_center, positive_sigma, nb_points)\n",
        "    data_neg= np.random.multivariate_normal(negative_center, negative_sigma, nb_points)\n",
        "\n",
        "    data_label=np.asarray([-1 for i in range (nb_points)] +[+1 for i in range(nb_points)])\n",
        "    \n",
        "    data_decs=np.vstack((data_neg,data_pos))\n",
        "    return data_decs,data_label     \n",
        "\n",
        "\n",
        "X2, y2 = genere_dataset_gaussian(np.array([1,1]),np.array([[1,0],[0,1]]),np.array([-1,-1]),np.array([[1,0],[0,1]]),10)\n",
        "\n",
        "data2=np.hstack((X2,np.reshape(y2,(20,1))))# gaussian"
      ]
    },
    {
      "cell_type": "code",
      "execution_count": 93,
      "id": "5d57c00b",
      "metadata": {
        "id": "5d57c00b",
        "outputId": "3dda35fb-722d-478c-95fc-fef845d5f6ed",
        "colab": {
          "base_uri": "https://localhost:8080/"
        }
      },
      "outputs": [
        {
          "output_type": "stream",
          "name": "stdout",
          "text": [
            "[-1. -1. -1. -1. -1. -1. -1. -1. -1. -1.  1.  1.  1.  1.  1.  1.  1.  1.\n",
            "  1.  1.]\n"
          ]
        }
      ],
      "source": [
        "print(data2[:,-1])\n"
      ]
    },
    {
      "cell_type": "code",
      "execution_count": 94,
      "id": "1b77dc85",
      "metadata": {
        "id": "1b77dc85",
        "outputId": "3e076112-a68d-443d-b8b9-8746953ce88f",
        "colab": {
          "base_uri": "https://localhost:8080/"
        }
      },
      "outputs": [
        {
          "output_type": "stream",
          "name": "stdout",
          "text": [
            "(20, 3)\n",
            "1.0\n"
          ]
        }
      ],
      "source": [
        "param_modele = {\"n_neighbors\" : 2, \"metric\" : 'cosine'}\n",
        "param_split  = {\"test_size\" : 0.33 , \"random_state\" : 42}\n",
        "K = knn(data2, param_modele, param_split )\n",
        "K.fit()\n",
        "print(K.score())"
      ]
    },
    {
      "cell_type": "code",
      "execution_count": 95,
      "id": "92d62a04",
      "metadata": {
        "id": "92d62a04"
      },
      "outputs": [],
      "source": [
        "prams = {\"n_neighbors\" : 2, \"metric\" : 'cosine' }"
      ]
    },
    {
      "cell_type": "code",
      "source": [
        ""
      ],
      "metadata": {
        "id": "2zvhccGvaFrc"
      },
      "id": "2zvhccGvaFrc",
      "execution_count": 95,
      "outputs": []
    },
    {
      "cell_type": "markdown",
      "id": "d135c607",
      "metadata": {
        "id": "d135c607"
      },
      "source": [
        "### Decision trees"
      ]
    },
    {
      "cell_type": "code",
      "execution_count": 96,
      "id": "3d1aba8c",
      "metadata": {
        "id": "3d1aba8c"
      },
      "outputs": [],
      "source": [
        "class dtrees(classifieur):\n",
        "    \n",
        "    \n",
        "    def __init__(self,data,param_modele,param_split):\n",
        "        super().__init__(data,param_modele, param_split)\n",
        "        for key in param_modele:\n",
        "            setattr(self,key,param_modele[key])\n",
        "            \n",
        "        self.clf = tree.DecisionTreeClassifier(**param_modele)\n",
        "\n",
        "        self.X_train,  self.X_test, self.y_train, self.y_test = train_test_split(data[:,:-1],data[:,-1], **param_split)\n",
        "    \n",
        "   \n",
        "    def fit(self):\n",
        "        self.clf.fit(self.X_train, self.y_train )\n",
        "    def predcit(self):\n",
        "        return self.clf.predict(self.X_test)\n",
        "    def score(self):\n",
        "        return self.clf.score(self.X_test,self.y_test)\n",
        "    \n",
        "    \n"
      ]
    },
    {
      "cell_type": "code",
      "execution_count": 97,
      "id": "82cc0dde",
      "metadata": {
        "id": "82cc0dde",
        "outputId": "b187ae94-cad0-4427-cf4a-13ce1c2ddcc2",
        "colab": {
          "base_uri": "https://localhost:8080/"
        }
      },
      "outputs": [
        {
          "output_type": "execute_result",
          "data": {
            "text/plain": [
              "1.0"
            ]
          },
          "metadata": {},
          "execution_count": 97
        }
      ],
      "source": [
        "param_split  = {\"test_size\" : 0.33 , \"random_state\" : 42}\n",
        "params_dtree= {\"max_depth\" : 3  } \n",
        "dtree = dtrees(data2,params_dtree,param_split)\n",
        "dtree.fit()\n",
        "dtree.max_depth\n",
        "dtree.score()"
      ]
    },
    {
      "cell_type": "markdown",
      "id": "12e2476b",
      "metadata": {
        "id": "12e2476b"
      },
      "source": [
        "### CoAt"
      ]
    },
    {
      "cell_type": "code",
      "source": [
        "\n",
        "class coAT(classifieur):\n",
        "\n",
        "    def __init__(self, data,param_modele ,param_split=dict()): \n",
        "      super().__init__(data, param_modele ,param_split)\n",
        "      for key in param_modele:\n",
        "          setattr(self,key,param_modele[key])\n",
        "      self.CB = []\n",
        "    \n",
        "    def set_sigS(self,sigS):\n",
        "      self.sigS = sigS\n",
        "        \n",
        "    def set_sigR(self,sigR):\n",
        "      self.sigR = sigR\n",
        "    #fit\n",
        "    def fit(self,data):\n",
        "      self.CB = data\n",
        "    #predict\n",
        "    def change_outcomes(self,x,y):\n",
        "      return (x,y)\n",
        "    def predict(self,x):\n",
        "      \"\"\"\n",
        "      prend en entrée un tuple x et retourne son label \n",
        "      (label qui minimise la complexité)\n",
        "      \"\"\"\n",
        "      l = []\n",
        "     \n",
        "      start_time = time.time()\n",
        "      for y in self.labels:\n",
        "        tuple =  self.change_outcomes(x,y)\n",
        "     \n",
        "        l.append(self.inv(tuple,self.CB,self.w))\n",
        "      times = (time.time() - start_time)\n",
        "      return self.labels[np.argmin(l)],self.labels,l,times\n",
        "\n",
        "\n",
        "    def score():\n",
        "      pass\n",
        "    \n",
        "    #autre \n",
        "    def inv(self,s0, CB,w):\n",
        "      \"\"\"\n",
        "      fonction qui calcule la cardinalité de l'ensemble ou sigmaS et sigmaR sont iversé pour un s0\n",
        "      sigS : mesure de similarité 1\n",
        "      sigR : mesure de similarité 2\n",
        "      -> faire l'autre moitié des tests\n",
        "      -> mettre les Sig dans des variable\n",
        "      \"\"\"\n",
        "      cpt=0\n",
        "      #parcourir les tuples du dataset \n",
        "      for si in  range(len(CB))  :\n",
        "        for sj in range(si+1,len(CB)) :\n",
        "          #########\n",
        "          #CB[si] = [()]\n",
        "          #CB[si][0] = () le reste dependra de la fonction de similarité (dimensions)\n",
        "          sigS_si = self.sigS(s0[0],CB[si][0],self.w)\n",
        "          sigS_sj = self.sigS(s0[0],CB[sj][0],self.w)\n",
        "          sigR_si = self.sigR(s0[1],CB[si][1])\n",
        "          sigR_sj = self.sigR(s0[1],CB[sj][1])\n",
        "          ########\n",
        "          #incrementer si inversion de similarité (sigR se base sur les labels)\n",
        "          if( (sigS_si>=sigS_sj) and (sigR_si<sigR_sj)) or ( (sigS_si<sigS_sj) and (sigR_si>=sigR_sj)): \n",
        "            cpt+=1    \n",
        "      return cpt\n",
        "    def complex(self,CB):\n",
        "      \"\"\"\n",
        "      fonction qui calcule la complexité d'un CB (dataset)\n",
        "      \"\"\"\n",
        "      gamma=0\n",
        "      for s0 in CB:\n",
        "          gamma += self.inv(s0,CB,self.w)\n",
        "      return gamma\n",
        "\n",
        "    def predict_nonopt(self,x):\n",
        "      \"\"\"\n",
        "      prend en entrée un tuple x et retourne son label \n",
        "      (label qui minimise la complexité)\n",
        "      \"\"\"\n",
        "      l = []\n",
        "      times = []\n",
        "      for y in self.labels:\n",
        "        tmp = self.CB + [self.change_outcomes(x,y)]\n",
        "        start_time = time.time()\n",
        "        l.append(self.complex(tmp))\n",
        "        times.append((time.time() - start_time))\n",
        "      return self.labels[np.argmin(l)],self.labels,l,times\n",
        "\n",
        "  \n",
        "\n",
        "\n",
        "\n",
        "\n",
        "\n",
        "  \n",
        "# CoAT n'est pas ordinal \n",
        "# CCBI l'est\n"
      ],
      "metadata": {
        "id": "_j526Y6daHnv"
      },
      "id": "_j526Y6daHnv",
      "execution_count": 132,
      "outputs": []
    },
    {
      "cell_type": "markdown",
      "id": "7d6f9e07",
      "metadata": {
        "id": "7d6f9e07"
      },
      "source": [
        "### Similarities"
      ]
    },
    {
      "cell_type": "code",
      "execution_count": 99,
      "id": "830fee34",
      "metadata": {
        "id": "830fee34"
      },
      "outputs": [],
      "source": [
        "def sigmaArea(a1,a2):\n",
        "  \"\"\"\n",
        "  retourne la similarité entre deux areas (int)\n",
        "  \"\"\"\n",
        "  return(int(a1==a2))\n",
        "####\n",
        "#Nb rooms\n",
        "def polynomialSim(n,L,y,x):\n",
        "  \n",
        "  return ((L-abs(y-x)**n)/(L**n))\n",
        "\n",
        "def sigmaNbrooms(nb1,nb2):\n",
        "  \"\"\"\n",
        "  Sigma nb rooms, mesure de similarité de nb rooms\n",
        "  \"\"\"\n",
        "  return polynomialSim(2,6,nb1,nb2)\n",
        "\n",
        "def sigmaS(a,b,w):\n",
        "  \"\"\"\n",
        "  w : list of weights\n",
        "  a : list [nbrooms1,area1]\n",
        "  b : list [nbrooms2,area2]\n",
        "  \"\"\"\n",
        "  nb_rooms1 , area1= a[0],a[1]\n",
        "  nb_rooms2 , area2= b[0],b[1]\n",
        "  #weights between 0.01 and 0.64\n",
        "  sigmaAr=sigmaArea(area1,area2)\n",
        "  sigmarooms = sigmaNbrooms(nb_rooms1,nb_rooms2)\n",
        "  return w[0]*sigmarooms + (1-w[1])*sigmaAr\n",
        "\n",
        "def sigmaR(p1,p2):\n",
        "  return polynomialSim(2,1000,p1,p2)"
      ]
    },
    {
      "cell_type": "code",
      "execution_count": 100,
      "id": "da015e67",
      "metadata": {
        "id": "da015e67"
      },
      "outputs": [],
      "source": [
        "#données\n",
        "\"\"\"\n",
        "situation : 0,1,2,\n",
        "nb_rooms : 1,2,3\n",
        "area : 0:midtown ,1 : downtown\n",
        "price: \n",
        "\"\"\"\n",
        "X_coat = np.array([[1,0], [2,0],[1,1],[3,1]])\n",
        "y_coat = np.array([440,600,700,900])\n",
        "\n",
        "\n",
        "#constuire les données\n",
        "CB_coAt=[]\n",
        "for i in range(len(X_coat)):\n",
        "  CB_coAt.append((X_coat[i].tolist(),y_coat[i]))\n"
      ]
    },
    {
      "cell_type": "code",
      "source": [
        "#modele\n",
        "param_modele = {\"sigS\" : sigmaS, \"sigR\" : sigmaR,\"w\":[0.5,0.5],\"labels\" : [440,600,700,900] + (np.arange(400,1200,100)).tolist()}\n",
        "co= coAT([],param_modele )\n",
        "#fit\n",
        "co.fit(CB_coAt)\n",
        "#predict\n",
        "label,labels,gamma,_ = co.predict([2, 1])\n",
        "labeln,labelsn,gamman,_ = co.predict_nonopt([2, 1])\n",
        "print(\"le meilleur prix est : \",label)"
      ],
      "metadata": {
        "colab": {
          "base_uri": "https://localhost:8080/"
        },
        "id": "1C5t-L9GhjKI",
        "outputId": "7e4bda56-458e-4414-b818-9e30a9545725"
      },
      "id": "1C5t-L9GhjKI",
      "execution_count": 112,
      "outputs": [
        {
          "output_type": "stream",
          "name": "stdout",
          "text": [
            "le meilleur prix est :  800\n"
          ]
        }
      ]
    },
    {
      "cell_type": "markdown",
      "source": [
        "### Variation du temps"
      ],
      "metadata": {
        "id": "PHEc_bA3-RrZ"
      },
      "id": "PHEc_bA3-RrZ"
    },
    {
      "cell_type": "code",
      "source": [
        "d = dict()\n",
        "for l,g in zip(labels,gamma):\n",
        "  d[l] = g\n",
        "print(d)\n",
        "lists = sorted(d.items())\n",
        "labels,gamma = zip(*lists)\n",
        "\n",
        "\n",
        "plt.xlabel('Predicted Price')\n",
        "plt.ylabel('Complexity gamma')\n",
        "plt.title('Complexity for each potential price ')\n",
        "plt.plot(labels,gamma,'bo--')\n",
        "plt.show()"
      ],
      "metadata": {
        "id": "3W8H-OiN98fS",
        "outputId": "efed7364-4c31-403d-b0e8-98dee43aea07",
        "colab": {
          "base_uri": "https://localhost:8080/",
          "height": 312
        }
      },
      "id": "3W8H-OiN98fS",
      "execution_count": 113,
      "outputs": [
        {
          "output_type": "stream",
          "name": "stdout",
          "text": [
            "{440: 5, 600: 3, 700: 1, 900: 1, 400: 5, 500: 5, 800: 0, 1000: 1, 1100: 1}\n"
          ]
        },
        {
          "output_type": "display_data",
          "data": {
            "text/plain": [
              "<Figure size 432x288 with 1 Axes>"
            ],
            "image/png": "[encoded data removed]"
          },
          "metadata": {
            "needs_background": "light"
          }
        }
      ]
    },
    {
      "cell_type": "code",
      "source": [
        "d2 = dict()\n",
        "for l,g in zip(labelsn,gamman):\n",
        "  d2[l] = g\n",
        "print(d2)\n",
        "lists2 = sorted(d2.items())\n",
        "labelsn,gamman = zip(*lists2)\n",
        "plt.xlabel('Predicted Price')\n",
        "plt.ylabel('Complexity gamma')\n",
        "plt.title('Complexity for each potential price ')\n",
        "plt.plot(labelsn,gamman,'ro--')\n",
        "\n",
        "plt.show()"
      ],
      "metadata": {
        "id": "Y81fSvFaap-7",
        "outputId": "24a778ce-5a66-4b1d-80b4-3d326d6c99db",
        "colab": {
          "base_uri": "https://localhost:8080/",
          "height": 332
        }
      },
      "id": "Y81fSvFaap-7",
      "execution_count": 114,
      "outputs": [
        {
          "output_type": "stream",
          "name": "stdout",
          "text": [
            "{440: 18, 600: 12, 700: 8, 900: 10, 400: 17, 500: 16, 800: 5, 1000: 10, 1100: 11}\n"
          ]
        },
        {
          "output_type": "display_data",
          "data": {
            "text/plain": [
              "<Figure size 432x288 with 1 Axes>"
            ],
            "image/png": "[encoded data removed]"
          },
          "metadata": {
            "needs_background": "light"
          }
        }
      ]
    },
    {
      "cell_type": "code",
      "source": [
        "lists"
      ],
      "metadata": {
        "id": "kY2QEUhGiGe_",
        "outputId": "e858f2e0-f7ce-468b-ec3d-64e478e364a4",
        "colab": {
          "base_uri": "https://localhost:8080/"
        }
      },
      "id": "kY2QEUhGiGe_",
      "execution_count": 115,
      "outputs": [
        {
          "output_type": "execute_result",
          "data": {
            "text/plain": [
              "[(400, 5),\n",
              " (440, 5),\n",
              " (500, 5),\n",
              " (600, 3),\n",
              " (700, 1),\n",
              " (800, 0),\n",
              " (900, 1),\n",
              " (1000, 1),\n",
              " (1100, 1)]"
            ]
          },
          "metadata": {},
          "execution_count": 115
        }
      ]
    },
    {
      "cell_type": "code",
      "source": [
        "lists2\n",
        "\n",
        "\n",
        "#print(np.array(lists) - np.array(lists2))"
      ],
      "metadata": {
        "id": "MBI6uWnLh3ar",
        "outputId": "fd0552b0-ee87-45f4-977b-1e3e05d506b5",
        "colab": {
          "base_uri": "https://localhost:8080/"
        }
      },
      "id": "MBI6uWnLh3ar",
      "execution_count": 117,
      "outputs": [
        {
          "output_type": "execute_result",
          "data": {
            "text/plain": [
              "[(400, 17),\n",
              " (440, 18),\n",
              " (500, 16),\n",
              " (600, 12),\n",
              " (700, 8),\n",
              " (800, 5),\n",
              " (900, 10),\n",
              " (1000, 10),\n",
              " (1100, 11)]"
            ]
          },
          "metadata": {},
          "execution_count": 117
        }
      ]
    },
    {
      "cell_type": "code",
      "source": [
        "d2 = dict()\n",
        "for l,g in zip(labelsn,gamman):\n",
        "  d2[l] = g\n",
        "print(d2)\n",
        "lists = sorted(d2.items())\n",
        "labelsn,gamman = zip(*lists)\n",
        "plt.xlabel('Predicted Price')\n",
        "plt.ylabel('Complexity gamma')\n",
        "plt.title('Complexity for each potential price ')\n",
        "plt.plot(labelsn,gamman,'ro--',label=\"non opt\")\n",
        "plt.plot(labels,gamma,'bo--',label=\"opt\")\n",
        "plt.legend()\n",
        "plt.show()\n",
        "\n"
      ],
      "metadata": {
        "id": "TpZOuvE0ZmCN",
        "outputId": "7d1c86ff-d9d3-4355-ab72-a07d376361f0",
        "colab": {
          "base_uri": "https://localhost:8080/",
          "height": 332
        }
      },
      "id": "TpZOuvE0ZmCN",
      "execution_count": 106,
      "outputs": [
        {
          "output_type": "stream",
          "name": "stdout",
          "text": [
            "{400: 17, 440: 18, 500: 16, 600: 12, 700: 8, 800: 5, 900: 10, 1000: 10, 1100: 11}\n"
          ]
        },
        {
          "output_type": "display_data",
          "data": {
            "text/plain": [
              "<Figure size 432x288 with 1 Axes>"
            ],
            "image/png": "[encoded data removed]"
          },
          "metadata": {
            "needs_background": "light"
          }
        }
      ]
    },
    {
      "cell_type": "markdown",
      "source": [
        "## Variation du temps d'execution"
      ],
      "metadata": {
        "id": "Oi72LLQHGBrW"
      },
      "id": "Oi72LLQHGBrW"
    },
    {
      "cell_type": "code",
      "source": [
        "labelopt,labels,_,timesopt= co.predict([2, 1])\n",
        "label,times = co.predict_nonopt([2, 1])\n",
        "# verification que c'est le meme \n",
        "print(labelopt == label)"
      ],
      "metadata": {
        "id": "y7CSSoeaE0g3",
        "colab": {
          "base_uri": "https://localhost:8080/",
          "height": 218
        },
        "outputId": "4fb4b8e6-1a8d-48f9-d62a-36aee61f0135"
      },
      "id": "y7CSSoeaE0g3",
      "execution_count": 107,
      "outputs": [
        {
          "output_type": "error",
          "ename": "ValueError",
          "evalue": "ignored",
          "traceback": [
            "\u001b[0;31m---------------------------------------------------------------------------\u001b[0m",
            "\u001b[0;31mValueError\u001b[0m                                Traceback (most recent call last)",
            "\u001b[0;32m<ipython-input-107-4c2a498596dd>\u001b[0m in \u001b[0;36m<module>\u001b[0;34m()\u001b[0m\n\u001b[1;32m      1\u001b[0m \u001b[0mlabelopt\u001b[0m\u001b[0;34m,\u001b[0m\u001b[0mlabels\u001b[0m\u001b[0;34m,\u001b[0m\u001b[0m_\u001b[0m\u001b[0;34m,\u001b[0m\u001b[0mtimesopt\u001b[0m\u001b[0;34m=\u001b[0m \u001b[0mco\u001b[0m\u001b[0;34m.\u001b[0m\u001b[0mpredict\u001b[0m\u001b[0;34m(\u001b[0m\u001b[0;34m[\u001b[0m\u001b[0;36m2\u001b[0m\u001b[0;34m,\u001b[0m \u001b[0;36m1\u001b[0m\u001b[0;34m]\u001b[0m\u001b[0;34m)\u001b[0m\u001b[0;34m\u001b[0m\u001b[0;34m\u001b[0m\u001b[0m\n\u001b[0;32m----> 2\u001b[0;31m \u001b[0mlabel\u001b[0m\u001b[0;34m,\u001b[0m\u001b[0mtimes\u001b[0m \u001b[0;34m=\u001b[0m \u001b[0mco\u001b[0m\u001b[0;34m.\u001b[0m\u001b[0mpredict_nonopt\u001b[0m\u001b[0;34m(\u001b[0m\u001b[0;34m[\u001b[0m\u001b[0;36m2\u001b[0m\u001b[0;34m,\u001b[0m \u001b[0;36m1\u001b[0m\u001b[0;34m]\u001b[0m\u001b[0;34m)\u001b[0m\u001b[0;34m\u001b[0m\u001b[0;34m\u001b[0m\u001b[0m\n\u001b[0m\u001b[1;32m      3\u001b[0m \u001b[0;31m# verification que c'est le meme\u001b[0m\u001b[0;34m\u001b[0m\u001b[0;34m\u001b[0m\u001b[0;34m\u001b[0m\u001b[0m\n\u001b[1;32m      4\u001b[0m \u001b[0mprint\u001b[0m\u001b[0;34m(\u001b[0m\u001b[0mlabelopt\u001b[0m \u001b[0;34m==\u001b[0m \u001b[0mlabel\u001b[0m\u001b[0;34m)\u001b[0m\u001b[0;34m\u001b[0m\u001b[0;34m\u001b[0m\u001b[0m\n",
            "\u001b[0;31mValueError\u001b[0m: too many values to unpack (expected 2)"
          ]
        }
      ]
    },
    {
      "cell_type": "markdown",
      "source": [
        "#### Plot"
      ],
      "metadata": {
        "id": "GA7pO6jXGFbA"
      },
      "id": "GA7pO6jXGFbA"
    },
    {
      "cell_type": "code",
      "source": [
        "\n",
        "\n",
        "\n",
        "d = dict()\n",
        "for l,g in zip(labels,times):\n",
        "  d[l] = g\n",
        "print(d)\n",
        "lists = sorted(d.items())\n",
        "labels,times = zip(*lists)\n",
        "\n",
        "d2 = dict()\n",
        "for l,g in zip(labels,timesopt):\n",
        "  d2[l] = g\n",
        "print(d)\n",
        "lists = sorted(d2.items())\n",
        "labels,timesopt = zip(*lists)\n",
        "\n",
        "plt.xlabel('Predicted Price')\n",
        "plt.ylabel('time')\n",
        "plt.title('Time for each potential price ')\n",
        "plt.plot(labels,times,'bo--',label = 'temps ')\n",
        "plt.plot(labels,timesopt,'ro--',label = 'temps optimisé')\n",
        "plt.legend()\n",
        "plt.show()"
      ],
      "metadata": {
        "colab": {
          "base_uri": "https://localhost:8080/",
          "height": 350
        },
        "id": "G8ktiU32Er5_",
        "outputId": "265521ec-77e0-400f-e89e-42178f5cc9f9"
      },
      "id": "G8ktiU32Er5_",
      "execution_count": 118,
      "outputs": [
        {
          "output_type": "stream",
          "name": "stdout",
          "text": [
            "{400: 0.0005087852478027344, 440: 0.00048661231994628906, 500: 0.0004956722259521484, 600: 0.0004849433898925781, 700: 0.0005052089691162109, 800: 0.00048279762268066406, 900: 0.0005042552947998047, 1000: 0.00048470497131347656, 1100: 0.0004923343658447266}\n",
            "{400: 0.0005087852478027344, 440: 0.00048661231994628906, 500: 0.0004956722259521484, 600: 0.0004849433898925781, 700: 0.0005052089691162109, 800: 0.00048279762268066406, 900: 0.0005042552947998047, 1000: 0.00048470497131347656, 1100: 0.0004923343658447266}\n"
          ]
        },
        {
          "output_type": "display_data",
          "data": {
            "text/plain": [
              "<Figure size 432x288 with 1 Axes>"
            ],
            "image/png": "[encoded data removed]"
          },
          "metadata": {
            "needs_background": "light"
          }
        }
      ]
    },
    {
      "cell_type": "code",
      "source": [
        "from sklearn import datasets\n",
        "\n",
        "# import some data to play with\n",
        "iris = datasets.load_iris()\n",
        "X_iris = iris.data[:, :2]  # we only take the first two features.\n",
        "y_iris = iris.target\n",
        "CB_iris=[]\n",
        "for i in range(len(X_iris)-10, len(X_iris)):\n",
        "  CB_iris.append((X_iris[i],y_iris[i]))\n",
        "print(CB_iris)"
      ],
      "metadata": {
        "colab": {
          "base_uri": "https://localhost:8080/"
        },
        "id": "-92cgHoIFjzO",
        "outputId": "53a28e49-6b39-445d-f891-a8f0fbbc5f7e"
      },
      "id": "-92cgHoIFjzO",
      "execution_count": 119,
      "outputs": [
        {
          "output_type": "stream",
          "name": "stdout",
          "text": [
            "[(array([6.7, 3.1]), 2), (array([6.9, 3.1]), 2), (array([5.8, 2.7]), 2), (array([6.8, 3.2]), 2), (array([6.7, 3.3]), 2), (array([6.7, 3. ]), 2), (array([6.3, 2.5]), 2), (array([6.5, 3. ]), 2), (array([6.2, 3.4]), 2), (array([5.9, 3. ]), 2)]\n"
          ]
        }
      ]
    },
    {
      "cell_type": "code",
      "source": [
        "\n",
        "def sigS(s1,s2,w =None):\n",
        "  if isinstance(s1, np.ndarray): \n",
        "    return ((np.abs(s1-s2)).sum())**2\n",
        "  return (np.abs(s1-s2))**2\n",
        "  # (np.abs(s1-s2)) ou (np.abs(s1-s2))^2\n",
        "  \n",
        "def sigR(o1,o2,w = None):\n",
        "\n",
        "\n",
        "  return (np.abs(o1-o2))**2\n",
        "#modele\n",
        "param_modele = {\"sigS\" : sigS, \"sigR\" : sigR,\"w\":None,\"labels\" : y_iris}\n",
        "co= coAT([],param_modele )\n",
        "#fit\n",
        "co.fit(CB_iris)\n",
        "#predict\n",
        "label,labels,gamma,_ = co.predict(np.array([6.7, 3.1]))\n",
        "print(label)\n",
        "#labeln,labelsn,gamman,_ = co.predict_nonopt([2, 1])\n",
        "#print(\"le meilleur prix est : \",label)"
      ],
      "metadata": {
        "id": "WB6hn2gvbSvo",
        "outputId": "71dc757f-295b-47f1-e36b-326db9a863ad",
        "colab": {
          "base_uri": "https://localhost:8080/"
        }
      },
      "id": "WB6hn2gvbSvo",
      "execution_count": 120,
      "outputs": [
        {
          "output_type": "stream",
          "name": "stdout",
          "text": [
            "0\n"
          ]
        }
      ]
    },
    {
      "cell_type": "code",
      "source": [
        "print(X_iris[0].shape)"
      ],
      "metadata": {
        "id": "k5SN3PImdyQ2"
      },
      "id": "k5SN3PImdyQ2",
      "execution_count": null,
      "outputs": []
    },
    {
      "cell_type": "code",
      "source": [
        "iris = datasets.load_iris()\n",
        "n = 2\n",
        "X_iris = iris.data[:, :n]  # we only take the first two features.\n",
        "y_iris = iris.target\n",
        "CB_iris=[]\n",
        "for i in range(len(X_iris)-10, len(X_iris)):\n",
        "  CB_iris.append((X_iris[i],y_iris[i]))\n",
        "\n",
        "d = dict() #dictionnaire de temps en fonction du nombre de features\n",
        "for n in range(1,150):\n",
        "  X_iris = iris.data[:n, :]  # we only take the first n features.\n",
        "  y_iris = iris.target\n",
        "  CB_iris=[]\n",
        "  for i in range(0, len(X_iris)):\n",
        "    CB_iris.append((X_iris[i],y_iris[i]))\n",
        "  co= coAT([],param_modele )\n",
        "  co.fit(CB_iris)\n",
        "  test =  np.random.randn(X_iris.shape[1],)\n",
        "  label,labels,gamma,times = co.predict(test)\n",
        "  d[n] = times\n",
        "\n",
        "\n"
      ],
      "metadata": {
        "id": "CK0kTOuqcV9y",
        "outputId": "0a9ea43e-e950-4f59-c1d1-a1c0df68bd7f",
        "colab": {
          "base_uri": "https://localhost:8080/",
          "height": 398
        }
      },
      "id": "CK0kTOuqcV9y",
      "execution_count": 143,
      "outputs": [
        {
          "output_type": "error",
          "ename": "KeyboardInterrupt",
          "evalue": "ignored",
          "traceback": [
            "\u001b[0;31m---------------------------------------------------------------------------\u001b[0m",
            "\u001b[0;31mKeyboardInterrupt\u001b[0m                         Traceback (most recent call last)",
            "\u001b[0;32m<ipython-input-143-0a6734e08339>\u001b[0m in \u001b[0;36m<module>\u001b[0;34m()\u001b[0m\n\u001b[1;32m     17\u001b[0m   \u001b[0mco\u001b[0m\u001b[0;34m.\u001b[0m\u001b[0mfit\u001b[0m\u001b[0;34m(\u001b[0m\u001b[0mCB_iris\u001b[0m\u001b[0;34m)\u001b[0m\u001b[0;34m\u001b[0m\u001b[0;34m\u001b[0m\u001b[0m\n\u001b[1;32m     18\u001b[0m   \u001b[0mtest\u001b[0m \u001b[0;34m=\u001b[0m  \u001b[0mnp\u001b[0m\u001b[0;34m.\u001b[0m\u001b[0mrandom\u001b[0m\u001b[0;34m.\u001b[0m\u001b[0mrandn\u001b[0m\u001b[0;34m(\u001b[0m\u001b[0mX_iris\u001b[0m\u001b[0;34m.\u001b[0m\u001b[0mshape\u001b[0m\u001b[0;34m[\u001b[0m\u001b[0;36m1\u001b[0m\u001b[0;34m]\u001b[0m\u001b[0;34m,\u001b[0m\u001b[0;34m)\u001b[0m\u001b[0;34m\u001b[0m\u001b[0;34m\u001b[0m\u001b[0m\n\u001b[0;32m---> 19\u001b[0;31m   \u001b[0mlabel\u001b[0m\u001b[0;34m,\u001b[0m\u001b[0mlabels\u001b[0m\u001b[0;34m,\u001b[0m\u001b[0mgamma\u001b[0m\u001b[0;34m,\u001b[0m\u001b[0mtimes\u001b[0m \u001b[0;34m=\u001b[0m \u001b[0mco\u001b[0m\u001b[0;34m.\u001b[0m\u001b[0mpredict\u001b[0m\u001b[0;34m(\u001b[0m\u001b[0mtest\u001b[0m\u001b[0;34m)\u001b[0m\u001b[0;34m\u001b[0m\u001b[0;34m\u001b[0m\u001b[0m\n\u001b[0m\u001b[1;32m     20\u001b[0m   \u001b[0md\u001b[0m\u001b[0;34m[\u001b[0m\u001b[0mn\u001b[0m\u001b[0;34m]\u001b[0m \u001b[0;34m=\u001b[0m \u001b[0mtimes\u001b[0m\u001b[0;34m\u001b[0m\u001b[0;34m\u001b[0m\u001b[0m\n\u001b[1;32m     21\u001b[0m \u001b[0;34m\u001b[0m\u001b[0m\n",
            "\u001b[0;32m<ipython-input-132-91de70ccbd2b>\u001b[0m in \u001b[0;36mpredict\u001b[0;34m(self, x)\u001b[0m\n\u001b[1;32m     30\u001b[0m         \u001b[0mtuple\u001b[0m \u001b[0;34m=\u001b[0m  \u001b[0mself\u001b[0m\u001b[0;34m.\u001b[0m\u001b[0mchange_outcomes\u001b[0m\u001b[0;34m(\u001b[0m\u001b[0mx\u001b[0m\u001b[0;34m,\u001b[0m\u001b[0my\u001b[0m\u001b[0;34m)\u001b[0m\u001b[0;34m\u001b[0m\u001b[0;34m\u001b[0m\u001b[0m\n\u001b[1;32m     31\u001b[0m \u001b[0;34m\u001b[0m\u001b[0m\n\u001b[0;32m---> 32\u001b[0;31m         \u001b[0ml\u001b[0m\u001b[0;34m.\u001b[0m\u001b[0mappend\u001b[0m\u001b[0;34m(\u001b[0m\u001b[0mself\u001b[0m\u001b[0;34m.\u001b[0m\u001b[0minv\u001b[0m\u001b[0;34m(\u001b[0m\u001b[0mtuple\u001b[0m\u001b[0;34m,\u001b[0m\u001b[0mself\u001b[0m\u001b[0;34m.\u001b[0m\u001b[0mCB\u001b[0m\u001b[0;34m,\u001b[0m\u001b[0mself\u001b[0m\u001b[0;34m.\u001b[0m\u001b[0mw\u001b[0m\u001b[0;34m)\u001b[0m\u001b[0;34m)\u001b[0m\u001b[0;34m\u001b[0m\u001b[0;34m\u001b[0m\u001b[0m\n\u001b[0m\u001b[1;32m     33\u001b[0m       \u001b[0mtimes\u001b[0m \u001b[0;34m=\u001b[0m \u001b[0;34m(\u001b[0m\u001b[0mtime\u001b[0m\u001b[0;34m.\u001b[0m\u001b[0mtime\u001b[0m\u001b[0;34m(\u001b[0m\u001b[0;34m)\u001b[0m \u001b[0;34m-\u001b[0m \u001b[0mstart_time\u001b[0m\u001b[0;34m)\u001b[0m\u001b[0;34m\u001b[0m\u001b[0;34m\u001b[0m\u001b[0m\n\u001b[1;32m     34\u001b[0m       \u001b[0;32mreturn\u001b[0m \u001b[0mself\u001b[0m\u001b[0;34m.\u001b[0m\u001b[0mlabels\u001b[0m\u001b[0;34m[\u001b[0m\u001b[0mnp\u001b[0m\u001b[0;34m.\u001b[0m\u001b[0margmin\u001b[0m\u001b[0;34m(\u001b[0m\u001b[0ml\u001b[0m\u001b[0;34m)\u001b[0m\u001b[0;34m]\u001b[0m\u001b[0;34m,\u001b[0m\u001b[0mself\u001b[0m\u001b[0;34m.\u001b[0m\u001b[0mlabels\u001b[0m\u001b[0;34m,\u001b[0m\u001b[0ml\u001b[0m\u001b[0;34m,\u001b[0m\u001b[0mtimes\u001b[0m\u001b[0;34m\u001b[0m\u001b[0;34m\u001b[0m\u001b[0m\n",
            "\u001b[0;32m<ipython-input-132-91de70ccbd2b>\u001b[0m in \u001b[0;36minv\u001b[0;34m(self, s0, CB, w)\u001b[0m\n\u001b[1;32m     55\u001b[0m           \u001b[0;31m#CB[si][0] = () le reste dependra de la fonction de similarité (dimensions)\u001b[0m\u001b[0;34m\u001b[0m\u001b[0;34m\u001b[0m\u001b[0;34m\u001b[0m\u001b[0m\n\u001b[1;32m     56\u001b[0m           \u001b[0msigS_si\u001b[0m \u001b[0;34m=\u001b[0m \u001b[0mself\u001b[0m\u001b[0;34m.\u001b[0m\u001b[0msigS\u001b[0m\u001b[0;34m(\u001b[0m\u001b[0ms0\u001b[0m\u001b[0;34m[\u001b[0m\u001b[0;36m0\u001b[0m\u001b[0;34m]\u001b[0m\u001b[0;34m,\u001b[0m\u001b[0mCB\u001b[0m\u001b[0;34m[\u001b[0m\u001b[0msi\u001b[0m\u001b[0;34m]\u001b[0m\u001b[0;34m[\u001b[0m\u001b[0;36m0\u001b[0m\u001b[0;34m]\u001b[0m\u001b[0;34m,\u001b[0m\u001b[0mself\u001b[0m\u001b[0;34m.\u001b[0m\u001b[0mw\u001b[0m\u001b[0;34m)\u001b[0m\u001b[0;34m\u001b[0m\u001b[0;34m\u001b[0m\u001b[0m\n\u001b[0;32m---> 57\u001b[0;31m           \u001b[0msigS_sj\u001b[0m \u001b[0;34m=\u001b[0m \u001b[0mself\u001b[0m\u001b[0;34m.\u001b[0m\u001b[0msigS\u001b[0m\u001b[0;34m(\u001b[0m\u001b[0ms0\u001b[0m\u001b[0;34m[\u001b[0m\u001b[0;36m0\u001b[0m\u001b[0;34m]\u001b[0m\u001b[0;34m,\u001b[0m\u001b[0mCB\u001b[0m\u001b[0;34m[\u001b[0m\u001b[0msj\u001b[0m\u001b[0;34m]\u001b[0m\u001b[0;34m[\u001b[0m\u001b[0;36m0\u001b[0m\u001b[0;34m]\u001b[0m\u001b[0;34m,\u001b[0m\u001b[0mself\u001b[0m\u001b[0;34m.\u001b[0m\u001b[0mw\u001b[0m\u001b[0;34m)\u001b[0m\u001b[0;34m\u001b[0m\u001b[0;34m\u001b[0m\u001b[0m\n\u001b[0m\u001b[1;32m     58\u001b[0m           \u001b[0msigR_si\u001b[0m \u001b[0;34m=\u001b[0m \u001b[0mself\u001b[0m\u001b[0;34m.\u001b[0m\u001b[0msigR\u001b[0m\u001b[0;34m(\u001b[0m\u001b[0ms0\u001b[0m\u001b[0;34m[\u001b[0m\u001b[0;36m1\u001b[0m\u001b[0;34m]\u001b[0m\u001b[0;34m,\u001b[0m\u001b[0mCB\u001b[0m\u001b[0;34m[\u001b[0m\u001b[0msi\u001b[0m\u001b[0;34m]\u001b[0m\u001b[0;34m[\u001b[0m\u001b[0;36m1\u001b[0m\u001b[0;34m]\u001b[0m\u001b[0;34m)\u001b[0m\u001b[0;34m\u001b[0m\u001b[0;34m\u001b[0m\u001b[0m\n\u001b[1;32m     59\u001b[0m           \u001b[0msigR_sj\u001b[0m \u001b[0;34m=\u001b[0m \u001b[0mself\u001b[0m\u001b[0;34m.\u001b[0m\u001b[0msigR\u001b[0m\u001b[0;34m(\u001b[0m\u001b[0ms0\u001b[0m\u001b[0;34m[\u001b[0m\u001b[0;36m1\u001b[0m\u001b[0;34m]\u001b[0m\u001b[0;34m,\u001b[0m\u001b[0mCB\u001b[0m\u001b[0;34m[\u001b[0m\u001b[0msj\u001b[0m\u001b[0;34m]\u001b[0m\u001b[0;34m[\u001b[0m\u001b[0;36m1\u001b[0m\u001b[0;34m]\u001b[0m\u001b[0;34m)\u001b[0m\u001b[0;34m\u001b[0m\u001b[0;34m\u001b[0m\u001b[0m\n",
            "\u001b[0;32m<ipython-input-120-3a4abf0ef82d>\u001b[0m in \u001b[0;36msigS\u001b[0;34m(s1, s2, w)\u001b[0m\n\u001b[1;32m      2\u001b[0m \u001b[0;32mdef\u001b[0m \u001b[0msigS\u001b[0m\u001b[0;34m(\u001b[0m\u001b[0ms1\u001b[0m\u001b[0;34m,\u001b[0m\u001b[0ms2\u001b[0m\u001b[0;34m,\u001b[0m\u001b[0mw\u001b[0m \u001b[0;34m=\u001b[0m\u001b[0;32mNone\u001b[0m\u001b[0;34m)\u001b[0m\u001b[0;34m:\u001b[0m\u001b[0;34m\u001b[0m\u001b[0;34m\u001b[0m\u001b[0m\n\u001b[1;32m      3\u001b[0m   \u001b[0;32mif\u001b[0m \u001b[0misinstance\u001b[0m\u001b[0;34m(\u001b[0m\u001b[0ms1\u001b[0m\u001b[0;34m,\u001b[0m \u001b[0mnp\u001b[0m\u001b[0;34m.\u001b[0m\u001b[0mndarray\u001b[0m\u001b[0;34m)\u001b[0m\u001b[0;34m:\u001b[0m\u001b[0;34m\u001b[0m\u001b[0;34m\u001b[0m\u001b[0m\n\u001b[0;32m----> 4\u001b[0;31m     \u001b[0;32mreturn\u001b[0m \u001b[0;34m(\u001b[0m\u001b[0;34m(\u001b[0m\u001b[0mnp\u001b[0m\u001b[0;34m.\u001b[0m\u001b[0mabs\u001b[0m\u001b[0;34m(\u001b[0m\u001b[0ms1\u001b[0m\u001b[0;34m-\u001b[0m\u001b[0ms2\u001b[0m\u001b[0;34m)\u001b[0m\u001b[0;34m)\u001b[0m\u001b[0;34m.\u001b[0m\u001b[0msum\u001b[0m\u001b[0;34m(\u001b[0m\u001b[0;34m)\u001b[0m\u001b[0;34m)\u001b[0m\u001b[0;34m**\u001b[0m\u001b[0;36m2\u001b[0m\u001b[0;34m\u001b[0m\u001b[0;34m\u001b[0m\u001b[0m\n\u001b[0m\u001b[1;32m      5\u001b[0m   \u001b[0;32mreturn\u001b[0m \u001b[0;34m(\u001b[0m\u001b[0mnp\u001b[0m\u001b[0;34m.\u001b[0m\u001b[0mabs\u001b[0m\u001b[0;34m(\u001b[0m\u001b[0ms1\u001b[0m\u001b[0;34m-\u001b[0m\u001b[0ms2\u001b[0m\u001b[0;34m)\u001b[0m\u001b[0;34m)\u001b[0m\u001b[0;34m**\u001b[0m\u001b[0;36m2\u001b[0m\u001b[0;34m\u001b[0m\u001b[0;34m\u001b[0m\u001b[0m\n\u001b[1;32m      6\u001b[0m   \u001b[0;31m# (np.abs(s1-s2)) ou (np.abs(s1-s2))^2\u001b[0m\u001b[0;34m\u001b[0m\u001b[0;34m\u001b[0m\u001b[0;34m\u001b[0m\u001b[0m\n",
            "\u001b[0;32m/usr/local/lib/python3.7/dist-packages/numpy/core/_methods.py\u001b[0m in \u001b[0;36m_sum\u001b[0;34m(a, axis, dtype, out, keepdims, initial, where)\u001b[0m\n\u001b[1;32m     46\u001b[0m def _sum(a, axis=None, dtype=None, out=None, keepdims=False,\n\u001b[1;32m     47\u001b[0m          initial=_NoValue, where=True):\n\u001b[0;32m---> 48\u001b[0;31m     \u001b[0;32mreturn\u001b[0m \u001b[0mumr_sum\u001b[0m\u001b[0;34m(\u001b[0m\u001b[0ma\u001b[0m\u001b[0;34m,\u001b[0m \u001b[0maxis\u001b[0m\u001b[0;34m,\u001b[0m \u001b[0mdtype\u001b[0m\u001b[0;34m,\u001b[0m \u001b[0mout\u001b[0m\u001b[0;34m,\u001b[0m \u001b[0mkeepdims\u001b[0m\u001b[0;34m,\u001b[0m \u001b[0minitial\u001b[0m\u001b[0;34m,\u001b[0m \u001b[0mwhere\u001b[0m\u001b[0;34m)\u001b[0m\u001b[0;34m\u001b[0m\u001b[0;34m\u001b[0m\u001b[0m\n\u001b[0m\u001b[1;32m     49\u001b[0m \u001b[0;34m\u001b[0m\u001b[0m\n\u001b[1;32m     50\u001b[0m def _prod(a, axis=None, dtype=None, out=None, keepdims=False,\n",
            "\u001b[0;31mKeyboardInterrupt\u001b[0m: "
          ]
        }
      ]
    },
    {
      "cell_type": "code",
      "source": [
        "\n",
        "print(d)\n",
        "lists = sorted(d.items())\n",
        "labels,times = zip(*lists)\n"
      ],
      "metadata": {
        "id": "3kx-vPntqT2D",
        "outputId": "28f6aa55-18f6-474b-f63a-3e485a5083da",
        "colab": {
          "base_uri": "https://localhost:8080/"
        }
      },
      "id": "3kx-vPntqT2D",
      "execution_count": 130,
      "outputs": [
        {
          "output_type": "stream",
          "name": "stdout",
          "text": [
            "{0: [0.0006380081176757812, 0.0004994869232177734, 0.0005140304565429688, 0.0004940032958984375, 0.0005052089691162109, 0.0005009174346923828, 0.0005130767822265625, 0.0004980564117431641, 0.0005338191986083984, 0.0004906654357910156, 0.0005071163177490234, 0.0004947185516357422, 0.0005080699920654297, 0.00048661231994628906, 0.0005099773406982422, 0.0005078315734863281, 0.0005204677581787109, 0.00048804283142089844, 0.0005090236663818359, 0.0005004405975341797, 0.0004999637603759766, 0.0004897117614746094, 0.0005002021789550781, 0.0004851818084716797, 0.0005948543548583984, 0.0004968643188476562, 0.0005075931549072266, 0.0004863739013671875, 0.000499725341796875, 0.0004942417144775391, 0.0005047321319580078, 0.0004889965057373047, 0.000499725341796875, 0.00048422813415527344, 0.0005023479461669922, 0.0004858970642089844, 0.0004992485046386719, 0.0004851818084716797, 0.0005066394805908203, 0.0004870891571044922, 0.0005156993865966797, 0.0004870891571044922, 0.0005347728729248047, 0.0004951953887939453, 0.000499725341796875, 0.0004837512969970703, 0.0005023479461669922, 0.0004837512969970703, 0.0004994869232177734, 0.0004839897155761719, 0.0005037784576416016, 0.0004899501800537109, 0.0004954338073730469, 0.00048232078552246094, 0.0005154609680175781, 0.0004963874816894531, 0.0006253719329833984, 0.0005979537963867188, 0.0004811286926269531, 0.0005309581756591797, 0.0004954338073730469, 0.0005652904510498047, 0.00048422813415527344, 0.0007185935974121094, 0.0005171298980712891, 0.0005550384521484375, 0.0005211830139160156, 0.0004930496215820312, 0.0005271434783935547, 0.0005040168762207031, 0.0004987716674804688, 0.0004942417144775391, 0.0005068778991699219, 0.0004975795745849609, 0.0005083084106445312, 0.0004916191101074219, 0.0006577968597412109, 0.0005967617034912109, 0.0005154609680175781, 0.0005030632019042969, 0.0005037784576416016, 0.0004954338073730469, 0.0005273818969726562, 0.0004832744598388672, 0.0005033016204833984, 0.0004830360412597656, 0.0005197525024414062, 0.0004930496215820312, 0.0004899501800537109, 0.00048542022705078125, 0.0005064010620117188, 0.00048041343688964844, 0.0004951953887939453, 0.0005137920379638672, 0.0004949569702148438, 0.0004820823669433594, 0.0005087852478027344, 0.00048351287841796875, 0.000499725341796875, 0.0004892349243164062, 0.0004885196685791016, 0.00048041343688964844, 0.0004985332489013672, 0.0005059242248535156, 0.0004949569702148438, 0.0004863739013671875, 0.0004904270172119141, 0.0004868507385253906, 0.0004897117614746094, 0.0004940032958984375, 0.0005004405975341797, 0.0004849433898925781, 0.0004928112030029297, 0.0004868507385253906, 0.0005033016204833984, 0.0004975795745849609, 0.0004954338073730469, 0.00048828125, 0.0004906654357910156, 0.0004856586456298828, 0.0005300045013427734, 0.0004849433898925781, 0.0004913806915283203, 0.0004858970642089844, 0.0004956722259521484, 0.0004892349243164062, 0.0004892349243164062, 0.0004837512969970703, 0.0004892349243164062, 0.0004944801330566406, 0.0004925727844238281, 0.00047969818115234375, 0.0005040168762207031, 0.00047969818115234375, 0.0005102157592773438, 0.0004937648773193359, 0.0004985332489013672, 0.0004963874816894531, 0.000492095947265625, 0.0004849433898925781, 0.0005004405975341797, 0.0004851818084716797, 0.0004818439483642578, 0.0004811286926269531, 0.0004944801330566406, 0.0004904270172119141, 0.0005064010620117188, 0.0005526542663574219, 0.00048661231994628906, 0.0004899501800537109], 1: [0.0005457401275634766, 0.0005152225494384766, 0.0005254745483398438, 0.0004971027374267578, 0.0005040168762207031, 0.0004975795745849609, 0.0004971027374267578, 0.00049591064453125, 0.0005040168762207031, 0.0006761550903320312, 0.0004985332489013672, 0.0004956722259521484, 0.0005176067352294922, 0.00048732757568359375, 0.0004947185516357422, 0.0005066394805908203, 0.0004942417144775391, 0.0004968643188476562, 0.0004992485046386719, 0.0004949569702148438, 0.0004913806915283203, 0.0004894733428955078, 0.0005054473876953125, 0.0005283355712890625, 0.0005106925964355469, 0.0004906654357910156, 0.0006079673767089844, 0.0005011558532714844, 0.0005269050598144531, 0.0004990100860595703, 0.0004994869232177734, 0.0004973411560058594, 0.0004899501800537109, 0.0004928112030029297, 0.0005011558532714844, 0.000499725341796875, 0.0004885196685791016, 0.0004940032958984375, 0.0004951953887939453, 0.0005011558532714844, 0.0004885196685791016, 0.0004930496215820312, 0.0004975795745849609, 0.0005004405975341797, 0.0004940032958984375, 0.0005083084106445312, 0.0004949569702148438, 0.0004994869232177734, 0.0004961490631103516, 0.0005040168762207031, 0.0005004405975341797, 0.0004990100860595703, 0.0005023479461669922, 0.0005009174346923828, 0.0004923343658447266, 0.0005180835723876953, 0.0004999637603759766, 0.0005085468292236328, 0.0005011558532714844, 0.0005059242248535156, 0.0004901885986328125, 0.0004928112030029297, 0.0004937648773193359, 0.0005283355712890625, 0.0005109310150146484, 0.0005085468292236328, 0.0005011558532714844, 0.0005013942718505859, 0.0005004405975341797, 0.0005068778991699219, 0.0005023479461669922, 0.0004925727844238281, 0.0005397796630859375, 0.0005080699920654297, 0.0004930496215820312, 0.0004937648773193359, 0.0005033016204833984, 0.000499725341796875, 0.0004909038543701172, 0.0004961490631103516, 0.0004966259002685547, 0.0005021095275878906, 0.0005214214324951172, 0.0005013942718505859, 0.0005064010620117188, 0.0005240440368652344, 0.0004942417144775391, 0.0004978179931640625, 0.0004932880401611328, 0.0005383491516113281, 0.0005745887756347656, 0.001359701156616211, 0.0005180835723876953, 0.0005056858062744141, 0.0005066394805908203, 0.0006387233734130859, 0.0005085468292236328, 0.0005812644958496094, 0.0005805492401123047, 0.0005714893341064453, 0.0014641284942626953, 0.0008704662322998047, 0.0006470680236816406, 0.0005114078521728516, 0.0004775524139404297, 0.0005042552947998047, 0.0004820823669433594, 0.0005142688751220703, 0.0004792213439941406, 0.0005009174346923828, 0.00048542022705078125, 0.0004994869232177734, 0.0008261203765869141, 0.0005166530609130859, 0.0004961490631103516, 0.0005133152008056641, 0.0004968643188476562, 0.0005042552947998047, 0.0004885196685791016, 0.0005075931549072266, 0.00048828125, 0.0005006790161132812, 0.0004916191101074219, 0.0005095005035400391, 0.0004885196685791016, 0.0005037784576416016, 0.0005011558532714844, 0.0005183219909667969, 0.0005035400390625, 0.0005128383636474609, 0.00049591064453125, 0.0005054473876953125, 0.0005056858062744141, 0.0005066394805908203, 0.0004875659942626953, 0.0005071163177490234, 0.0005092620849609375, 0.0004947185516357422, 0.000492095947265625, 0.0005085468292236328, 0.00048828125, 0.000499725341796875, 0.0004892349243164062, 0.0005037784576416016, 0.0004856586456298828, 0.0005123615264892578, 0.0004913806915283203, 0.0005166530609130859, 0.0004849433898925781, 0.0005013942718505859], 2: [0.0005147457122802734, 0.0004918575286865234, 0.0005741119384765625, 0.0005033016204833984, 0.0005156993865966797, 0.0004930496215820312, 0.0005233287811279297, 0.0004925727844238281, 0.0005285739898681641, 0.0004906654357910156, 0.0005238056182861328, 0.0004930496215820312, 0.0005044937133789062, 0.0004916191101074219, 0.00051116943359375, 0.0004930496215820312, 0.0005006790161132812, 0.0004940032958984375, 0.0005013942718505859, 0.00048828125, 0.0005114078521728516, 0.0004916191101074219, 0.0005013942718505859, 0.0005035400390625, 0.0005047321319580078, 0.0005064010620117188, 0.0005102157592773438, 0.00048661231994628906, 0.0004982948303222656, 0.0004906654357910156, 0.0005285739898681641, 0.0004928112030029297, 0.0005254745483398438, 0.00049591064453125, 0.0005009174346923828, 0.0004863739013671875, 0.0004999637603759766, 0.0004916191101074219, 0.00051116943359375, 0.00048804283142089844, 0.0005064010620117188, 0.0005006790161132812, 0.0005066394805908203, 0.0004899501800537109, 0.0005004405975341797, 0.0004911422729492188, 0.0005152225494384766, 0.0004906654357910156, 0.0005037784576416016, 0.0004887580871582031, 0.0005192756652832031, 0.0005042552947998047, 0.0005285739898681641, 0.000492095947265625, 0.0005078315734863281, 0.0004894733428955078, 0.0005669593811035156, 0.0004961490631103516, 0.0005037784576416016, 0.0004935264587402344, 0.0005288124084472656, 0.0005049705505371094, 0.0005109310150146484, 0.000492095947265625, 0.0005106925964355469, 0.0005056858062744141, 0.0005013942718505859, 0.0004868507385253906, 0.0005314350128173828, 0.000492095947265625, 0.0005481243133544922, 0.0005168914794921875, 0.0004856586456298828, 0.0004878044128417969, 0.0004942417144775391, 0.0004837512969970703, 0.0005221366882324219, 0.00048422813415527344, 0.0004990100860595703, 0.00048661231994628906, 0.000507354736328125, 0.0004858970642089844, 0.0004932880401611328, 0.00048351287841796875, 0.0005197525024414062, 0.0005900859832763672, 0.0004870891571044922, 0.0004982948303222656, 0.0004889965057373047, 0.0005083084106445312, 0.0004875659942626953, 0.0005030632019042969, 0.00048422813415527344, 0.0005023479461669922, 0.0004894733428955078, 0.0004978179931640625, 0.0004897117614746094, 0.0004942417144775391, 0.0005054473876953125, 0.0004899501800537109, 0.0004999637603759766, 0.0004932880401611328, 0.0005033016204833984, 0.0004904270172119141, 0.0005044937133789062, 0.0005075931549072266, 0.0005052089691162109, 0.0004940032958984375, 0.000499725341796875, 0.0004916191101074219, 0.0004968643188476562, 0.0005087852478027344, 0.0004942417144775391, 0.0004858970642089844, 0.0004980564117431641, 0.00048661231994628906, 0.0005054473876953125, 0.0004858970642089844, 0.0005009174346923828, 0.0004878044128417969, 0.0005102157592773438, 0.0004935264587402344, 0.0004980564117431641, 0.0004901885986328125, 0.0005068778991699219, 0.0004894733428955078, 0.0005192756652832031, 0.00049591064453125, 0.0005123615264892578, 0.0004947185516357422, 0.0005049705505371094, 0.0004975795745849609, 0.000507354736328125, 0.0004870891571044922, 0.0004973411560058594, 0.0004894733428955078, 0.0005102157592773438, 0.00048732757568359375, 0.0005071163177490234, 0.0004928112030029297, 0.0005037784576416016, 0.0005061626434326172, 0.0005285739898681641, 0.0004994869232177734, 0.0005013942718505859, 0.0005192756652832031, 0.0005161762237548828, 0.0005311965942382812, 0.00048232078552246094, 0.0004932880401611328], 3: [0.000537872314453125, 0.0005171298980712891, 0.0005037784576416016, 0.0005266666412353516, 0.0004978179931640625, 0.0016503334045410156, 0.0008943080902099609, 0.0009002685546875, 0.0008800029754638672, 0.0009377002716064453, 0.0008924007415771484, 0.0009272098541259766, 0.0014834403991699219, 0.0009126663208007812, 0.0009627342224121094, 0.0009260177612304688, 0.0009331703186035156, 0.0008766651153564453, 0.0008666515350341797, 0.0009827613830566406, 0.0009601116180419922, 0.0009341239929199219, 0.0009162425994873047, 0.0010416507720947266, 0.0005881786346435547, 0.0004971027374267578, 0.0005347728729248047, 0.0004916191101074219, 0.0005240440368652344, 0.00049591064453125, 0.0005300045013427734, 0.0005245208740234375, 0.0008702278137207031, 0.0008013248443603516, 0.0005247592926025391, 0.0004932880401611328, 0.0005257129669189453, 0.0004899501800537109, 0.000518798828125, 0.00048732757568359375, 0.0005269050598144531, 0.0004885196685791016, 0.0005202293395996094, 0.0004887580871582031, 0.000530242919921875, 0.0005002021789550781, 0.0005309581756591797, 0.0004928112030029297, 0.0005345344543457031, 0.0005004405975341797, 0.0005195140838623047, 0.00048661231994628906, 0.000507354736328125, 0.0005152225494384766, 0.0005156993865966797, 0.0005071163177490234, 0.0005052089691162109, 0.0004930496215820312, 0.0005125999450683594, 0.0004987716674804688, 0.0005090236663818359, 0.0005011558532714844, 0.0005166530609130859, 0.0005197525024414062, 0.0005135536193847656, 0.0004930496215820312, 0.0005261898040771484, 0.0004899501800537109, 0.0005018711090087891, 0.0005333423614501953, 0.0005075931549072266, 0.0004928112030029297, 0.0005118846893310547, 0.0004951953887939453, 0.0005123615264892578, 0.0004918575286865234, 0.0005040168762207031, 0.0004875659942626953, 0.0005135536193847656, 0.0007026195526123047, 0.0004913806915283203, 0.0005116462707519531, 0.0004937648773193359, 0.0005161762237548828, 0.0004906654357910156, 0.0005018711090087891, 0.0004949569702148438, 0.0005087852478027344, 0.0005011558532714844, 0.0005297660827636719, 0.0004932880401611328, 0.0005159378051757812, 0.00051116943359375, 0.0005092620849609375, 0.0004913806915283203, 0.0005121231079101562, 0.0004949569702148438, 0.0005068778991699219, 0.0004966259002685547, 0.0005176067352294922, 0.0004944801330566406, 0.0005097389221191406, 0.0004944801330566406, 0.0005381107330322266, 0.0004975795745849609, 0.000522613525390625, 0.0004916191101074219, 0.0005133152008056641, 0.0005056858062744141, 0.0005054473876953125, 0.0004985332489013672, 0.0005071163177490234, 0.0004885196685791016, 0.0005066394805908203, 0.0004889965057373047, 0.0005068778991699219, 0.0004885196685791016, 0.0005035400390625, 0.0004947185516357422, 0.0005118846893310547, 0.0004916191101074219, 0.0005040168762207031, 0.0004935264587402344, 0.0005121231079101562, 0.0004909038543701172, 0.0005035400390625, 0.0004916191101074219, 0.0005033016204833984, 0.0005023479461669922, 0.0005016326904296875, 0.0004911422729492188, 0.0005025863647460938, 0.0005154609680175781, 0.0005033016204833984, 0.00049591064453125, 0.0005044937133789062, 0.0004897117614746094, 0.0005114078521728516, 0.0005886554718017578, 0.0006611347198486328, 0.0005600452423095703, 0.0004990100860595703, 0.0005109310150146484, 0.0004935264587402344, 0.0005030632019042969, 0.0004906654357910156, 0.0005099773406982422, 0.0004904270172119141, 0.0005128383636474609, 0.0004932880401611328], 4: [0.00054931640625, 0.0004928112030029297, 0.0005040168762207031, 0.0004923343658447266, 0.0005092620849609375, 0.0004863739013671875, 0.0005013942718505859, 0.0004954338073730469, 0.0005104541778564453, 0.0004930496215820312, 0.0005023479461669922, 0.00048828125, 0.0004980564117431641, 0.0004913806915283203, 0.0005054473876953125, 0.0004856586456298828, 0.0005011558532714844, 0.0004937648773193359, 0.0005064010620117188, 0.00048804283142089844, 0.0005145072937011719, 0.0005321502685546875, 0.0005104541778564453, 0.0004832744598388672, 0.0005080699920654297, 0.0004858970642089844, 0.0005002021789550781, 0.00048732757568359375, 0.0005033016204833984, 0.00048732757568359375, 0.0004985332489013672, 0.00048470497131347656, 0.0005314350128173828, 0.0004956722259521484, 0.0005171298980712891, 0.0004863739013671875, 0.0005061626434326172, 0.0004954338073730469, 0.0005102157592773438, 0.0005342960357666016, 0.0005018711090087891, 0.0004889965057373047, 0.0004971027374267578, 0.0004994869232177734, 0.0005047321319580078, 0.000484466552734375, 0.0004975795745849609, 0.0005385875701904297, 0.0005197525024414062, 0.0004911422729492188, 0.0005028247833251953, 0.0004992485046386719, 0.0004978179931640625, 0.0004870891571044922, 0.0004980564117431641, 0.00048542022705078125, 0.0005080699920654297, 0.0006492137908935547, 0.0004901885986328125, 0.0005011558532714844, 0.0004949569702148438, 0.0005223751068115234, 0.0005006790161132812, 0.0005140304565429688, 0.0004904270172119141, 0.0005054473876953125, 0.0004911422729492188, 0.0005114078521728516, 0.0004875659942626953, 0.0005002021789550781, 0.0004901885986328125, 0.0005052089691162109, 0.0004885196685791016, 0.0004980564117431641, 0.0004856586456298828, 0.0005059242248535156, 0.000484466552734375, 0.0005037784576416016, 0.00048422813415527344, 0.0005044937133789062, 0.0004878044128417969, 0.0005006790161132812, 0.000492095947265625, 0.00049591064453125, 0.00048804283142089844, 0.0005285739898681641, 0.0004887580871582031, 0.0005156993865966797, 0.0004887580871582031, 0.0004982948303222656, 0.0004856586456298828, 0.0005004405975341797, 0.0004849433898925781, 0.0005042552947998047, 0.0004906654357910156, 0.0004971027374267578, 0.0004885196685791016, 0.0005829334259033203, 0.0006389617919921875, 0.0005033016204833984, 0.0005083084106445312, 0.0005095005035400391, 0.0004906654357910156, 0.0005021095275878906, 0.00048613548278808594, 0.0005009174346923828, 0.0004971027374267578, 0.0004992485046386719, 0.0004956722259521484, 0.0004963874816894531, 0.0004839897155761719, 0.0005092620849609375, 0.0004870891571044922, 0.0004994869232177734, 0.00048828125, 0.0005419254302978516, 0.000492095947265625, 0.0004973411560058594, 0.0004892349243164062, 0.0005085468292236328, 0.00048661231994628906, 0.0005061626434326172, 0.0004925727844238281, 0.0005114078521728516, 0.0004858970642089844, 0.0005052089691162109, 0.0004978179931640625, 0.0005407333374023438, 0.0004868507385253906, 0.0004968643188476562, 0.0005831718444824219, 0.000499725341796875, 0.0004911422729492188, 0.0005135536193847656, 0.0005090236663818359, 0.0005068778991699219, 0.0004949569702148438, 0.0007922649383544922, 0.0005278587341308594, 0.0005011558532714844, 0.0005207061767578125, 0.0004956722259521484, 0.0005164146423339844, 0.0004961490631103516, 0.0005030632019042969, 0.0004947185516357422, 0.0005121231079101562, 0.0004944801330566406, 0.0005049705505371094, 0.0004906654357910156]}\n"
          ]
        }
      ]
    },
    {
      "cell_type": "code",
      "source": [
        "\n",
        "\n",
        "print(d)\n",
        "lists = sorted(d.items())\n",
        "labels,times = zip(*lists)\n",
        "\n",
        "plt.xlabel('Predicted Price')\n",
        "plt.ylabel('time')\n",
        "plt.title('Time for each potential price ')\n",
        "plt.plot(labels,times,'b',label = 'temps ')\n",
        "plt.legend()\n",
        "plt.show()"
      ],
      "metadata": {
        "id": "yfx5nyq9ek9r"
      },
      "id": "yfx5nyq9ek9r",
      "execution_count": null,
      "outputs": []
    },
    {
      "cell_type": "code",
      "source": [
        "print(d[2])"
      ],
      "metadata": {
        "id": "OkGxKBjspvX4",
        "outputId": "3ed5ed3e-3ddd-4873-c7ff-0e3ad044c503",
        "colab": {
          "base_uri": "https://localhost:8080/"
        }
      },
      "id": "OkGxKBjspvX4",
      "execution_count": 127,
      "outputs": [
        {
          "output_type": "stream",
          "name": "stdout",
          "text": [
            "[0.0005156993865966797, 0.0005092620849609375, 0.0004901885986328125, 0.0005030632019042969, 0.0004906654357910156, 0.0005116462707519531, 0.0004878044128417969, 0.0005245208740234375, 0.0004885196685791016, 0.0005102157592773438, 0.0004918575286865234, 0.0004949569702148438, 0.00048542022705078125, 0.0005080699920654297, 0.00048828125, 0.0005047321319580078, 0.000492095947265625, 0.0005097389221191406, 0.0004923343658447266, 0.0005056858062744141, 0.0004966259002685547, 0.0005102157592773438, 0.0004923343658447266, 0.0005035400390625, 0.0004904270172119141, 0.0005040168762207031, 0.0004894733428955078, 0.0005087852478027344, 0.0004878044128417969, 0.0005004405975341797, 0.0004937648773193359, 0.0005097389221191406, 0.00048828125, 0.0004990100860595703, 0.0004889965057373047, 0.0005118846893310547, 0.0004899501800537109, 0.0005016326904296875, 0.0004892349243164062, 0.0005071163177490234, 0.0005037784576416016, 0.0005037784576416016, 0.0004911422729492188, 0.0005328655242919922, 0.0004811286926269531, 0.0004966259002685547, 0.0006196498870849609, 0.0005085468292236328, 0.0004975795745849609, 0.0004911422729492188, 0.0005049705505371094, 0.00048232078552246094, 0.0004940032958984375, 0.0005054473876953125, 0.0005037784576416016, 0.0004839897155761719, 0.0005140304565429688, 0.0004825592041015625, 0.0005164146423339844, 0.0004837512969970703, 0.0004999637603759766, 0.0004875659942626953, 0.0005056858062744141, 0.0005555152893066406, 0.00049591064453125, 0.0004825592041015625, 0.0004937648773193359, 0.00048279762268066406, 0.0004940032958984375, 0.00048351287841796875, 0.0005075931549072266, 0.0004899501800537109, 0.0004961490631103516, 0.0004851818084716797, 0.0005044937133789062, 0.00048470497131347656, 0.0004947185516357422, 0.0004940032958984375, 0.0005028247833251953, 0.0004897117614746094, 0.0005235671997070312, 0.00048828125, 0.0004990100860595703, 0.00049591064453125, 0.0004963874816894531, 0.0004889965057373047, 0.0005021095275878906, 0.0004913806915283203, 0.0004942417144775391, 0.00048828125, 0.00048661231994628906, 0.0005059242248535156, 0.000484466552734375, 0.0004949569702148438, 0.0004830360412597656, 0.0005049705505371094, 0.0004837512969970703, 0.0005009174346923828, 0.0004975795745849609, 0.0005102157592773438, 0.0004916191101074219, 0.0005011558532714844, 0.0004887580871582031, 0.0005104541778564453, 0.0004868507385253906, 0.0004980564117431641, 0.0004870891571044922, 0.0005047321319580078, 0.0004839897155761719, 0.0004966259002685547, 0.0004837512969970703, 0.000507354736328125, 0.00048542022705078125, 0.0004973411560058594, 0.0004839897155761719, 0.0004971027374267578, 0.0004825592041015625, 0.0005040168762207031, 0.0004863739013671875, 0.0004963874816894531, 0.0004944801330566406, 0.0005054473876953125, 0.00048160552978515625, 0.0005218982696533203, 0.0004825592041015625, 0.0004980564117431641, 0.0004832744598388672, 0.0004994869232177734, 0.00048828125, 0.0005059242248535156, 0.0004856586456298828, 0.0005016326904296875, 0.0004868507385253906, 0.0005080699920654297, 0.00048613548278808594, 0.0005180835723876953, 0.0004858970642089844, 0.0005049705505371094, 0.00048422813415527344, 0.0004968643188476562, 0.00048351287841796875, 0.0005087852478027344, 0.00048470497131347656, 0.000499725341796875, 0.0004868507385253906, 0.0005044937133789062, 0.00048661231994628906, 0.0005006790161132812, 0.00048804283142089844, 0.0004994869232177734]\n"
          ]
        }
      ]
    },
    {
      "cell_type": "code",
      "source": [
        ""
      ],
      "metadata": {
        "id": "IJrwmODYp4B6"
      },
      "id": "IJrwmODYp4B6",
      "execution_count": null,
      "outputs": []
    }
  ],
  "metadata": {
    "kernelspec": {
      "display_name": "Python 3 (ipykernel)",
      "language": "python",
      "name": "python3"
    },
    "language_info": {
      "codemirror_mode": {
        "name": "ipython",
        "version": 3
      },
      "file_extension": ".py",
      "mimetype": "text/x-python",
      "name": "python",
      "nbconvert_exporter": "python",
      "pygments_lexer": "ipython3",
      "version": "3.8.5"
    },
    "colab": {
      "name": "Main.ipynb",
      "provenance": [],
      "toc_visible": true,
      "include_colab_link": true
    }
  },
  "nbformat": 4,
  "nbformat_minor": 5
}