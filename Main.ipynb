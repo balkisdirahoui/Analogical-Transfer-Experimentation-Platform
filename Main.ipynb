{
  "cells": [
    {
      "cell_type": "markdown",
      "metadata": {
        "id": "view-in-github",
        "colab_type": "text"
      },
      "source": [
        "<a href=\"https://colab.research.google.com/github/balkisdirahoui/pldac-/blob/main/Main.ipynb\" target=\"_parent\"><img src=\"https://colab.research.google.com/assets/colab-badge.svg\" alt=\"Open In Colab\"/></a>"
      ]
    },
    {
      "cell_type": "code",
      "execution_count": 19,
      "id": "4f53dbf8",
      "metadata": {
        "id": "4f53dbf8",
        "colab": {
          "base_uri": "https://localhost:8080/"
        },
        "outputId": "193cb983-99db-4044-e483-ea022ff41091"
      },
      "outputs": [
        {
          "output_type": "stream",
          "name": "stdout",
          "text": [
            "Drive already mounted at /content/drive; to attempt to forcibly remount, call drive.mount(\"/content/drive\", force_remount=True).\n"
          ]
        }
      ],
      "source": [
        "import numpy as np\n",
        "import sklearn\n",
        "from sklearn.neighbors import KNeighborsClassifier as KNN\n",
        "from sklearn import tree\n",
        "from sklearn.model_selection import train_test_split\n",
        "import math\n",
        "import timeit\n",
        "import time\n",
        "import matplotlib.pyplot as plt\n",
        "from sklearn import datasets\n",
        "from google.colab import drive\n",
        "drive.mount('/content/drive')\n",
        "import sys \n",
        "sys.path.append('/content/drive/MyDrive/utilitaire')\n",
        "\n",
        "#%load_ext autoreload\n",
        "#%autoreload 2"
      ]
    },
    {
      "cell_type": "markdown",
      "id": "b5ee5194",
      "metadata": {
        "id": "b5ee5194"
      },
      "source": [
        "### Objet split"
      ]
    },
    {
      "cell_type": "code",
      "execution_count": 2,
      "id": "71f92c77",
      "metadata": {
        "id": "71f92c77"
      },
      "outputs": [],
      "source": [
        "class split():\n",
        "  \n",
        "    def __init_(self,data):\n",
        "        self.data = data\n",
        "        \n",
        "    def split(self):\n",
        "        return data\n",
        "\n",
        "class splitML(split):\n",
        "    def __init_(self,data, test_size, random_state):\n",
        "        super().__init__(data)\n",
        "        self.test_size =test_size\n",
        "        self.random_state = random_state\n",
        "        \n",
        "    def split(self):\n",
        "        return train_test_split(X, y, test_size= self.test_size , random_state= self.random_state)\n",
        "    \n",
        "class splitTransfert(split):\n",
        "    def __init_(self,data):\n",
        "        super().__init__(data)\n"
      ]
    },
    {
      "cell_type": "markdown",
      "id": "4a7346f9",
      "metadata": {
        "id": "4a7346f9"
      },
      "source": [
        "### Main"
      ]
    },
    {
      "cell_type": "code",
      "execution_count": null,
      "id": "6468834a",
      "metadata": {
        "id": "6468834a"
      },
      "outputs": [],
      "source": [
        "\n",
        "class main :\n",
        "\n",
        "  \"\"\"modele : objet de la classe medele \n",
        "  \"\"\"\n",
        "  #modele = modele(data,params,metric)\n",
        "    "
      ]
    },
    {
      "cell_type": "code",
      "execution_count": 3,
      "id": "4a785b47",
      "metadata": {
        "id": "4a785b47"
      },
      "outputs": [],
      "source": [
        "class classifieur:\n",
        "  \n",
        "    def __init__(self,data,param_modele,param_split):\n",
        "        self.data =data\n",
        "        self.param_modele = param_modele\n",
        "        self.param_split = param_split\n",
        "\n",
        "        \n",
        "    def fit(X,y):\n",
        "        pass\n",
        "    def predict(X):\n",
        "        pass\n",
        "    def score(X,y):\n",
        "        pass\n",
        "    \n",
        "    def split(self):\n",
        "        pass\n",
        "\n",
        "        "
      ]
    },
    {
      "cell_type": "markdown",
      "id": "0f9455f0",
      "metadata": {
        "id": "0f9455f0"
      },
      "source": [
        "### KNN"
      ]
    },
    {
      "cell_type": "code",
      "execution_count": 25,
      "id": "bbf77287",
      "metadata": {
        "id": "bbf77287"
      },
      "outputs": [],
      "source": [
        "\n",
        "class knn(classifieur):\n",
        "    \"\"\"\n",
        "    params = {\"n_neigbors\" : 2, \"metric\" : 'cosine' } par exemple\n",
        "    param_modele : les parametres propres a un modeles \n",
        "    param_split : la taille du test et du train \n",
        "    \"\"\"\n",
        "    \n",
        "    def __init__(self,data,param_modele,param_split):\n",
        "        super().__init__(data,param_modele, param_split)\n",
        "        for key in param_modele:\n",
        "            setattr(self,key,param_modele[key])\n",
        "            \n",
        "        self.clf = KNN(**param_modele)\n",
        "        \n",
        "        if param_split is not None: \n",
        "          self.X_train,  self.X_test, self.y_train, self.y_test = train_test_split(data[:,:-1],data[:,-1], **param_split)\n",
        "        else:\n",
        "          self.X_train,self.y_train = data[:,:-1], data[:,-1]\n",
        "       \n",
        "\n",
        "    def fit(self):\n",
        "      self.clf.fit(self.X_train,self.y_train)\n",
        "       \n",
        "    def predcit(self,X):\n",
        "      if param_split is not None:\n",
        "          return self.clf.predict(self.X_test)\n",
        "      else:\n",
        "        return self.clf.predict(X)\n",
        "    def score(self):\n",
        "      \n",
        "        return self.clf.score(self.X_test,self.y_test)\n"
      ]
    },
    {
      "cell_type": "code",
      "execution_count": 21,
      "id": "751d65e2",
      "metadata": {
        "id": "751d65e2"
      },
      "outputs": [],
      "source": [
        "def genere_dataset_gaussian(positive_center,positive_sigma,negative_center,negative_sigma,nb_points):\n",
        "    data_pos= np.random.multivariate_normal(positive_center, positive_sigma, nb_points)\n",
        "    data_neg= np.random.multivariate_normal(negative_center, negative_sigma, nb_points)\n",
        "\n",
        "    data_label=np.asarray([-1 for i in range (nb_points)] +[+1 for i in range(nb_points)])\n",
        "    \n",
        "    data_decs=np.vstack((data_neg,data_pos))\n",
        "    return data_decs,data_label     \n",
        "\n",
        "\n",
        "X2, y2 = genere_dataset_gaussian(np.array([1,1]),np.array([[1,0],[0,1]]),np.array([-1,-1]),np.array([[1,0],[0,1]]),10)\n",
        "\n",
        "data2=np.hstack((X2,np.reshape(y2,(20,1))))# gaussian"
      ]
    },
    {
      "cell_type": "code",
      "execution_count": null,
      "id": "5d57c00b",
      "metadata": {
        "id": "5d57c00b",
        "outputId": "272e7879-13c5-4ba8-c5fe-9ce2f5535ca4",
        "colab": {
          "base_uri": "https://localhost:8080/"
        }
      },
      "outputs": [
        {
          "output_type": "stream",
          "name": "stdout",
          "text": [
            "[-1. -1. -1. -1. -1. -1. -1. -1. -1. -1.  1.  1.  1.  1.  1.  1.  1.  1.\n",
            "  1.  1.]\n"
          ]
        }
      ],
      "source": [
        "print(data2[:,-1])\n"
      ]
    },
    {
      "cell_type": "code",
      "execution_count": 22,
      "id": "1b77dc85",
      "metadata": {
        "id": "1b77dc85",
        "outputId": "25b7777f-6a09-46a2-a107-415475e9245f",
        "colab": {
          "base_uri": "https://localhost:8080/"
        }
      },
      "outputs": [
        {
          "output_type": "stream",
          "name": "stdout",
          "text": [
            "1.0\n"
          ]
        }
      ],
      "source": [
        "param_modele = {\"n_neighbors\" : 2, \"metric\" : 'cosine'}\n",
        "param_split  = {\"test_size\" : 0.33 , \"random_state\" : 42}\n",
        "K = knn(data2, param_modele, param_split )\n",
        "K.fit()\n",
        "print(K.score())"
      ]
    },
    {
      "cell_type": "code",
      "execution_count": null,
      "id": "92d62a04",
      "metadata": {
        "id": "92d62a04"
      },
      "outputs": [],
      "source": [
        "prams = {\"n_neighbors\" : 2, \"metric\" : 'cosine' }"
      ]
    },
    {
      "cell_type": "code",
      "source": [
        ""
      ],
      "metadata": {
        "id": "2zvhccGvaFrc"
      },
      "id": "2zvhccGvaFrc",
      "execution_count": null,
      "outputs": []
    },
    {
      "cell_type": "markdown",
      "id": "d135c607",
      "metadata": {
        "id": "d135c607"
      },
      "source": [
        "### Decision trees"
      ]
    },
    {
      "cell_type": "code",
      "execution_count": null,
      "id": "3d1aba8c",
      "metadata": {
        "id": "3d1aba8c",
        "colab": {
          "base_uri": "https://localhost:8080/",
          "height": 270
        },
        "outputId": "62e6f110-5800-433d-c748-f92c1b7dd7ab"
      },
      "outputs": [
        {
          "output_type": "error",
          "ename": "NameError",
          "evalue": "ignored",
          "traceback": [
            "\u001b[0;31m---------------------------------------------------------------------------\u001b[0m",
            "\u001b[0;31mNameError\u001b[0m                                 Traceback (most recent call last)",
            "\u001b[0;32m<ipython-input-7-84fa0ea31ac3>\u001b[0m in \u001b[0;36m<module>\u001b[0;34m()\u001b[0m\n\u001b[0;32m----> 1\u001b[0;31m \u001b[0;32mclass\u001b[0m \u001b[0mdtrees\u001b[0m\u001b[0;34m(\u001b[0m\u001b[0mclassifieur\u001b[0m\u001b[0;34m)\u001b[0m\u001b[0;34m:\u001b[0m\u001b[0;34m\u001b[0m\u001b[0;34m\u001b[0m\u001b[0m\n\u001b[0m\u001b[1;32m      2\u001b[0m \u001b[0;34m\u001b[0m\u001b[0m\n\u001b[1;32m      3\u001b[0m \u001b[0;34m\u001b[0m\u001b[0m\n\u001b[1;32m      4\u001b[0m     \u001b[0;32mdef\u001b[0m \u001b[0m__init__\u001b[0m\u001b[0;34m(\u001b[0m\u001b[0mself\u001b[0m\u001b[0;34m,\u001b[0m\u001b[0mdata\u001b[0m\u001b[0;34m,\u001b[0m\u001b[0mparam_modele\u001b[0m\u001b[0;34m,\u001b[0m\u001b[0mparam_split\u001b[0m\u001b[0;34m)\u001b[0m\u001b[0;34m:\u001b[0m\u001b[0;34m\u001b[0m\u001b[0;34m\u001b[0m\u001b[0m\n\u001b[1;32m      5\u001b[0m         \u001b[0msuper\u001b[0m\u001b[0;34m(\u001b[0m\u001b[0;34m)\u001b[0m\u001b[0;34m.\u001b[0m\u001b[0m__init__\u001b[0m\u001b[0;34m(\u001b[0m\u001b[0mdata\u001b[0m\u001b[0;34m,\u001b[0m\u001b[0mparam_modele\u001b[0m\u001b[0;34m,\u001b[0m \u001b[0mparam_split\u001b[0m\u001b[0;34m)\u001b[0m\u001b[0;34m\u001b[0m\u001b[0;34m\u001b[0m\u001b[0m\n",
            "\u001b[0;31mNameError\u001b[0m: name 'classifieur' is not defined"
          ]
        }
      ],
      "source": [
        "class dtrees(classifieur):\n",
        "    \n",
        "    \n",
        "    def __init__(self,data,param_modele,param_split):\n",
        "        super().__init__(data,param_modele, param_split)\n",
        "        for key in param_modele:\n",
        "            setattr(self,key,param_modele[key])\n",
        "            \n",
        "        self.clf = tree.DecisionTreeClassifier(**param_modele)\n",
        "\n",
        "        self.X_train,  self.X_test, self.y_train, self.y_test = train_test_split(data[:,:-1],data[:,-1], **param_split)\n",
        "    \n",
        "   \n",
        "    def fit(self):\n",
        "        self.clf.fit(self.X_train, self.y_train )\n",
        "    def predcit(self):\n",
        "        return self.clf.predict(self.X_test)\n",
        "    def score(self):\n",
        "        return self.clf.score(self.X_test,self.y_test)\n",
        "    \n",
        "    \n"
      ]
    },
    {
      "cell_type": "code",
      "execution_count": null,
      "id": "82cc0dde",
      "metadata": {
        "id": "82cc0dde",
        "outputId": "b187ae94-cad0-4427-cf4a-13ce1c2ddcc2",
        "colab": {
          "base_uri": "https://localhost:8080/"
        }
      },
      "outputs": [
        {
          "output_type": "execute_result",
          "data": {
            "text/plain": [
              "1.0"
            ]
          },
          "metadata": {},
          "execution_count": 97
        }
      ],
      "source": [
        "param_split  = {\"test_size\" : 0.33 , \"random_state\" : 42}\n",
        "params_dtree= {\"max_depth\" : 3  } \n",
        "dtree = dtrees(data2,params_dtree,param_split)\n",
        "dtree.fit()\n",
        "dtree.max_depth\n",
        "dtree.score()"
      ]
    },
    {
      "cell_type": "markdown",
      "id": "12e2476b",
      "metadata": {
        "id": "12e2476b"
      },
      "source": [
        "### CoAt"
      ]
    },
    {
      "cell_type": "code",
      "source": [
        "\n",
        "class coAT(classifieur):\n",
        "\n",
        "    def __init__(self, data,param_modele ,param_split=dict()): \n",
        "      super().__init__(data, param_modele ,param_split)\n",
        "      for key in param_modele:\n",
        "          setattr(self,key,param_modele[key])\n",
        "      self.CB = []\n",
        "    \n",
        "    def set_sigS(self,sigS):\n",
        "      self.sigS = sigS\n",
        "        \n",
        "    def set_sigR(self,sigR):\n",
        "      self.sigR = sigR\n",
        "    #fit\n",
        "    def fit(self,data):\n",
        "      self.CB = data\n",
        "    #predict\n",
        "    def change_outcomes(self,x,y):\n",
        "      return (x,y)\n",
        "    def predict(self,x):\n",
        "      \"\"\"\n",
        "      prend en entrée un tuple x et retourne son label \n",
        "      (label qui minimise la complexité)\n",
        "      \"\"\"\n",
        "      l = []\n",
        "      times = []\n",
        "     \n",
        "      \n",
        "      for y in self.labels:\n",
        "        tuple =  self.change_outcomes(x,y)\n",
        "       \n",
        "        l.append(self.inv(tuple,self.CB,self.w))\n",
        "   \n",
        "      return self.labels[np.argmin(l)],self.labels,l\n",
        "\n",
        "\n",
        "    def score():\n",
        "      pass\n",
        "    \n",
        "    #autre \n",
        "    def inv(self,s0, CB,w):\n",
        "      \"\"\"\n",
        "      fonction qui calcule la cardinalité de l'ensemble ou sigmaS et sigmaR sont iversé pour un s0\n",
        "      sigS : mesure de similarité 1\n",
        "      sigR : mesure de similarité 2\n",
        "      -> faire l'autre moitié des tests\n",
        "      -> mettre les Sig dans des variable\n",
        "      \"\"\"\n",
        "      cpt=0\n",
        "      #parcourir les tuples du dataset \n",
        "      for si in  range(len(CB))  :\n",
        "        for sj in range(si+1,len(CB)) :\n",
        "          #########\n",
        "          #CB[si] = [()]\n",
        "          #CB[si][0] = () le reste dependra de la fonction de similarité (dimensions)\n",
        "          sigS_si = self.sigS(s0[0],CB[si][0],self.w)\n",
        "          sigS_sj = self.sigS(s0[0],CB[sj][0],self.w)\n",
        "          sigR_si = self.sigR(s0[1],CB[si][1])\n",
        "          sigR_sj = self.sigR(s0[1],CB[sj][1])\n",
        "          ########\n",
        "          #incrementer si inversion de similarité (sigR se base sur les labels)\n",
        "          if( (sigS_si>=sigS_sj) and (sigR_si<sigR_sj)) or ( (sigS_si<sigS_sj) and (sigR_si>=sigR_sj)): \n",
        "            cpt+=1    \n",
        "      return cpt\n",
        "    def complex(self,CB):\n",
        "      \"\"\"\n",
        "      fonction qui calcule la complexité d'un CB (dataset)\n",
        "      \"\"\"\n",
        "      gamma=0\n",
        "      for s0 in CB:\n",
        "          gamma += self.inv(s0,CB,self.w)\n",
        "      return gamma\n",
        "\n",
        "    def predict_nonopt(self,x):\n",
        "      \"\"\"\n",
        "      prend en entrée un tuple x et retourne son label \n",
        "      (label qui minimise la complexité)\n",
        "      \"\"\"\n",
        "      l = []\n",
        " \n",
        "      for y in self.labels:\n",
        "        tmp = self.CB + [self.change_outcomes(x,y)]\n",
        "        start_time = time.time()\n",
        "        l.append(self.complex(tmp))\n",
        "      \n",
        "      return self.labels[np.argmin(l)],self.labels,l\n",
        "\n",
        "\n",
        "  \n",
        "# CoAT n'est pas ordinal \n",
        "# CCBI l'est\n"
      ],
      "metadata": {
        "id": "_j526Y6daHnv"
      },
      "id": "_j526Y6daHnv",
      "execution_count": 8,
      "outputs": []
    },
    {
      "cell_type": "markdown",
      "id": "7d6f9e07",
      "metadata": {
        "id": "7d6f9e07"
      },
      "source": [
        "### Similarities"
      ]
    },
    {
      "cell_type": "code",
      "execution_count": 9,
      "id": "830fee34",
      "metadata": {
        "id": "830fee34"
      },
      "outputs": [],
      "source": [
        "def sigmaArea(a1,a2):\n",
        "  \"\"\"\n",
        "  retourne la similarité entre deux areas (int)\n",
        "  \"\"\"\n",
        "  return(int(a1==a2))\n",
        "####\n",
        "#Nb rooms\n",
        "def polynomialSim(n,L,y,x):\n",
        "  \n",
        "  return ((L-abs(y-x)**n)/(L**n))\n",
        "\n",
        "def sigmaNbrooms(nb1,nb2):\n",
        "  \"\"\"\n",
        "  Sigma nb rooms, mesure de similarité de nb rooms\n",
        "  \"\"\"\n",
        "  return polynomialSim(2,6,nb1,nb2)\n",
        "\n",
        "def sigmaS(a,b,w):\n",
        "  \"\"\"\n",
        "  w : list of weights\n",
        "  a : list [nbrooms1,area1]\n",
        "  b : list [nbrooms2,area2]\n",
        "  \"\"\"\n",
        "  nb_rooms1 , area1= a[0],a[1]\n",
        "  nb_rooms2 , area2= b[0],b[1]\n",
        "  #weights between 0.01 and 0.64\n",
        "  sigmaAr=sigmaArea(area1,area2)\n",
        "  sigmarooms = sigmaNbrooms(nb_rooms1,nb_rooms2)\n",
        "  return w[0]*sigmarooms + (1-w[1])*sigmaAr\n",
        "\n",
        "def sigmaR(p1,p2):\n",
        "  return polynomialSim(2,1000,p1,p2)"
      ]
    },
    {
      "cell_type": "code",
      "execution_count": 10,
      "id": "da015e67",
      "metadata": {
        "id": "da015e67"
      },
      "outputs": [],
      "source": [
        "#données\n",
        "\"\"\"\n",
        "situation : 0,1,2,\n",
        "nb_rooms : 1,2,3\n",
        "area : 0:midtown ,1 : downtown\n",
        "price: \n",
        "\"\"\"\n",
        "X_coat = np.array([[1,0], [2,0],[1,1],[3,1]])\n",
        "y_coat = np.array([440,600,700,900])\n",
        "\n",
        "\n",
        "#constuire les données\n",
        "CB_coAt=[]\n",
        "for i in range(len(X_coat)):\n",
        "  CB_coAt.append((X_coat[i].tolist(),y_coat[i]))\n"
      ]
    },
    {
      "cell_type": "code",
      "source": [
        "#modele\n",
        "param_modele = {\"sigS\" : sigmaS, \"sigR\" : sigmaR,\"w\":[0.5,0.5],\"labels\" : [440,600,700,900] + (np.arange(400,1200,100)).tolist()}\n",
        "co= coAT([],param_modele )\n",
        "#fit\n",
        "co.fit(CB_coAt)\n",
        "#predict\n",
        "label,labels,gamma = co.predict([2, 1])\n",
        "labeln,labelsn,gamman = co.predict_nonopt([2, 1])\n",
        "print(\"le meilleur prix est : \",label)"
      ],
      "metadata": {
        "colab": {
          "base_uri": "https://localhost:8080/"
        },
        "id": "1C5t-L9GhjKI",
        "outputId": "89af28de-64e7-4357-c81d-cbbe0b5a04a3"
      },
      "id": "1C5t-L9GhjKI",
      "execution_count": 12,
      "outputs": [
        {
          "output_type": "stream",
          "name": "stdout",
          "text": [
            "le meilleur prix est :  800\n"
          ]
        }
      ]
    },
    {
      "cell_type": "markdown",
      "source": [
        "### Variation du temps"
      ],
      "metadata": {
        "id": "PHEc_bA3-RrZ"
      },
      "id": "PHEc_bA3-RrZ"
    },
    {
      "cell_type": "code",
      "source": [
        "d = dict()\n",
        "for l,g in zip(labels,gamma):\n",
        "  d[l] = g\n",
        "print(d)\n",
        "lists = sorted(d.items())\n",
        "labels,gamma = zip(*lists)\n",
        "\n",
        "\n",
        "plt.xlabel('Predicted Price')\n",
        "plt.ylabel('Complexity gamma')\n",
        "plt.title('Complexity for each potential price ')\n",
        "plt.plot(labels,gamma,'bo--')\n",
        "plt.show()"
      ],
      "metadata": {
        "id": "3W8H-OiN98fS",
        "outputId": "ef2a0d6e-6d00-4bc6-f4a4-49f1db8648cc",
        "colab": {
          "base_uri": "https://localhost:8080/",
          "height": 312
        }
      },
      "id": "3W8H-OiN98fS",
      "execution_count": 13,
      "outputs": [
        {
          "output_type": "stream",
          "name": "stdout",
          "text": [
            "{440: 5, 600: 3, 700: 1, 900: 1, 400: 5, 500: 5, 800: 0, 1000: 1, 1100: 1}\n"
          ]
        },
        {
          "output_type": "display_data",
          "data": {
            "text/plain": [
              "<Figure size 432x288 with 1 Axes>"
            ],
            "image/png": "[encoded data removed]"
          },
          "metadata": {
            "needs_background": "light"
          }
        }
      ]
    },
    {
      "cell_type": "code",
      "source": [
        "d2 = dict()\n",
        "for l,g in zip(labelsn,gamman):\n",
        "  d2[l] = g\n",
        "print(d2)\n",
        "lists = sorted(d2.items())\n",
        "labelsn,gamman = zip(*lists)\n",
        "plt.xlabel('Predicted Price')\n",
        "plt.ylabel('Complexity gamma')\n",
        "plt.title('Complexity for each potential price ')\n",
        "plt.plot(labelsn,gamman,'ro--',label=\"non opt\")\n",
        "plt.plot(labels,gamma,'bo--',label=\"opt\")\n",
        "plt.legend()\n",
        "plt.show()\n",
        "\n"
      ],
      "metadata": {
        "colab": {
          "base_uri": "https://localhost:8080/",
          "height": 332
        },
        "id": "TpZOuvE0ZmCN",
        "outputId": "7d1c86ff-d9d3-4355-ab72-a07d376361f0"
      },
      "id": "TpZOuvE0ZmCN",
      "execution_count": null,
      "outputs": [
        {
          "output_type": "stream",
          "name": "stdout",
          "text": [
            "{400: 17, 440: 18, 500: 16, 600: 12, 700: 8, 800: 5, 900: 10, 1000: 10, 1100: 11}\n"
          ]
        },
        {
          "output_type": "display_data",
          "data": {
            "text/plain": [
              "<Figure size 432x288 with 1 Axes>"
            ],
            "image/png": "[encoded data removed]"
          },
          "metadata": {
            "needs_background": "light"
          }
        }
      ]
    },
    {
      "cell_type": "markdown",
      "source": [
        "#### Plot"
      ],
      "metadata": {
        "id": "GA7pO6jXGFbA"
      },
      "id": "GA7pO6jXGFbA"
    },
    {
      "cell_type": "code",
      "source": [
        "\n",
        "\n",
        "# import some data to play with\n",
        "iris = datasets.load_iris()\n",
        "X_iris = iris.data[:, :2]  # we only take the first two features.\n",
        "y_iris = iris.target\n",
        "CB_iris=[]\n",
        "for i in range(len(X_iris)-10, len(X_iris)):\n",
        "  CB_iris.append((X_iris[i],y_iris[i]))\n",
        "print(CB_iris)"
      ],
      "metadata": {
        "colab": {
          "base_uri": "https://localhost:8080/"
        },
        "id": "-92cgHoIFjzO",
        "outputId": "87745ca2-9807-4b9e-d6c7-447da03b5db0"
      },
      "id": "-92cgHoIFjzO",
      "execution_count": 16,
      "outputs": [
        {
          "output_type": "stream",
          "name": "stdout",
          "text": [
            "[(array([6.7, 3.1]), 2), (array([6.9, 3.1]), 2), (array([5.8, 2.7]), 2), (array([6.8, 3.2]), 2), (array([6.7, 3.3]), 2), (array([6.7, 3. ]), 2), (array([6.3, 2.5]), 2), (array([6.5, 3. ]), 2), (array([6.2, 3.4]), 2), (array([5.9, 3. ]), 2)]\n"
          ]
        }
      ]
    },
    {
      "cell_type": "code",
      "source": [
        "\n",
        "def sigS(s1,s2,w =None):\n",
        "  if isinstance(s1, np.ndarray): \n",
        "    return ((np.abs(s1-s2)).sum())**2\n",
        "  return (np.abs(s1-s2))**2\n",
        "  # (np.abs(s1-s2)) ou (np.abs(s1-s2))^2\n",
        "  \n",
        "def sigR(o1,o2,w = None):\n",
        "\n",
        "\n",
        "  return (np.abs(o1-o2))**2\n",
        "#modele\n",
        "param_modele = {\"sigS\" : sigS, \"sigR\" : sigR,\"w\":None,\"labels\" : y_iris}\n",
        "co= coAT([],param_modele )\n",
        "#fit\n",
        "co.fit(CB_iris)\n",
        "#predict\n",
        "label,labels,gamma = co.predict(np.array([6.7, 3.1]))\n",
        "print(label)\n",
        "#labeln,labelsn,gamman,_ = co.predict_nonopt([2, 1])\n",
        "#print(\"le meilleur prix est : \",label)"
      ],
      "metadata": {
        "colab": {
          "base_uri": "https://localhost:8080/"
        },
        "id": "WB6hn2gvbSvo",
        "outputId": "4dd80355-a6f2-4788-bfe0-32c6985f5a22"
      },
      "id": "WB6hn2gvbSvo",
      "execution_count": 17,
      "outputs": [
        {
          "output_type": "stream",
          "name": "stdout",
          "text": [
            "0\n"
          ]
        }
      ]
    },
    {
      "cell_type": "code",
      "source": [
        "\n",
        "iris = datasets.load_iris()\n",
        "\n",
        "X_iris = iris.data[:, :]  # we only take the first two features.\n",
        "y_iris = iris.target\n",
        "CB_iris=[]\n",
        "for i in range(len(X_iris)-10, len(X_iris)):\n",
        "  CB_iris.append((X_iris[i],y_iris[i]))\n",
        "param_modele = {\"sigS\" : sigS, \"sigR\" : sigR,\"w\":None,\"labels\" : y_iris}\n",
        "\n",
        "d = dict() #dictionnaire de temps en fonction du nombre de features\n",
        "\n",
        "for n in range(1,50):\n",
        "  X_iris = iris.data[:n, :]  # we only take the first n features.\n",
        "  y_iris = iris.target\n",
        "  CB_iris=[]\n",
        "  print(n)\n",
        "  for i in range(0, len(X_iris)):\n",
        "\n",
        "    CB_iris.append((X_iris[i],y_iris[i]))\n",
        "  co= coAT([],param_modele )\n",
        "  co.fit(CB_iris)\n",
        "  test =  np.random.randn(X_iris.shape[1],)\n",
        "  start_time = time.time()\n",
        "  label,labels,gamma = co.predict(test)\n",
        "  d[n] = (time.time()-start_time)\n",
        "\n",
        "\n"
      ],
      "metadata": {
        "colab": {
          "base_uri": "https://localhost:8080/"
        },
        "id": "CK0kTOuqcV9y",
        "outputId": "d057dfe8-fd55-4afb-dca9-23790c252762"
      },
      "id": "CK0kTOuqcV9y",
      "execution_count": 18,
      "outputs": [
        {
          "output_type": "stream",
          "name": "stdout",
          "text": [
            "1\n",
            "2\n",
            "3\n",
            "4\n",
            "5\n",
            "6\n",
            "7\n",
            "8\n",
            "9\n",
            "10\n",
            "11\n",
            "12\n",
            "13\n",
            "14\n",
            "15\n",
            "16\n",
            "17\n",
            "18\n",
            "19\n",
            "20\n",
            "21\n",
            "22\n",
            "23\n",
            "24\n",
            "25\n",
            "26\n",
            "27\n",
            "28\n",
            "29\n",
            "30\n",
            "31\n",
            "32\n",
            "33\n",
            "34\n",
            "35\n",
            "36\n",
            "37\n",
            "38\n",
            "39\n",
            "40\n",
            "41\n",
            "42\n",
            "43\n",
            "44\n",
            "45\n",
            "46\n",
            "47\n",
            "48\n",
            "49\n"
          ]
        }
      ]
    },
    {
      "cell_type": "code",
      "source": [
        "d2= dict() #dictionnaire de temps en fonction du nombre de features\n",
        "\n",
        "for n in range(1,50):\n",
        "  X_iris = iris.data[:n, :]  # we only take the first n features.\n",
        "  y_iris = iris.target\n",
        "  CB_iris=[]\n",
        "  print(n)\n",
        "  for i in range(0, len(X_iris)):\n",
        "\n",
        "    CB_iris.append((X_iris[i],y_iris[i]))\n",
        "  co= coAT([],param_modele )\n",
        "  co.fit(CB_iris)\n",
        "  test =  np.random.randn(X_iris.shape[1],)\n",
        "  start_time = time.time()\n",
        "  label,labels,gamma = co.predict_nonopt(test)\n",
        "  d2[n] = (time.time()-start_time)\n",
        "\n"
      ],
      "metadata": {
        "colab": {
          "base_uri": "https://localhost:8080/"
        },
        "id": "Q3iVzlrHPoXr",
        "outputId": "0e9c0275-3004-4a77-95d8-bb9351c5a63a"
      },
      "id": "Q3iVzlrHPoXr",
      "execution_count": null,
      "outputs": [
        {
          "output_type": "stream",
          "name": "stdout",
          "text": [
            "1\n",
            "2\n",
            "3\n",
            "4\n",
            "5\n",
            "6\n",
            "7\n",
            "8\n",
            "9\n",
            "10\n",
            "11\n",
            "12\n",
            "13\n",
            "14\n",
            "15\n",
            "16\n",
            "17\n",
            "18\n",
            "19\n",
            "20\n",
            "21\n",
            "22\n",
            "23\n",
            "24\n",
            "25\n",
            "26\n",
            "27\n",
            "28\n",
            "29\n",
            "30\n",
            "31\n",
            "32\n",
            "33\n",
            "34\n",
            "35\n",
            "36\n",
            "37\n",
            "38\n",
            "39\n",
            "40\n",
            "41\n",
            "42\n",
            "43\n",
            "44\n",
            "45\n",
            "46\n",
            "47\n",
            "48\n",
            "49\n"
          ]
        }
      ]
    },
    {
      "cell_type": "markdown",
      "source": [
        "## Optimisé"
      ],
      "metadata": {
        "id": "iZbzAekXPTWe"
      },
      "id": "iZbzAekXPTWe"
    },
    {
      "cell_type": "code",
      "source": [
        "\n",
        "\n",
        "print(d)\n",
        "lists = sorted(d.items())\n",
        "labels,times1 = zip(*lists)\n",
        "\n",
        "plt.xlabel('Nombre d exemples')\n",
        "plt.ylabel('temps dexecution')\n",
        "plt.title('Time variation ')\n",
        "plt.plot(labels,times1,'ob',label = 'temps ')\n",
        "plt.legend()\n",
        "\n",
        "plt.show()\n",
        "cpt = 1\n",
        "\n",
        "plt.savefig(\"/content/drive/MyDrive/PLDAC/Step 2 /Images/coAT/temps execution selon temps final \")"
      ],
      "metadata": {
        "colab": {
          "base_uri": "https://localhost:8080/",
          "height": 350
        },
        "id": "yfx5nyq9ek9r",
        "outputId": "0080673c-152f-47e6-e21d-0da94c024d4c"
      },
      "id": "yfx5nyq9ek9r",
      "execution_count": null,
      "outputs": [
        {
          "output_type": "stream",
          "name": "stdout",
          "text": [
            "{1: 0.0002503395080566406, 2: 0.00234222412109375, 3: 0.0056591033935546875, 4: 0.010726213455200195, 5: 0.01834583282470703, 6: 0.026112079620361328, 7: 0.03611135482788086, 8: 0.04993462562561035, 9: 0.06578993797302246, 10: 0.08369970321655273, 11: 0.09744405746459961, 12: 0.12027525901794434, 13: 0.15045857429504395, 14: 0.17140460014343262, 15: 0.19050049781799316, 16: 0.21898746490478516, 17: 0.25263309478759766, 18: 0.29007506370544434, 19: 0.30512070655822754, 20: 0.34859418869018555, 21: 0.3801906108856201, 22: 0.4160192012786865, 23: 0.46469926834106445, 24: 0.49581408500671387, 25: 0.5368838310241699, 26: 0.5823557376861572, 27: 0.6289856433868408, 28: 0.7290196418762207, 29: 0.7437138557434082, 30: 0.7819693088531494, 31: 0.8404185771942139, 32: 0.9197778701782227, 33: 0.939948320388794, 34: 0.9911739826202393, 35: 1.0820891857147217, 36: 1.7905666828155518, 37: 1.1715140342712402, 38: 1.2515168190002441, 39: 1.409970760345459, 40: 1.4009418487548828, 41: 1.4986324310302734, 42: 1.5281198024749756, 43: 1.6180903911590576, 44: 1.7188706398010254, 45: 1.7934730052947998, 46: 1.8492810726165771, 47: 1.996739149093628, 48: 2.004044771194458, 49: 2.145752429962158}\n"
          ]
        },
        {
          "output_type": "display_data",
          "data": {
            "text/plain": [
              "<Figure size 432x288 with 1 Axes>"
            ],
            "image/png": "[encoded data removed]"
          },
          "metadata": {
            "needs_background": "light"
          }
        },
        {
          "output_type": "display_data",
          "data": {
            "text/plain": [
              "<Figure size 432x288 with 0 Axes>"
            ]
          },
          "metadata": {}
        }
      ]
    },
    {
      "cell_type": "code",
      "source": [
        "\n",
        "coeffs = np.polyfit(labels, times1, 2)\n",
        "p = np.poly1d(coeffs)\n",
        "plt.xlabel('Nombre d exemples')\n",
        "plt.ylabel('temps dexecution')\n",
        "plt.title('Time variation ')\n",
        "plt.plot(labels,times1,'ob',label = 'temps  dexecution fonction optimisé')\n",
        "\n",
        "plt.plot(labels, [p(n) for n in labels],'-r')\n",
        "plt.legend()\n",
        "plt.show()\n",
        "\n",
        "plt.savefig(\"/content/drive/MyDrive/PLDAC/Step 2 /Images/coAT/temps execution selon temps + line final\")"
      ],
      "metadata": {
        "colab": {
          "base_uri": "https://localhost:8080/",
          "height": 312
        },
        "id": "BVHNiBvpKw-e",
        "outputId": "0edca98e-2653-473a-c33d-cd8a65ec42b2"
      },
      "id": "BVHNiBvpKw-e",
      "execution_count": null,
      "outputs": [
        {
          "output_type": "display_data",
          "data": {
            "text/plain": [
              "<Figure size 432x288 with 1 Axes>"
            ],
            "image/png": "[encoded data removed]"
          },
          "metadata": {
            "needs_background": "light"
          }
        },
        {
          "output_type": "display_data",
          "data": {
            "text/plain": [
              "<Figure size 432x288 with 0 Axes>"
            ]
          },
          "metadata": {}
        }
      ]
    },
    {
      "cell_type": "markdown",
      "source": [
        "## Non opt"
      ],
      "metadata": {
        "id": "DChu05vXPWxD"
      },
      "id": "DChu05vXPWxD"
    },
    {
      "cell_type": "code",
      "source": [
        "print(d[2])"
      ],
      "metadata": {
        "colab": {
          "base_uri": "https://localhost:8080/"
        },
        "id": "OkGxKBjspvX4",
        "outputId": "3ed5ed3e-3ddd-4873-c7ff-0e3ad044c503"
      },
      "id": "OkGxKBjspvX4",
      "execution_count": null,
      "outputs": [
        {
          "output_type": "stream",
          "name": "stdout",
          "text": [
            "[0.0005156993865966797, 0.0005092620849609375, 0.0004901885986328125, 0.0005030632019042969, 0.0004906654357910156, 0.0005116462707519531, 0.0004878044128417969, 0.0005245208740234375, 0.0004885196685791016, 0.0005102157592773438, 0.0004918575286865234, 0.0004949569702148438, 0.00048542022705078125, 0.0005080699920654297, 0.00048828125, 0.0005047321319580078, 0.000492095947265625, 0.0005097389221191406, 0.0004923343658447266, 0.0005056858062744141, 0.0004966259002685547, 0.0005102157592773438, 0.0004923343658447266, 0.0005035400390625, 0.0004904270172119141, 0.0005040168762207031, 0.0004894733428955078, 0.0005087852478027344, 0.0004878044128417969, 0.0005004405975341797, 0.0004937648773193359, 0.0005097389221191406, 0.00048828125, 0.0004990100860595703, 0.0004889965057373047, 0.0005118846893310547, 0.0004899501800537109, 0.0005016326904296875, 0.0004892349243164062, 0.0005071163177490234, 0.0005037784576416016, 0.0005037784576416016, 0.0004911422729492188, 0.0005328655242919922, 0.0004811286926269531, 0.0004966259002685547, 0.0006196498870849609, 0.0005085468292236328, 0.0004975795745849609, 0.0004911422729492188, 0.0005049705505371094, 0.00048232078552246094, 0.0004940032958984375, 0.0005054473876953125, 0.0005037784576416016, 0.0004839897155761719, 0.0005140304565429688, 0.0004825592041015625, 0.0005164146423339844, 0.0004837512969970703, 0.0004999637603759766, 0.0004875659942626953, 0.0005056858062744141, 0.0005555152893066406, 0.00049591064453125, 0.0004825592041015625, 0.0004937648773193359, 0.00048279762268066406, 0.0004940032958984375, 0.00048351287841796875, 0.0005075931549072266, 0.0004899501800537109, 0.0004961490631103516, 0.0004851818084716797, 0.0005044937133789062, 0.00048470497131347656, 0.0004947185516357422, 0.0004940032958984375, 0.0005028247833251953, 0.0004897117614746094, 0.0005235671997070312, 0.00048828125, 0.0004990100860595703, 0.00049591064453125, 0.0004963874816894531, 0.0004889965057373047, 0.0005021095275878906, 0.0004913806915283203, 0.0004942417144775391, 0.00048828125, 0.00048661231994628906, 0.0005059242248535156, 0.000484466552734375, 0.0004949569702148438, 0.0004830360412597656, 0.0005049705505371094, 0.0004837512969970703, 0.0005009174346923828, 0.0004975795745849609, 0.0005102157592773438, 0.0004916191101074219, 0.0005011558532714844, 0.0004887580871582031, 0.0005104541778564453, 0.0004868507385253906, 0.0004980564117431641, 0.0004870891571044922, 0.0005047321319580078, 0.0004839897155761719, 0.0004966259002685547, 0.0004837512969970703, 0.000507354736328125, 0.00048542022705078125, 0.0004973411560058594, 0.0004839897155761719, 0.0004971027374267578, 0.0004825592041015625, 0.0005040168762207031, 0.0004863739013671875, 0.0004963874816894531, 0.0004944801330566406, 0.0005054473876953125, 0.00048160552978515625, 0.0005218982696533203, 0.0004825592041015625, 0.0004980564117431641, 0.0004832744598388672, 0.0004994869232177734, 0.00048828125, 0.0005059242248535156, 0.0004856586456298828, 0.0005016326904296875, 0.0004868507385253906, 0.0005080699920654297, 0.00048613548278808594, 0.0005180835723876953, 0.0004858970642089844, 0.0005049705505371094, 0.00048422813415527344, 0.0004968643188476562, 0.00048351287841796875, 0.0005087852478027344, 0.00048470497131347656, 0.000499725341796875, 0.0004868507385253906, 0.0005044937133789062, 0.00048661231994628906, 0.0005006790161132812, 0.00048804283142089844, 0.0004994869232177734]\n"
          ]
        }
      ]
    },
    {
      "cell_type": "code",
      "source": [
        "\n",
        "\n",
        "print(d2)\n",
        "lists = sorted(d2.items())\n",
        "labels2,times2 = zip(*lists)\n",
        "\n",
        "plt.xlabel('Nombre d exemples')\n",
        "plt.ylabel('temps dexecution')\n",
        "plt.title('Temps dexecution non optimisé')\n",
        "plt.plot(labels2,times2,'og',label = 'temps non opt ')\n",
        "plt.legend()\n",
        "plt.show()\n",
        "plt.savefig(\"/content/drive/MyDrive/PLDAC/Step 2 /Images/coAT/non opt temps execution final\")"
      ],
      "metadata": {
        "colab": {
          "base_uri": "https://localhost:8080/",
          "height": 350
        },
        "id": "IJrwmODYp4B6",
        "outputId": "734320c0-8181-4946-94d2-0220c98339ce"
      },
      "id": "IJrwmODYp4B6",
      "execution_count": null,
      "outputs": [
        {
          "output_type": "stream",
          "name": "stdout",
          "text": [
            "{1: 0.0063626766204833984, 2: 0.019120454788208008, 3: 0.04504060745239258, 4: 0.0905294418334961, 5: 0.16953492164611816, 6: 0.27661800384521484, 7: 0.4374523162841797, 8: 0.6227967739105225, 9: 0.7994117736816406, 10: 1.1117026805877686, 11: 1.493931770324707, 12: 1.84083890914917, 13: 2.311582326889038, 14: 2.88771653175354, 15: 3.5896120071411133, 16: 4.245651721954346, 17: 5.06240439414978, 18: 5.91916561126709, 19: 6.868001699447632, 20: 8.016778230667114, 21: 9.811227560043335, 22: 10.620286703109741, 23: 12.100168466567993, 24: 13.935007095336914, 25: 15.196414470672607, 26: 17.046086072921753, 27: 19.003201246261597, 28: 21.275818586349487, 29: 23.57440686225891, 30: 26.048505544662476, 31: 28.661365032196045, 32: 31.558324337005615, 33: 33.95329976081848, 34: 37.119659185409546, 35: 40.67254614830017, 36: 43.57988119125366, 37: 47.44268012046814, 38: 51.231197118759155, 39: 55.19628715515137, 40: 59.44977951049805, 41: 64.00247859954834, 42: 68.9209418296814, 43: 73.37005925178528, 44: 78.91812181472778, 45: 84.74264526367188, 46: 90.51957416534424, 47: 95.79900455474854, 48: 103.92275619506836, 49: 108.48599934577942}\n"
          ]
        },
        {
          "output_type": "display_data",
          "data": {
            "text/plain": [
              "<Figure size 432x288 with 1 Axes>"
            ],
            "image/png": "[encoded data removed]"
          },
          "metadata": {
            "needs_background": "light"
          }
        },
        {
          "output_type": "display_data",
          "data": {
            "text/plain": [
              "<Figure size 432x288 with 0 Axes>"
            ]
          },
          "metadata": {}
        }
      ]
    },
    {
      "cell_type": "code",
      "source": [
        "degree1 = 2\n",
        "coeffs = np.polyfit(labels, times1, degree1)\n",
        "p1 = np.poly1d(coeffs)\n",
        "degree2 = 3\n",
        "coeffs2 = np.polyfit(labels2, times2, degree2)\n",
        "p2 = np.poly1d(coeffs2)\n",
        "plt.xlabel('Nombre d exemples')\n",
        "plt.ylabel('temps dexecution')\n",
        "plt.title('Time variation ')\n",
        "plt.plot(labels,times1,'ob',label = 'temps  dexecution fonction optimisé')\n",
        "plt.plot(labels2,times2,'og',label = 'temps dexecution fonction non optimisé ')\n",
        "plt.plot(labels, [p1(n) for n in labels],'-r')\n",
        "plt.plot(labels, [p2(n) for n in labels],'-r')\n",
        "plt.legend()\n",
        "plt.show()\n",
        "plt.savefig(\"/content/drive/MyDrive/PLDAC/Step 2 /Images/coAT/temps opt vs non final\")"
      ],
      "metadata": {
        "colab": {
          "base_uri": "https://localhost:8080/",
          "height": 312
        },
        "id": "TxcF8jCNQHsD",
        "outputId": "38b6eea7-a79f-4838-e603-24d060baea6b"
      },
      "id": "TxcF8jCNQHsD",
      "execution_count": null,
      "outputs": [
        {
          "output_type": "display_data",
          "data": {
            "text/plain": [
              "<Figure size 432x288 with 1 Axes>"
            ],
            "image/png": "[encoded data removed]"
          },
          "metadata": {
            "needs_background": "light"
          }
        },
        {
          "output_type": "display_data",
          "data": {
            "text/plain": [
              "<Figure size 432x288 with 0 Axes>"
            ]
          },
          "metadata": {}
        }
      ]
    },
    {
      "cell_type": "markdown",
      "source": [
        "### CoAT vs KNN"
      ],
      "metadata": {
        "id": "dUR8pXTF3mSW"
      },
      "id": "dUR8pXTF3mSW"
    },
    {
      "cell_type": "markdown",
      "source": [
        "#### KNN "
      ],
      "metadata": {
        "id": "zTdvb2Ul3zRc"
      },
      "id": "zTdvb2Ul3zRc"
    },
    {
      "cell_type": "code",
      "source": [
        "param_modele = {\"n_neighbors\" : 2, \"metric\" : 'cosine'}\n",
        "param_split  = None\n",
        "K = knn(data2, param_modele, param_split )\n",
        "K.fit()\n",
        "\n",
        "print(K.score())\n",
        "\n",
        "\n",
        "\n"
      ],
      "metadata": {
        "id": "xSpJHFpnQpkt",
        "colab": {
          "base_uri": "https://localhost:8080/",
          "height": 322
        },
        "outputId": "03ec928d-7620-4860-81e9-b0f328dbbac5"
      },
      "id": "xSpJHFpnQpkt",
      "execution_count": 30,
      "outputs": [
        {
          "output_type": "error",
          "ename": "AttributeError",
          "evalue": "ignored",
          "traceback": [
            "\u001b[0;31m---------------------------------------------------------------------------\u001b[0m",
            "\u001b[0;31mAttributeError\u001b[0m                            Traceback (most recent call last)",
            "\u001b[0;32m<ipython-input-30-08308cb698a7>\u001b[0m in \u001b[0;36m<module>\u001b[0;34m()\u001b[0m\n\u001b[1;32m      4\u001b[0m \u001b[0mK\u001b[0m\u001b[0;34m.\u001b[0m\u001b[0mfit\u001b[0m\u001b[0;34m(\u001b[0m\u001b[0;34m)\u001b[0m\u001b[0;34m\u001b[0m\u001b[0;34m\u001b[0m\u001b[0m\n\u001b[1;32m      5\u001b[0m \u001b[0;34m\u001b[0m\u001b[0m\n\u001b[0;32m----> 6\u001b[0;31m \u001b[0mprint\u001b[0m\u001b[0;34m(\u001b[0m\u001b[0mK\u001b[0m\u001b[0;34m.\u001b[0m\u001b[0mscore\u001b[0m\u001b[0;34m(\u001b[0m\u001b[0;34m)\u001b[0m\u001b[0;34m)\u001b[0m\u001b[0;34m\u001b[0m\u001b[0;34m\u001b[0m\u001b[0m\n\u001b[0m\u001b[1;32m      7\u001b[0m \u001b[0;34m\u001b[0m\u001b[0m\n\u001b[1;32m      8\u001b[0m \u001b[0;34m\u001b[0m\u001b[0m\n",
            "\u001b[0;32m<ipython-input-25-774b1f3ec9c1>\u001b[0m in \u001b[0;36mscore\u001b[0;34m(self)\u001b[0m\n\u001b[1;32m     30\u001b[0m     \u001b[0;32mdef\u001b[0m \u001b[0mscore\u001b[0m\u001b[0;34m(\u001b[0m\u001b[0mself\u001b[0m\u001b[0;34m)\u001b[0m\u001b[0;34m:\u001b[0m\u001b[0;34m\u001b[0m\u001b[0;34m\u001b[0m\u001b[0m\n\u001b[1;32m     31\u001b[0m \u001b[0;34m\u001b[0m\u001b[0m\n\u001b[0;32m---> 32\u001b[0;31m         \u001b[0;32mreturn\u001b[0m \u001b[0mself\u001b[0m\u001b[0;34m.\u001b[0m\u001b[0mclf\u001b[0m\u001b[0;34m.\u001b[0m\u001b[0mscore\u001b[0m\u001b[0;34m(\u001b[0m\u001b[0mself\u001b[0m\u001b[0;34m.\u001b[0m\u001b[0mX_test\u001b[0m\u001b[0;34m,\u001b[0m\u001b[0mself\u001b[0m\u001b[0;34m.\u001b[0m\u001b[0my_test\u001b[0m\u001b[0;34m)\u001b[0m\u001b[0;34m\u001b[0m\u001b[0;34m\u001b[0m\u001b[0m\n\u001b[0m",
            "\u001b[0;31mAttributeError\u001b[0m: 'knn' object has no attribute 'X_test'"
          ]
        }
      ]
    },
    {
      "cell_type": "code",
      "source": [
        "iris = datasets.load_iris()\n",
        "\n",
        "X_iris = iris.data[:, :]  # we only take the first two features.\n",
        "y_iris = iris.target\n",
        "data =np.hstack((X_iris,np.reshape(y_iris,(X_iris.shape[0],1))))\n",
        "K = knn(data, param_modele, param_split )\n",
        "K.fit()\n",
        "K.predict()"
      ],
      "metadata": {
        "id": "3CbC9wNb4koH"
      },
      "id": "3CbC9wNb4koH",
      "execution_count": 29,
      "outputs": []
    },
    {
      "cell_type": "code",
      "source": [
        "\n",
        "d = dict() #dictionnaire de temps en fonction du nombre de features\n",
        "\n",
        "for n in range(1,50):\n",
        "  X_iris = iris.data[:n, :]  # we only take the first n features.\n",
        "  y_iris = iris.target\n",
        "  data =np.hstack((X_iris,np.reshape(y_iris,(X_iris.shape[0],1))))\n",
        " \n",
        "  knn= knn(data, param_modele )\n",
        "  co.fit(CB_iris)\n",
        "  test =  np.random.randn(X_iris.shape[1],)\n",
        "  start_time = time.time()\n",
        "  label,labels,gamma = co.predict(test)\n",
        "  d[n] = (time.time()-start_time)\n",
        "\n",
        "\n"
      ],
      "metadata": {
        "id": "xQ9CkHJc5qpW"
      },
      "id": "xQ9CkHJc5qpW",
      "execution_count": null,
      "outputs": []
    }
  ],
  "metadata": {
    "kernelspec": {
      "display_name": "Python 3 (ipykernel)",
      "language": "python",
      "name": "python3"
    },
    "language_info": {
      "codemirror_mode": {
        "name": "ipython",
        "version": 3
      },
      "file_extension": ".py",
      "mimetype": "text/x-python",
      "name": "python",
      "nbconvert_exporter": "python",
      "pygments_lexer": "ipython3",
      "version": "3.8.5"
    },
    "colab": {
      "name": "Main.ipynb",
      "provenance": [],
      "toc_visible": true,
      "include_colab_link": true
    }
  },
  "nbformat": 4,
  "nbformat_minor": 5
}