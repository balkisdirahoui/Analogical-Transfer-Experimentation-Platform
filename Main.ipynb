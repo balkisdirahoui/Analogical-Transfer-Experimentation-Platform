{
  "cells": [
    {
      "cell_type": "markdown",
      "metadata": {
        "id": "view-in-github",
        "colab_type": "text"
      },
      "source": [
        "<a href=\"https://colab.research.google.com/github/balkisdirahoui/pldac-/blob/main/Main.ipynb\" target=\"_parent\"><img src=\"https://colab.research.google.com/assets/colab-badge.svg\" alt=\"Open In Colab\"/></a>"
      ]
    },
    {
      "cell_type": "code",
      "execution_count": 2,
      "id": "4f53dbf8",
      "metadata": {
        "id": "4f53dbf8"
      },
      "outputs": [],
      "source": [
        "import numpy as np\n",
        "import sklearn\n",
        "from sklearn.neighbors import KNeighborsClassifier as KNN\n",
        "from sklearn import tree\n",
        "from sklearn.model_selection import train_test_split\n",
        "import math\n",
        "import timeit\n",
        "import time\n",
        "import matplotlib.pyplot as plt\n",
        "from google.colab import drive\n",
        "drive.mount('/content/drive')\n",
        "import sys \n",
        "sys.path.append('/content/drive/MyDrive/utilitaire')\n",
        "#%load_ext autoreload\n",
        "#%autoreload 2"
      ]
    },
    {
      "cell_type": "markdown",
      "id": "b5ee5194",
      "metadata": {
        "id": "b5ee5194"
      },
      "source": [
        "### Objet split"
      ]
    },
    {
      "cell_type": "code",
      "execution_count": 3,
      "id": "71f92c77",
      "metadata": {
        "id": "71f92c77"
      },
      "outputs": [],
      "source": [
        "class split():\n",
        "  \n",
        "    def __init_(self,data):\n",
        "        self.data = data\n",
        "        \n",
        "    def split(self):\n",
        "        return data\n",
        "\n",
        "class splitML(split):\n",
        "    def __init_(self,data, test_size, random_state):\n",
        "        super().__init__(data)\n",
        "        self.test_size =test_size\n",
        "        self.random_state = random_state\n",
        "        \n",
        "    def split(self):\n",
        "        return train_test_split(X, y, test_size= self.test_size , random_state= self.random_state)\n",
        "    \n",
        "class splitTransfert(split):\n",
        "    def __init_(self,data):\n",
        "        super().__init__(data)\n"
      ]
    },
    {
      "cell_type": "markdown",
      "id": "4a7346f9",
      "metadata": {
        "id": "4a7346f9"
      },
      "source": [
        "### Main"
      ]
    },
    {
      "cell_type": "code",
      "execution_count": 6,
      "id": "6468834a",
      "metadata": {
        "id": "6468834a"
      },
      "outputs": [],
      "source": [
        "\n",
        "class main :\n",
        "\n",
        "  \"\"\"modele : objet de la classe medele \n",
        "  \"\"\"\n",
        "  #modele = modele(data,params,metric)\n",
        "    "
      ]
    },
    {
      "cell_type": "code",
      "execution_count": 7,
      "id": "4a785b47",
      "metadata": {
        "id": "4a785b47"
      },
      "outputs": [],
      "source": [
        "class classifieur:\n",
        "  \n",
        "    def __init__(self,data,param_modele,param_split):\n",
        "        self.data =data\n",
        "        self.param_modele = param_modele\n",
        "        self.param_split = param_split\n",
        "\n",
        "        \n",
        "    def fit(X,y):\n",
        "        pass\n",
        "    def predict(X):\n",
        "        pass\n",
        "    def score(X,y):\n",
        "        pass\n",
        "    \n",
        "    def split(self):\n",
        "        pass\n",
        "\n",
        "        "
      ]
    },
    {
      "cell_type": "markdown",
      "id": "0f9455f0",
      "metadata": {
        "id": "0f9455f0"
      },
      "source": [
        "### KNN"
      ]
    },
    {
      "cell_type": "code",
      "execution_count": 90,
      "id": "bbf77287",
      "metadata": {
        "id": "bbf77287"
      },
      "outputs": [],
      "source": [
        "\n",
        "class knn(classifieur):\n",
        "    \"\"\"\n",
        "    params = {\"n_neigbors\" : 2, \"metric\" : 'cosine' } par exemple\n",
        "    param_modele : les parametres propres a un modeles \n",
        "    param_split : la taille du test et du train \n",
        "    \"\"\"\n",
        "    \n",
        "    def __init__(self,data,param_modele,param_split):\n",
        "        super().__init__(data,param_modele, param_split)\n",
        "        for key in param_modele:\n",
        "            setattr(self,key,param_modele[key])\n",
        "            \n",
        "        self.clf = KNN(**param_modele)\n",
        "        print(data.shape)\n",
        "        self.X_train,  self.X_test, self.y_train, self.y_test = train_test_split(data[:,:-1],data[:,-1], **param_split)\n",
        "       \n",
        "\n",
        "    def fit(self):\n",
        "        self.clf.fit(self.X_train,self.y_train)\n",
        "    def predcit(self):\n",
        "        return self.clf.predict(self.X_test)\n",
        "    def score(self):\n",
        "      \n",
        "        return self.clf.score(self.X_test,self.y_test)\n"
      ]
    },
    {
      "cell_type": "code",
      "execution_count": 91,
      "id": "e1b17d58",
      "metadata": {
        "id": "e1b17d58",
        "outputId": "d70c734b-7550-444e-d6ad-696652001b20",
        "colab": {
          "base_uri": "https://localhost:8080/"
        }
      },
      "outputs": [
        {
          "output_type": "stream",
          "name": "stdout",
          "text": [
            "data\n",
            "2\n"
          ]
        }
      ],
      "source": [
        "p = {\"a\" : 2,\"b\":2, \"c\" : 2}\n",
        "def f(data , a, b, c ):\n",
        "    print(data)\n",
        "    print(a)\n",
        "\n",
        "f(\"data\",**p)"
      ]
    },
    {
      "cell_type": "code",
      "execution_count": 92,
      "id": "751d65e2",
      "metadata": {
        "id": "751d65e2"
      },
      "outputs": [],
      "source": [
        "def genere_dataset_gaussian(positive_center,positive_sigma,negative_center,negative_sigma,nb_points):\n",
        "    data_pos= np.random.multivariate_normal(positive_center, positive_sigma, nb_points)\n",
        "    data_neg= np.random.multivariate_normal(negative_center, negative_sigma, nb_points)\n",
        "\n",
        "    data_label=np.asarray([-1 for i in range (nb_points)] +[+1 for i in range(nb_points)])\n",
        "    \n",
        "    data_decs=np.vstack((data_neg,data_pos))\n",
        "    return data_decs,data_label     \n",
        "\n",
        "\n",
        "X2, y2 = genere_dataset_gaussian(np.array([1,1]),np.array([[1,0],[0,1]]),np.array([-1,-1]),np.array([[1,0],[0,1]]),10)\n",
        "\n",
        "data2=np.hstack((X2,np.reshape(y2,(20,1))))# gaussian"
      ]
    },
    {
      "cell_type": "code",
      "execution_count": 93,
      "id": "5d57c00b",
      "metadata": {
        "id": "5d57c00b",
        "outputId": "3dda35fb-722d-478c-95fc-fef845d5f6ed",
        "colab": {
          "base_uri": "https://localhost:8080/"
        }
      },
      "outputs": [
        {
          "output_type": "stream",
          "name": "stdout",
          "text": [
            "[-1. -1. -1. -1. -1. -1. -1. -1. -1. -1.  1.  1.  1.  1.  1.  1.  1.  1.\n",
            "  1.  1.]\n"
          ]
        }
      ],
      "source": [
        "print(data2[:,-1])\n"
      ]
    },
    {
      "cell_type": "code",
      "execution_count": 94,
      "id": "1b77dc85",
      "metadata": {
        "id": "1b77dc85",
        "outputId": "3e076112-a68d-443d-b8b9-8746953ce88f",
        "colab": {
          "base_uri": "https://localhost:8080/"
        }
      },
      "outputs": [
        {
          "output_type": "stream",
          "name": "stdout",
          "text": [
            "(20, 3)\n",
            "1.0\n"
          ]
        }
      ],
      "source": [
        "param_modele = {\"n_neighbors\" : 2, \"metric\" : 'cosine'}\n",
        "param_split  = {\"test_size\" : 0.33 , \"random_state\" : 42}\n",
        "K = knn(data2, param_modele, param_split )\n",
        "K.fit()\n",
        "print(K.score())"
      ]
    },
    {
      "cell_type": "code",
      "execution_count": 95,
      "id": "92d62a04",
      "metadata": {
        "id": "92d62a04"
      },
      "outputs": [],
      "source": [
        "prams = {\"n_neighbors\" : 2, \"metric\" : 'cosine' }"
      ]
    },
    {
      "cell_type": "code",
      "source": [
        ""
      ],
      "metadata": {
        "id": "2zvhccGvaFrc"
      },
      "id": "2zvhccGvaFrc",
      "execution_count": 95,
      "outputs": []
    },
    {
      "cell_type": "markdown",
      "id": "d135c607",
      "metadata": {
        "id": "d135c607"
      },
      "source": [
        "### Decision trees"
      ]
    },
    {
      "cell_type": "code",
      "execution_count": 96,
      "id": "3d1aba8c",
      "metadata": {
        "id": "3d1aba8c"
      },
      "outputs": [],
      "source": [
        "class dtrees(classifieur):\n",
        "    \n",
        "    \n",
        "    def __init__(self,data,param_modele,param_split):\n",
        "        super().__init__(data,param_modele, param_split)\n",
        "        for key in param_modele:\n",
        "            setattr(self,key,param_modele[key])\n",
        "            \n",
        "        self.clf = tree.DecisionTreeClassifier(**param_modele)\n",
        "\n",
        "        self.X_train,  self.X_test, self.y_train, self.y_test = train_test_split(data[:,:-1],data[:,-1], **param_split)\n",
        "    \n",
        "   \n",
        "    def fit(self):\n",
        "        self.clf.fit(self.X_train, self.y_train )\n",
        "    def predcit(self):\n",
        "        return self.clf.predict(self.X_test)\n",
        "    def score(self):\n",
        "        return self.clf.score(self.X_test,self.y_test)\n",
        "    \n",
        "    \n"
      ]
    },
    {
      "cell_type": "code",
      "execution_count": 97,
      "id": "82cc0dde",
      "metadata": {
        "id": "82cc0dde",
        "outputId": "b187ae94-cad0-4427-cf4a-13ce1c2ddcc2",
        "colab": {
          "base_uri": "https://localhost:8080/"
        }
      },
      "outputs": [
        {
          "output_type": "execute_result",
          "data": {
            "text/plain": [
              "1.0"
            ]
          },
          "metadata": {},
          "execution_count": 97
        }
      ],
      "source": [
        "param_split  = {\"test_size\" : 0.33 , \"random_state\" : 42}\n",
        "params_dtree= {\"max_depth\" : 3  } \n",
        "dtree = dtrees(data2,params_dtree,param_split)\n",
        "dtree.fit()\n",
        "dtree.max_depth\n",
        "dtree.score()"
      ]
    },
    {
      "cell_type": "markdown",
      "id": "12e2476b",
      "metadata": {
        "id": "12e2476b"
      },
      "source": [
        "### CoAt"
      ]
    },
    {
      "cell_type": "code",
      "source": [
        "\n",
        "class coAT(classifieur):\n",
        "\n",
        "    def __init__(self, data,param_modele ,param_split=dict()): \n",
        "      super().__init__(data, param_modele ,param_split)\n",
        "      for key in param_modele:\n",
        "          setattr(self,key,param_modele[key])\n",
        "      self.CB = []\n",
        "    \n",
        "    def set_sigS(self,sigS):\n",
        "      self.sigS = sigS\n",
        "        \n",
        "    def set_sigR(self,sigR):\n",
        "      self.sigR = sigR\n",
        "    #fit\n",
        "    def fit(self,data):\n",
        "      self.CB = data\n",
        "    #predict\n",
        "    def change_outcomes(self,x,y):\n",
        "      return (x,y)\n",
        "    def predict(self,x):\n",
        "      \"\"\"\n",
        "      prend en entrée un tuple x et retourne son label \n",
        "      (label qui minimise la complexité)\n",
        "      \"\"\"\n",
        "      l = []\n",
        "      times = []\n",
        "     \n",
        "      \n",
        "      for y in self.labels:\n",
        "        tuple =  self.change_outcomes(x,y)\n",
        "       \n",
        "        l.append(self.inv(tuple,self.CB,self.w))\n",
        "   \n",
        "      return self.labels[np.argmin(l)],self.labels,l\n",
        "\n",
        "\n",
        "    def score():\n",
        "      pass\n",
        "    \n",
        "    #autre \n",
        "    def inv(self,s0, CB,w):\n",
        "      \"\"\"\n",
        "      fonction qui calcule la cardinalité de l'ensemble ou sigmaS et sigmaR sont iversé pour un s0\n",
        "      sigS : mesure de similarité 1\n",
        "      sigR : mesure de similarité 2\n",
        "      -> faire l'autre moitié des tests\n",
        "      -> mettre les Sig dans des variable\n",
        "      \"\"\"\n",
        "      cpt=0\n",
        "      #parcourir les tuples du dataset \n",
        "      for si in  range(len(CB))  :\n",
        "        for sj in range(si+1,len(CB)) :\n",
        "          #########\n",
        "          #CB[si] = [()]\n",
        "          #CB[si][0] = () le reste dependra de la fonction de similarité (dimensions)\n",
        "          sigS_si = self.sigS(s0[0],CB[si][0],self.w)\n",
        "          sigS_sj = self.sigS(s0[0],CB[sj][0],self.w)\n",
        "          sigR_si = self.sigR(s0[1],CB[si][1])\n",
        "          sigR_sj = self.sigR(s0[1],CB[sj][1])\n",
        "          ########\n",
        "          #incrementer si inversion de similarité (sigR se base sur les labels)\n",
        "          if( (sigS_si>=sigS_sj) and (sigR_si<sigR_sj)) or ( (sigS_si<sigS_sj) and (sigR_si>=sigR_sj)): \n",
        "            cpt+=1    \n",
        "      return cpt\n",
        "    def complex(self,CB):\n",
        "      \"\"\"\n",
        "      fonction qui calcule la complexité d'un CB (dataset)\n",
        "      \"\"\"\n",
        "      gamma=0\n",
        "      for s0 in CB:\n",
        "          gamma += self.inv(s0,CB,self.w)\n",
        "      return gamma\n",
        "\n",
        "    def predict_nonopt(self,x):\n",
        "      \"\"\"\n",
        "      prend en entrée un tuple x et retourne son label \n",
        "      (label qui minimise la complexité)\n",
        "      \"\"\"\n",
        "      l = []\n",
        " \n",
        "      for y in self.labels:\n",
        "        tmp = self.CB + [self.change_outcomes(x,y)]\n",
        "        start_time = time.time()\n",
        "        l.append(self.complex(tmp))\n",
        "      \n",
        "      return self.labels[np.argmin(l)],self.labels,l\n",
        "\n",
        "\n",
        "  \n",
        "# CoAT n'est pas ordinal \n",
        "# CCBI l'est\n"
      ],
      "metadata": {
        "id": "_j526Y6daHnv"
      },
      "id": "_j526Y6daHnv",
      "execution_count": 17,
      "outputs": []
    },
    {
      "cell_type": "markdown",
      "id": "7d6f9e07",
      "metadata": {
        "id": "7d6f9e07"
      },
      "source": [
        "### Similarities"
      ]
    },
    {
      "cell_type": "code",
      "execution_count": 6,
      "id": "830fee34",
      "metadata": {
        "id": "830fee34"
      },
      "outputs": [],
      "source": [
        "def sigmaArea(a1,a2):\n",
        "  \"\"\"\n",
        "  retourne la similarité entre deux areas (int)\n",
        "  \"\"\"\n",
        "  return(int(a1==a2))\n",
        "####\n",
        "#Nb rooms\n",
        "def polynomialSim(n,L,y,x):\n",
        "  \n",
        "  return ((L-abs(y-x)**n)/(L**n))\n",
        "\n",
        "def sigmaNbrooms(nb1,nb2):\n",
        "  \"\"\"\n",
        "  Sigma nb rooms, mesure de similarité de nb rooms\n",
        "  \"\"\"\n",
        "  return polynomialSim(2,6,nb1,nb2)\n",
        "\n",
        "def sigmaS(a,b,w):\n",
        "  \"\"\"\n",
        "  w : list of weights\n",
        "  a : list [nbrooms1,area1]\n",
        "  b : list [nbrooms2,area2]\n",
        "  \"\"\"\n",
        "  nb_rooms1 , area1= a[0],a[1]\n",
        "  nb_rooms2 , area2= b[0],b[1]\n",
        "  #weights between 0.01 and 0.64\n",
        "  sigmaAr=sigmaArea(area1,area2)\n",
        "  sigmarooms = sigmaNbrooms(nb_rooms1,nb_rooms2)\n",
        "  return w[0]*sigmarooms + (1-w[1])*sigmaAr\n",
        "\n",
        "def sigmaR(p1,p2):\n",
        "  return polynomialSim(2,1000,p1,p2)"
      ]
    },
    {
      "cell_type": "code",
      "execution_count": 100,
      "id": "da015e67",
      "metadata": {
        "id": "da015e67"
      },
      "outputs": [],
      "source": [
        "#données\n",
        "\"\"\"\n",
        "situation : 0,1,2,\n",
        "nb_rooms : 1,2,3\n",
        "area : 0:midtown ,1 : downtown\n",
        "price: \n",
        "\"\"\"\n",
        "X_coat = np.array([[1,0], [2,0],[1,1],[3,1]])\n",
        "y_coat = np.array([440,600,700,900])\n",
        "\n",
        "\n",
        "#constuire les données\n",
        "CB_coAt=[]\n",
        "for i in range(len(X_coat)):\n",
        "  CB_coAt.append((X_coat[i].tolist(),y_coat[i]))\n"
      ]
    },
    {
      "cell_type": "code",
      "source": [
        "#modele\n",
        "param_modele = {\"sigS\" : sigmaS, \"sigR\" : sigmaR,\"w\":[0.5,0.5],\"labels\" : [440,600,700,900] + (np.arange(400,1200,100)).tolist()}\n",
        "co= coAT([],param_modele )\n",
        "#fit\n",
        "co.fit(CB_coAt)\n",
        "#predict\n",
        "label,labels,gamma,_ = co.predict([2, 1])\n",
        "labeln,labelsn,gamman,_ = co.predict_nonopt([2, 1])\n",
        "print(\"le meilleur prix est : \",label)"
      ],
      "metadata": {
        "colab": {
          "base_uri": "https://localhost:8080/"
        },
        "id": "1C5t-L9GhjKI",
        "outputId": "7e4bda56-458e-4414-b818-9e30a9545725"
      },
      "id": "1C5t-L9GhjKI",
      "execution_count": 112,
      "outputs": [
        {
          "output_type": "stream",
          "name": "stdout",
          "text": [
            "le meilleur prix est :  800\n"
          ]
        }
      ]
    },
    {
      "cell_type": "markdown",
      "source": [
        "### Variation du temps"
      ],
      "metadata": {
        "id": "PHEc_bA3-RrZ"
      },
      "id": "PHEc_bA3-RrZ"
    },
    {
      "cell_type": "code",
      "source": [
        "d = dict()\n",
        "for l,g in zip(labels,gamma):\n",
        "  d[l] = g\n",
        "print(d)\n",
        "lists = sorted(d.items())\n",
        "labels,gamma = zip(*lists)\n",
        "\n",
        "\n",
        "plt.xlabel('Predicted Price')\n",
        "plt.ylabel('Complexity gamma')\n",
        "plt.title('Complexity for each potential price ')\n",
        "plt.plot(labels,gamma,'bo--')\n",
        "plt.show()"
      ],
      "metadata": {
        "id": "3W8H-OiN98fS",
        "outputId": "a739cf0a-eece-4a5a-8a9d-1bc5252dc6ae",
        "colab": {
          "base_uri": "https://localhost:8080/",
          "height": 270
        }
      },
      "id": "3W8H-OiN98fS",
      "execution_count": 7,
      "outputs": [
        {
          "output_type": "error",
          "ename": "NameError",
          "evalue": "ignored",
          "traceback": [
            "\u001b[0;31m---------------------------------------------------------------------------\u001b[0m",
            "\u001b[0;31mNameError\u001b[0m                                 Traceback (most recent call last)",
            "\u001b[0;32m<ipython-input-7-c2abb24a68ad>\u001b[0m in \u001b[0;36m<module>\u001b[0;34m()\u001b[0m\n\u001b[1;32m      1\u001b[0m \u001b[0md\u001b[0m \u001b[0;34m=\u001b[0m \u001b[0mdict\u001b[0m\u001b[0;34m(\u001b[0m\u001b[0;34m)\u001b[0m\u001b[0;34m\u001b[0m\u001b[0;34m\u001b[0m\u001b[0m\n\u001b[0;32m----> 2\u001b[0;31m \u001b[0;32mfor\u001b[0m \u001b[0ml\u001b[0m\u001b[0;34m,\u001b[0m\u001b[0mg\u001b[0m \u001b[0;32min\u001b[0m \u001b[0mzip\u001b[0m\u001b[0;34m(\u001b[0m\u001b[0mlabels\u001b[0m\u001b[0;34m,\u001b[0m\u001b[0mgamma\u001b[0m\u001b[0;34m)\u001b[0m\u001b[0;34m:\u001b[0m\u001b[0;34m\u001b[0m\u001b[0;34m\u001b[0m\u001b[0m\n\u001b[0m\u001b[1;32m      3\u001b[0m   \u001b[0md\u001b[0m\u001b[0;34m[\u001b[0m\u001b[0ml\u001b[0m\u001b[0;34m]\u001b[0m \u001b[0;34m=\u001b[0m \u001b[0mg\u001b[0m\u001b[0;34m\u001b[0m\u001b[0;34m\u001b[0m\u001b[0m\n\u001b[1;32m      4\u001b[0m \u001b[0mprint\u001b[0m\u001b[0;34m(\u001b[0m\u001b[0md\u001b[0m\u001b[0;34m)\u001b[0m\u001b[0;34m\u001b[0m\u001b[0;34m\u001b[0m\u001b[0m\n\u001b[1;32m      5\u001b[0m \u001b[0mlists\u001b[0m \u001b[0;34m=\u001b[0m \u001b[0msorted\u001b[0m\u001b[0;34m(\u001b[0m\u001b[0md\u001b[0m\u001b[0;34m.\u001b[0m\u001b[0mitems\u001b[0m\u001b[0;34m(\u001b[0m\u001b[0;34m)\u001b[0m\u001b[0;34m)\u001b[0m\u001b[0;34m\u001b[0m\u001b[0;34m\u001b[0m\u001b[0m\n",
            "\u001b[0;31mNameError\u001b[0m: name 'labels' is not defined"
          ]
        }
      ]
    },
    {
      "cell_type": "code",
      "source": [
        "d2 = dict()\n",
        "for l,g in zip(labelsn,gamman):\n",
        "  d2[l] = g\n",
        "print(d2)\n",
        "lists2 = sorted(d2.items())\n",
        "labelsn,gamman = zip(*lists2)\n",
        "plt.xlabel('Predicted Price')\n",
        "plt.ylabel('Complexity gamma')\n",
        "plt.title('Complexity for each potential price ')\n",
        "plt.plot(labelsn,gamman,'ro--')\n",
        "\n",
        "plt.show()"
      ],
      "metadata": {
        "colab": {
          "base_uri": "https://localhost:8080/",
          "height": 332
        },
        "id": "Y81fSvFaap-7",
        "outputId": "24a778ce-5a66-4b1d-80b4-3d326d6c99db"
      },
      "id": "Y81fSvFaap-7",
      "execution_count": 114,
      "outputs": [
        {
          "output_type": "stream",
          "name": "stdout",
          "text": [
            "{440: 18, 600: 12, 700: 8, 900: 10, 400: 17, 500: 16, 800: 5, 1000: 10, 1100: 11}\n"
          ]
        },
        {
          "output_type": "display_data",
          "data": {
            "text/plain": [
              "<Figure size 432x288 with 1 Axes>"
            ],
            "image/png": "[encoded data removed]"
          },
          "metadata": {
            "needs_background": "light"
          }
        }
      ]
    },
    {
      "cell_type": "code",
      "source": [
        "d2 = dict()\n",
        "for l,g in zip(labelsn,gamman):\n",
        "  d2[l] = g\n",
        "print(d2)\n",
        "lists = sorted(d2.items())\n",
        "labelsn,gamman = zip(*lists)\n",
        "plt.xlabel('Predicted Price')\n",
        "plt.ylabel('Complexity gamma')\n",
        "plt.title('Complexity for each potential price ')\n",
        "plt.plot(labelsn,gamman,'ro--',label=\"non opt\")\n",
        "plt.plot(labels,gamma,'bo--',label=\"opt\")\n",
        "plt.legend()\n",
        "plt.show()\n",
        "\n"
      ],
      "metadata": {
        "colab": {
          "base_uri": "https://localhost:8080/",
          "height": 332
        },
        "id": "TpZOuvE0ZmCN",
        "outputId": "7d1c86ff-d9d3-4355-ab72-a07d376361f0"
      },
      "id": "TpZOuvE0ZmCN",
      "execution_count": 106,
      "outputs": [
        {
          "output_type": "stream",
          "name": "stdout",
          "text": [
            "{400: 17, 440: 18, 500: 16, 600: 12, 700: 8, 800: 5, 900: 10, 1000: 10, 1100: 11}\n"
          ]
        },
        {
          "output_type": "display_data",
          "data": {
            "text/plain": [
              "<Figure size 432x288 with 1 Axes>"
            ],
            "image/png": "[encoded data removed]"
          },
          "metadata": {
            "needs_background": "light"
          }
        }
      ]
    },
    {
      "cell_type": "markdown",
      "source": [
        "## Variation du temps d'execution"
      ],
      "metadata": {
        "id": "Oi72LLQHGBrW"
      },
      "id": "Oi72LLQHGBrW"
    },
    {
      "cell_type": "code",
      "source": [
        "labelopt,labels,_,timesopt= co.predict([2, 1])\n",
        "label,times = co.predict_nonopt([2, 1])\n",
        "# verification que c'est le meme \n",
        "print(labelopt == label)"
      ],
      "metadata": {
        "id": "y7CSSoeaE0g3",
        "colab": {
          "base_uri": "https://localhost:8080/",
          "height": 253
        },
        "outputId": "4fb4b8e6-1a8d-48f9-d62a-36aee61f0135"
      },
      "id": "y7CSSoeaE0g3",
      "execution_count": 107,
      "outputs": [
        {
          "output_type": "error",
          "ename": "ValueError",
          "evalue": "ignored",
          "traceback": [
            "\u001b[0;31m---------------------------------------------------------------------------\u001b[0m",
            "\u001b[0;31mValueError\u001b[0m                                Traceback (most recent call last)",
            "\u001b[0;32m<ipython-input-107-4c2a498596dd>\u001b[0m in \u001b[0;36m<module>\u001b[0;34m()\u001b[0m\n\u001b[1;32m      1\u001b[0m \u001b[0mlabelopt\u001b[0m\u001b[0;34m,\u001b[0m\u001b[0mlabels\u001b[0m\u001b[0;34m,\u001b[0m\u001b[0m_\u001b[0m\u001b[0;34m,\u001b[0m\u001b[0mtimesopt\u001b[0m\u001b[0;34m=\u001b[0m \u001b[0mco\u001b[0m\u001b[0;34m.\u001b[0m\u001b[0mpredict\u001b[0m\u001b[0;34m(\u001b[0m\u001b[0;34m[\u001b[0m\u001b[0;36m2\u001b[0m\u001b[0;34m,\u001b[0m \u001b[0;36m1\u001b[0m\u001b[0;34m]\u001b[0m\u001b[0;34m)\u001b[0m\u001b[0;34m\u001b[0m\u001b[0;34m\u001b[0m\u001b[0m\n\u001b[0;32m----> 2\u001b[0;31m \u001b[0mlabel\u001b[0m\u001b[0;34m,\u001b[0m\u001b[0mtimes\u001b[0m \u001b[0;34m=\u001b[0m \u001b[0mco\u001b[0m\u001b[0;34m.\u001b[0m\u001b[0mpredict_nonopt\u001b[0m\u001b[0;34m(\u001b[0m\u001b[0;34m[\u001b[0m\u001b[0;36m2\u001b[0m\u001b[0;34m,\u001b[0m \u001b[0;36m1\u001b[0m\u001b[0;34m]\u001b[0m\u001b[0;34m)\u001b[0m\u001b[0;34m\u001b[0m\u001b[0;34m\u001b[0m\u001b[0m\n\u001b[0m\u001b[1;32m      3\u001b[0m \u001b[0;31m# verification que c'est le meme\u001b[0m\u001b[0;34m\u001b[0m\u001b[0;34m\u001b[0m\u001b[0;34m\u001b[0m\u001b[0m\n\u001b[1;32m      4\u001b[0m \u001b[0mprint\u001b[0m\u001b[0;34m(\u001b[0m\u001b[0mlabelopt\u001b[0m \u001b[0;34m==\u001b[0m \u001b[0mlabel\u001b[0m\u001b[0;34m)\u001b[0m\u001b[0;34m\u001b[0m\u001b[0;34m\u001b[0m\u001b[0m\n",
            "\u001b[0;31mValueError\u001b[0m: too many values to unpack (expected 2)"
          ]
        }
      ]
    },
    {
      "cell_type": "markdown",
      "source": [
        "#### Plot"
      ],
      "metadata": {
        "id": "GA7pO6jXGFbA"
      },
      "id": "GA7pO6jXGFbA"
    },
    {
      "cell_type": "code",
      "source": [
        "\n",
        "\n",
        "\n",
        "d = dict()\n",
        "for l,g in zip(labels,times):\n",
        "  d[l] = g\n",
        "print(d)\n",
        "lists = sorted(d.items())\n",
        "labels,times = zip(*lists)\n",
        "\n",
        "d2 = dict()\n",
        "for l,g in zip(labels,timesopt):\n",
        "  d2[l] = g\n",
        "print(d)\n",
        "lists = sorted(d2.items())\n",
        "labels,timesopt = zip(*lists)\n",
        "\n",
        "plt.xlabel('Predicted Price')\n",
        "plt.ylabel('time')\n",
        "plt.title('Time for each potential price ')\n",
        "plt.plot(labels,times,'bo--',label = 'temps ')\n",
        "plt.plot(labels,timesopt,'ro--',label = 'temps optimisé')\n",
        "plt.legend()\n",
        "plt.show()"
      ],
      "metadata": {
        "colab": {
          "base_uri": "https://localhost:8080/",
          "height": 350
        },
        "id": "G8ktiU32Er5_",
        "outputId": "265521ec-77e0-400f-e89e-42178f5cc9f9"
      },
      "id": "G8ktiU32Er5_",
      "execution_count": 118,
      "outputs": [
        {
          "output_type": "stream",
          "name": "stdout",
          "text": [
            "{400: 0.0005087852478027344, 440: 0.00048661231994628906, 500: 0.0004956722259521484, 600: 0.0004849433898925781, 700: 0.0005052089691162109, 800: 0.00048279762268066406, 900: 0.0005042552947998047, 1000: 0.00048470497131347656, 1100: 0.0004923343658447266}\n",
            "{400: 0.0005087852478027344, 440: 0.00048661231994628906, 500: 0.0004956722259521484, 600: 0.0004849433898925781, 700: 0.0005052089691162109, 800: 0.00048279762268066406, 900: 0.0005042552947998047, 1000: 0.00048470497131347656, 1100: 0.0004923343658447266}\n"
          ]
        },
        {
          "output_type": "display_data",
          "data": {
            "text/plain": [
              "<Figure size 432x288 with 1 Axes>"
            ],
            "image/png": "[encoded data removed]"
          },
          "metadata": {
            "needs_background": "light"
          }
        }
      ]
    },
    {
      "cell_type": "code",
      "source": [
        "from sklearn import datasets\n",
        "\n",
        "# import some data to play with\n",
        "iris = datasets.load_iris()\n",
        "X_iris = iris.data[:, :2]  # we only take the first two features.\n",
        "y_iris = iris.target\n",
        "CB_iris=[]\n",
        "for i in range(len(X_iris)-10, len(X_iris)):\n",
        "  CB_iris.append((X_iris[i],y_iris[i]))\n",
        "print(CB_iris)"
      ],
      "metadata": {
        "colab": {
          "base_uri": "https://localhost:8080/"
        },
        "id": "-92cgHoIFjzO",
        "outputId": "62b0e0fc-5d9e-4a79-c132-81ee4d5ab12b"
      },
      "id": "-92cgHoIFjzO",
      "execution_count": 10,
      "outputs": [
        {
          "output_type": "stream",
          "name": "stdout",
          "text": [
            "[(array([6.7, 3.1]), 2), (array([6.9, 3.1]), 2), (array([5.8, 2.7]), 2), (array([6.8, 3.2]), 2), (array([6.7, 3.3]), 2), (array([6.7, 3. ]), 2), (array([6.3, 2.5]), 2), (array([6.5, 3. ]), 2), (array([6.2, 3.4]), 2), (array([5.9, 3. ]), 2)]\n"
          ]
        }
      ]
    },
    {
      "cell_type": "code",
      "source": [
        "\n",
        "def sigS(s1,s2,w =None):\n",
        "  if isinstance(s1, np.ndarray): \n",
        "    return ((np.abs(s1-s2)).sum())**2\n",
        "  return (np.abs(s1-s2))**2\n",
        "  # (np.abs(s1-s2)) ou (np.abs(s1-s2))^2\n",
        "  \n",
        "def sigR(o1,o2,w = None):\n",
        "\n",
        "\n",
        "  return (np.abs(o1-o2))**2\n",
        "#modele\n",
        "param_modele = {\"sigS\" : sigS, \"sigR\" : sigR,\"w\":None,\"labels\" : y_iris}\n",
        "co= coAT([],param_modele )\n",
        "#fit\n",
        "co.fit(CB_iris)\n",
        "#predict\n",
        "label,labels,gamma,_ = co.predict(np.array([6.7, 3.1]))\n",
        "print(label)\n",
        "#labeln,labelsn,gamman,_ = co.predict_nonopt([2, 1])\n",
        "#print(\"le meilleur prix est : \",label)"
      ],
      "metadata": {
        "colab": {
          "base_uri": "https://localhost:8080/"
        },
        "id": "WB6hn2gvbSvo",
        "outputId": "81ce8d4b-da97-4b47-bcc7-d857d7a1284e"
      },
      "id": "WB6hn2gvbSvo",
      "execution_count": 11,
      "outputs": [
        {
          "output_type": "stream",
          "name": "stdout",
          "text": [
            "0\n"
          ]
        }
      ]
    },
    {
      "cell_type": "code",
      "source": [
        "iris = datasets.load_iris()\n",
        "n = 2\n",
        "X_iris = iris.data[:, :n]  # we only take the first two features.\n",
        "y_iris = iris.target\n",
        "CB_iris=[]\n",
        "for i in range(len(X_iris)-10, len(X_iris)):\n",
        "  CB_iris.append((X_iris[i],y_iris[i]))\n",
        "param_modele = {\"sigS\" : sigS, \"sigR\" : sigR,\"w\":None,\"labels\" : y_iris}\n",
        "\n",
        "d = dict() #dictionnaire de temps en fonction du nombre de features\n",
        "\n",
        "for n in range(1,100):\n",
        "  X_iris = iris.data[:n, :]  # we only take the first n features.\n",
        "  y_iris = iris.target\n",
        "  CB_iris=[]\n",
        "  print(n)\n",
        "  for i in range(0, len(X_iris)):\n",
        "\n",
        "    CB_iris.append((X_iris[i],y_iris[i]))\n",
        "  co= coAT([],param_modele )\n",
        "  co.fit(CB_iris)\n",
        "  test =  np.random.randn(X_iris.shape[1],)\n",
        "  start_time = time.time()\n",
        "  label,labels,gamma = co.predict(test)\n",
        "  d[n] = (time.time()-start_time)\n",
        "\n",
        "\n"
      ],
      "metadata": {
        "colab": {
          "base_uri": "https://localhost:8080/"
        },
        "id": "CK0kTOuqcV9y",
        "outputId": "b252ce0d-c4de-4e56-ec92-b66e12a9f792"
      },
      "id": "CK0kTOuqcV9y",
      "execution_count": 18,
      "outputs": [
        {
          "output_type": "stream",
          "name": "stdout",
          "text": [
            "1\n",
            "2\n",
            "3\n",
            "4\n",
            "5\n",
            "6\n",
            "7\n",
            "8\n",
            "9\n",
            "10\n",
            "11\n",
            "12\n",
            "13\n",
            "14\n",
            "15\n",
            "16\n",
            "17\n",
            "18\n",
            "19\n",
            "20\n",
            "21\n",
            "22\n",
            "23\n",
            "24\n",
            "25\n",
            "26\n",
            "27\n",
            "28\n",
            "29\n",
            "30\n",
            "31\n",
            "32\n",
            "33\n",
            "34\n",
            "35\n",
            "36\n",
            "37\n",
            "38\n",
            "39\n",
            "40\n",
            "41\n",
            "42\n",
            "43\n",
            "44\n",
            "45\n",
            "46\n",
            "47\n",
            "48\n",
            "49\n",
            "50\n",
            "51\n",
            "52\n",
            "53\n",
            "54\n",
            "55\n",
            "56\n",
            "57\n",
            "58\n",
            "59\n",
            "60\n",
            "61\n",
            "62\n",
            "63\n",
            "64\n",
            "65\n",
            "66\n",
            "67\n",
            "68\n",
            "69\n",
            "70\n",
            "71\n",
            "72\n",
            "73\n",
            "74\n",
            "75\n",
            "76\n",
            "77\n",
            "78\n",
            "79\n",
            "80\n",
            "81\n",
            "82\n",
            "83\n",
            "84\n",
            "85\n",
            "86\n",
            "87\n",
            "88\n",
            "89\n",
            "90\n",
            "91\n",
            "92\n",
            "93\n",
            "94\n",
            "95\n",
            "96\n",
            "97\n",
            "98\n",
            "99\n"
          ]
        }
      ]
    },
    {
      "cell_type": "code",
      "source": [
        "d2= dict() #dictionnaire de temps en fonction du nombre de features\n",
        "\n",
        "for n in range(1,100):\n",
        "  X_iris = iris.data[:n, :]  # we only take the first n features.\n",
        "  y_iris = iris.target\n",
        "  CB_iris=[]\n",
        "  print(n)\n",
        "  for i in range(0, len(X_iris)):\n",
        "\n",
        "    CB_iris.append((X_iris[i],y_iris[i]))\n",
        "  co= coAT([],param_modele )\n",
        "  co.fit(CB_iris)\n",
        "  test =  np.random.randn(X_iris.shape[1],)\n",
        "  start_time = time.time()\n",
        "  label,labels,gamma = co.predict_nonopt(test)\n",
        "  d2[n] = (time.time()-start_time)\n",
        "\n"
      ],
      "metadata": {
        "id": "Q3iVzlrHPoXr",
        "outputId": "bdc15d1c-9ef1-49a5-fd51-bf64548faa86",
        "colab": {
          "base_uri": "https://localhost:8080/"
        }
      },
      "id": "Q3iVzlrHPoXr",
      "execution_count": null,
      "outputs": [
        {
          "metadata": {
            "tags": null
          },
          "name": "stdout",
          "output_type": "stream",
          "text": [
            "1\n",
            "2\n",
            "3\n",
            "4\n",
            "5\n",
            "6\n",
            "7\n",
            "8\n",
            "9\n",
            "10\n",
            "11\n",
            "12\n",
            "13\n",
            "14\n",
            "15\n",
            "16\n",
            "17\n",
            "18\n",
            "19\n",
            "20\n",
            "21\n",
            "22\n",
            "23\n",
            "24\n",
            "25\n",
            "26\n",
            "27\n",
            "28\n",
            "29\n",
            "30\n",
            "31\n",
            "32\n",
            "33\n",
            "34\n",
            "35\n",
            "36\n",
            "37\n",
            "38\n",
            "39\n",
            "40\n",
            "41\n",
            "42\n",
            "43\n",
            "44\n",
            "45\n",
            "46\n",
            "47\n",
            "48\n",
            "49\n",
            "50\n",
            "51\n",
            "52\n",
            "53\n",
            "54\n",
            "55\n",
            "56\n",
            "57\n",
            "58\n",
            "59\n",
            "60\n",
            "61\n",
            "62\n",
            "63\n",
            "64\n",
            "65\n",
            "66\n",
            "67\n",
            "68\n",
            "69\n",
            "70\n",
            "71\n",
            "72\n",
            "73\n",
            "74\n",
            "75\n",
            "76\n",
            "77\n",
            "78\n"
          ]
        }
      ]
    },
    {
      "cell_type": "markdown",
      "source": [
        "## Optimisé"
      ],
      "metadata": {
        "id": "iZbzAekXPTWe"
      },
      "id": "iZbzAekXPTWe"
    },
    {
      "cell_type": "code",
      "source": [
        "\n",
        "\n",
        "print(d)\n",
        "lists = sorted(d.items())\n",
        "labels,times = zip(*lists)\n",
        "\n",
        "plt.xlabel('Nombre d exemples')\n",
        "plt.ylabel('temps dexecution')\n",
        "plt.title('Time variation ')\n",
        "plt.plot(labels,times,'ob',label = 'temps ')\n",
        "plt.legend()\n",
        "\n",
        "plt.show()\n",
        "plt.savefig(\"/content/drive/MyDrive/PLDAC/Step 2 /Images/coAT/temps execution selon temps\")"
      ],
      "metadata": {
        "colab": {
          "base_uri": "https://localhost:8080/",
          "height": 350
        },
        "id": "yfx5nyq9ek9r",
        "outputId": "36f7a738-f080-4751-d1f3-854d38d65a83"
      },
      "id": "yfx5nyq9ek9r",
      "execution_count": 23,
      "outputs": [
        {
          "output_type": "stream",
          "name": "stdout",
          "text": [
            "{1: 0.00023245811462402344, 2: 0.002105236053466797, 3: 0.005433082580566406, 4: 0.01047205924987793, 5: 0.02011394500732422, 6: 0.026863813400268555, 7: 0.037726402282714844, 8: 0.04823446273803711, 9: 0.07337617874145508, 10: 0.07684159278869629, 11: 0.09876322746276855, 12: 0.11747074127197266, 13: 0.1349489688873291, 14: 0.16994023323059082, 15: 0.196000337600708, 16: 0.21747994422912598, 17: 0.24416112899780273, 18: 0.2765169143676758, 19: 0.3106241226196289, 20: 0.34557366371154785, 21: 0.3733103275299072, 22: 0.41657257080078125, 23: 0.441575288772583, 24: 0.49948644638061523, 25: 0.5335569381713867, 26: 0.6409435272216797, 27: 0.6140661239624023, 28: 0.6883983612060547, 29: 0.7218670845031738, 30: 0.7834999561309814, 31: 0.8975939750671387, 32: 0.8755819797515869, 33: 0.9465751647949219, 34: 0.9844808578491211, 35: 1.0777788162231445, 36: 1.4961316585540771, 37: 1.2183632850646973, 38: 1.235292911529541, 39: 1.3180606365203857, 40: 1.5356862545013428, 41: 3.432560443878174, 42: 3.9210731983184814, 43: 2.6969237327575684, 44: 1.6827027797698975, 45: 1.7398066520690918, 46: 1.8071050643920898, 47: 1.9079036712646484, 48: 2.026817798614502, 49: 2.0619266033172607, 50: 2.213305711746216, 51: 2.2450156211853027, 52: 2.3692169189453125, 53: 2.468533754348755, 54: 2.600980520248413, 55: 2.750199556350708, 56: 2.6837167739868164, 57: 2.7939348220825195, 58: 2.878265380859375, 59: 3.184638738632202, 60: 3.0954251289367676, 61: 3.2118113040924072, 62: 3.3686673641204834, 63: 3.509864330291748, 64: 3.494442939758301, 65: 3.870619535446167, 66: 3.7502737045288086, 67: 3.91886830329895, 68: 4.11282753944397, 69: 4.243557691574097, 70: 4.303305149078369, 71: 4.389677047729492, 72: 4.784223318099976, 73: 4.917334318161011, 74: 4.829452991485596, 75: 5.56649923324585, 76: 5.4160637855529785, 77: 5.163305759429932, 78: 5.45950984954834, 79: 5.487936019897461, 80: 5.6800148487091064, 81: 5.784776210784912, 82: 5.83472204208374, 83: 6.0542285442352295, 84: 6.373902797698975, 85: 6.31407618522644, 86: 6.483325958251953, 87: 6.741997241973877, 88: 6.74047589302063, 89: 6.951672315597534, 90: 6.962674140930176, 91: 7.289282321929932, 92: 7.486869812011719, 93: 7.496118068695068, 94: 7.832027196884155, 95: 7.842381954193115, 96: 8.33217167854309, 97: 8.302741289138794, 98: 8.541139364242554, 99: 8.50584602355957}\n"
          ]
        },
        {
          "output_type": "display_data",
          "data": {
            "text/plain": [
              "<Figure size 432x288 with 1 Axes>"
            ],
            "image/png": "[encoded data removed]"
          },
          "metadata": {
            "needs_background": "light"
          }
        },
        {
          "output_type": "display_data",
          "data": {
            "text/plain": [
              "<Figure size 432x288 with 0 Axes>"
            ]
          },
          "metadata": {}
        }
      ]
    },
    {
      "cell_type": "code",
      "source": [
        "degree = 2\n",
        "coeffs = np.polyfit(labels, times, degree)\n",
        "p = np.poly1d(coeffs)\n",
        "\n",
        "plt.xlabel('Nombre d exemples')\n",
        "plt.ylabel('temps dexecution')\n",
        "plt.title('Time variation ')\n",
        "plt.plot(labels,times,'ob',label = 'temps  dexecution fonction optimisé')\n",
        "\n",
        "plt.plot(labels, [p(n) for n in labels],'-r')\n",
        "plt.legend()\n",
        "plt.show()\n",
        "plt.savefig(\"/content/drive/MyDrive/PLDAC/Step 2 /Images/coAT/temps execution selon temps\")"
      ],
      "metadata": {
        "id": "BVHNiBvpKw-e",
        "outputId": "7898ac2c-e01f-4299-eb54-d3137c86f826",
        "colab": {
          "base_uri": "https://localhost:8080/",
          "height": 312
        }
      },
      "id": "BVHNiBvpKw-e",
      "execution_count": 26,
      "outputs": [
        {
          "output_type": "display_data",
          "data": {
            "text/plain": [
              "<Figure size 432x288 with 1 Axes>"
            ],
            "image/png": "[encoded data removed]"
          },
          "metadata": {
            "needs_background": "light"
          }
        },
        {
          "output_type": "display_data",
          "data": {
            "text/plain": [
              "<Figure size 432x288 with 0 Axes>"
            ]
          },
          "metadata": {}
        }
      ]
    },
    {
      "cell_type": "markdown",
      "source": [
        "## Non opt"
      ],
      "metadata": {
        "id": "DChu05vXPWxD"
      },
      "id": "DChu05vXPWxD"
    },
    {
      "cell_type": "code",
      "source": [
        "print(d[2])"
      ],
      "metadata": {
        "colab": {
          "base_uri": "https://localhost:8080/"
        },
        "id": "OkGxKBjspvX4",
        "outputId": "3ed5ed3e-3ddd-4873-c7ff-0e3ad044c503"
      },
      "id": "OkGxKBjspvX4",
      "execution_count": 127,
      "outputs": [
        {
          "output_type": "stream",
          "name": "stdout",
          "text": [
            "[0.0005156993865966797, 0.0005092620849609375, 0.0004901885986328125, 0.0005030632019042969, 0.0004906654357910156, 0.0005116462707519531, 0.0004878044128417969, 0.0005245208740234375, 0.0004885196685791016, 0.0005102157592773438, 0.0004918575286865234, 0.0004949569702148438, 0.00048542022705078125, 0.0005080699920654297, 0.00048828125, 0.0005047321319580078, 0.000492095947265625, 0.0005097389221191406, 0.0004923343658447266, 0.0005056858062744141, 0.0004966259002685547, 0.0005102157592773438, 0.0004923343658447266, 0.0005035400390625, 0.0004904270172119141, 0.0005040168762207031, 0.0004894733428955078, 0.0005087852478027344, 0.0004878044128417969, 0.0005004405975341797, 0.0004937648773193359, 0.0005097389221191406, 0.00048828125, 0.0004990100860595703, 0.0004889965057373047, 0.0005118846893310547, 0.0004899501800537109, 0.0005016326904296875, 0.0004892349243164062, 0.0005071163177490234, 0.0005037784576416016, 0.0005037784576416016, 0.0004911422729492188, 0.0005328655242919922, 0.0004811286926269531, 0.0004966259002685547, 0.0006196498870849609, 0.0005085468292236328, 0.0004975795745849609, 0.0004911422729492188, 0.0005049705505371094, 0.00048232078552246094, 0.0004940032958984375, 0.0005054473876953125, 0.0005037784576416016, 0.0004839897155761719, 0.0005140304565429688, 0.0004825592041015625, 0.0005164146423339844, 0.0004837512969970703, 0.0004999637603759766, 0.0004875659942626953, 0.0005056858062744141, 0.0005555152893066406, 0.00049591064453125, 0.0004825592041015625, 0.0004937648773193359, 0.00048279762268066406, 0.0004940032958984375, 0.00048351287841796875, 0.0005075931549072266, 0.0004899501800537109, 0.0004961490631103516, 0.0004851818084716797, 0.0005044937133789062, 0.00048470497131347656, 0.0004947185516357422, 0.0004940032958984375, 0.0005028247833251953, 0.0004897117614746094, 0.0005235671997070312, 0.00048828125, 0.0004990100860595703, 0.00049591064453125, 0.0004963874816894531, 0.0004889965057373047, 0.0005021095275878906, 0.0004913806915283203, 0.0004942417144775391, 0.00048828125, 0.00048661231994628906, 0.0005059242248535156, 0.000484466552734375, 0.0004949569702148438, 0.0004830360412597656, 0.0005049705505371094, 0.0004837512969970703, 0.0005009174346923828, 0.0004975795745849609, 0.0005102157592773438, 0.0004916191101074219, 0.0005011558532714844, 0.0004887580871582031, 0.0005104541778564453, 0.0004868507385253906, 0.0004980564117431641, 0.0004870891571044922, 0.0005047321319580078, 0.0004839897155761719, 0.0004966259002685547, 0.0004837512969970703, 0.000507354736328125, 0.00048542022705078125, 0.0004973411560058594, 0.0004839897155761719, 0.0004971027374267578, 0.0004825592041015625, 0.0005040168762207031, 0.0004863739013671875, 0.0004963874816894531, 0.0004944801330566406, 0.0005054473876953125, 0.00048160552978515625, 0.0005218982696533203, 0.0004825592041015625, 0.0004980564117431641, 0.0004832744598388672, 0.0004994869232177734, 0.00048828125, 0.0005059242248535156, 0.0004856586456298828, 0.0005016326904296875, 0.0004868507385253906, 0.0005080699920654297, 0.00048613548278808594, 0.0005180835723876953, 0.0004858970642089844, 0.0005049705505371094, 0.00048422813415527344, 0.0004968643188476562, 0.00048351287841796875, 0.0005087852478027344, 0.00048470497131347656, 0.000499725341796875, 0.0004868507385253906, 0.0005044937133789062, 0.00048661231994628906, 0.0005006790161132812, 0.00048804283142089844, 0.0004994869232177734]\n"
          ]
        }
      ]
    },
    {
      "cell_type": "code",
      "source": [
        "\n",
        "\n",
        "print(d2)\n",
        "lists = sorted(d2.items())\n",
        "labels2,times = zip(*lists)\n",
        "\n",
        "plt.xlabel('Nombre d exemples')\n",
        "plt.ylabel('temps dexecution')\n",
        "plt.title('Temps dexecution non optimisé')\n",
        "plt.plot(labels2,times,'og',label = 'temps non opt ')\n",
        "plt.legend()\n",
        "plt.show()\n",
        "plt.savefig(\"/content/drive/MyDrive/PLDAC/Step 2 /Images/coAT/non opt temps execution\")"
      ],
      "metadata": {
        "id": "IJrwmODYp4B6"
      },
      "id": "IJrwmODYp4B6",
      "execution_count": null,
      "outputs": []
    },
    {
      "cell_type": "code",
      "source": [
        "degree1 = 2\n",
        "coeffs = np.polyfit(labels, times, degree1)\n",
        "p1 = np.poly1d(coeffs)\n",
        "degree2 = 3\n",
        "coeffs = np.polyfit(labels2, times, degree1)\n",
        "p2 = np.poly1d(coeffs)\n",
        "plt.xlabel('Nombre d exemples')\n",
        "plt.ylabel('temps dexecution')\n",
        "plt.title('Time variation ')\n",
        "plt.plot(labels,times,'ob',label = 'temps  dexecution fonction optimisé')\n",
        "plt.plot(labels2,times,'og',label = 'temps dexecution fonction non optimisé ')\n",
        "plt.plot(labels, [p1(n) for n in labels],'-r')\n",
        "plt.plot(labels, [p2(n) for n in labels],'-r')\n",
        "plt.legend()\n",
        "plt.show()\n",
        "plt.savefig(\"/content/drive/MyDrive/PLDAC/Step 2 /Images/coAT/temps opt vs non\")"
      ],
      "metadata": {
        "id": "TxcF8jCNQHsD"
      },
      "id": "TxcF8jCNQHsD",
      "execution_count": null,
      "outputs": []
    },
    {
      "cell_type": "code",
      "source": [
        ""
      ],
      "metadata": {
        "id": "xSpJHFpnQpkt"
      },
      "id": "xSpJHFpnQpkt",
      "execution_count": null,
      "outputs": []
    }
  ],
  "metadata": {
    "kernelspec": {
      "display_name": "Python 3 (ipykernel)",
      "language": "python",
      "name": "python3"
    },
    "language_info": {
      "codemirror_mode": {
        "name": "ipython",
        "version": 3
      },
      "file_extension": ".py",
      "mimetype": "text/x-python",
      "name": "python",
      "nbconvert_exporter": "python",
      "pygments_lexer": "ipython3",
      "version": "3.8.5"
    },
    "colab": {
      "name": "Main.ipynb",
      "provenance": [],
      "toc_visible": true,
      "include_colab_link": true
    }
  },
  "nbformat": 4,
  "nbformat_minor": 5
}