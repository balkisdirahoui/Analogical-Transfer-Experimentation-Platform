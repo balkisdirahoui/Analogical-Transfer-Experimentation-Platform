{
  "cells": [
    {
      "cell_type": "markdown",
      "metadata": {
        "id": "view-in-github",
        "colab_type": "text"
      },
      "source": [
        "<a href=\"https://colab.research.google.com/github/balkisdirahoui/pldac-/blob/main/Main.ipynb\" target=\"_parent\"><img src=\"https://colab.research.google.com/assets/colab-badge.svg\" alt=\"Open In Colab\"/></a>"
      ]
    },
    {
      "cell_type": "code",
      "execution_count": 18,
      "id": "4f53dbf8",
      "metadata": {
        "id": "4f53dbf8"
      },
      "outputs": [],
      "source": [
        "import numpy as np\n",
        "import sklearn\n",
        "from sklearn.neighbors import KNeighborsClassifier as KNN\n",
        "from sklearn import tree\n",
        "from sklearn.model_selection import train_test_split\n",
        "import math\n",
        "import time\n",
        "import matplotlib.pyplot as plt\n",
        "#%load_ext autoreload\n",
        "#%autoreload 2"
      ]
    },
    {
      "cell_type": "markdown",
      "id": "b5ee5194",
      "metadata": {
        "id": "b5ee5194"
      },
      "source": [
        "### Objet split"
      ]
    },
    {
      "cell_type": "code",
      "execution_count": 2,
      "id": "71f92c77",
      "metadata": {
        "id": "71f92c77"
      },
      "outputs": [],
      "source": [
        "class split():\n",
        "  \n",
        "    def __init_(self,data):\n",
        "        self.data = data\n",
        "        \n",
        "    def split(self):\n",
        "        return data\n",
        "\n",
        "class splitML(split):\n",
        "    def __init_(self,data, test_size, random_state):\n",
        "        super().__init__(data)\n",
        "        self.test_size =test_size\n",
        "        self.random_state = random_state\n",
        "        \n",
        "    def split(self):\n",
        "        return train_test_split(X, y, test_size= self.test_size , random_state= self.random_state)\n",
        "    \n",
        "class splitTransfert(split):\n",
        "    def __init_(self,data):\n",
        "        super().__init__(data)\n"
      ]
    },
    {
      "cell_type": "markdown",
      "id": "4a7346f9",
      "metadata": {
        "id": "4a7346f9"
      },
      "source": [
        "### Main"
      ]
    },
    {
      "cell_type": "code",
      "execution_count": 3,
      "id": "6468834a",
      "metadata": {
        "id": "6468834a"
      },
      "outputs": [],
      "source": [
        "\n",
        "class main :\n",
        "\n",
        "  \"\"\"modele : objet de la classe medele \n",
        "  \"\"\"\n",
        "  #modele = modele(data,params,metric)\n",
        "    "
      ]
    },
    {
      "cell_type": "code",
      "execution_count": 4,
      "id": "4a785b47",
      "metadata": {
        "id": "4a785b47"
      },
      "outputs": [],
      "source": [
        "class classifieur:\n",
        "  \n",
        "    def __init__(self,data,param_modele,param_split):\n",
        "        self.data =data\n",
        "        self.param_modele = param_modele\n",
        "        self.param_split = param_split\n",
        "\n",
        "        \n",
        "    def fit(X,y):\n",
        "        pass\n",
        "    def predict(X):\n",
        "        pass\n",
        "    def score(X,y):\n",
        "        pass\n",
        "    \n",
        "    def split(self):\n",
        "        pass\n",
        "\n",
        "        "
      ]
    },
    {
      "cell_type": "markdown",
      "id": "0f9455f0",
      "metadata": {
        "id": "0f9455f0"
      },
      "source": [
        "### KNN"
      ]
    },
    {
      "cell_type": "code",
      "execution_count": 5,
      "id": "bbf77287",
      "metadata": {
        "id": "bbf77287"
      },
      "outputs": [],
      "source": [
        "\n",
        "class knn(classifieur):\n",
        "    \"\"\"\n",
        "    params = {\"n_neigbors\" : 2, \"metric\" : 'cosine' } par exemple\n",
        "    param_modele : les parametres propres a un modeles \n",
        "    param_split : la taille du test et du train \n",
        "    \"\"\"\n",
        "    \n",
        "    def __init__(self,data,param_modele,param_split):\n",
        "        super().__init__(data,param_modele, param_split)\n",
        "        for key in param_modele:\n",
        "            setattr(self,key,param_modele[key])\n",
        "            \n",
        "        self.clf = KNN(**param_modele)\n",
        "        print(data.shape)\n",
        "        self.X_train,  self.X_test, self.y_train, self.y_test = train_test_split(data[:,:-1],data[:,-1], **param_split)\n",
        "       \n",
        "\n",
        "    def fit(self):\n",
        "        self.clf.fit(self.X_train,self.y_train)\n",
        "    def predcit(self):\n",
        "        return self.clf.predict(self.X_test)\n",
        "    def score(self):\n",
        "      \n",
        "        return self.clf.score(self.X_test,self.y_test)\n"
      ]
    },
    {
      "cell_type": "code",
      "execution_count": 6,
      "id": "e1b17d58",
      "metadata": {
        "id": "e1b17d58",
        "outputId": "0835c53c-a14d-41a2-feed-a0c6f5bd3e07",
        "colab": {
          "base_uri": "https://localhost:8080/"
        }
      },
      "outputs": [
        {
          "output_type": "stream",
          "name": "stdout",
          "text": [
            "data\n",
            "2\n"
          ]
        }
      ],
      "source": [
        "p = {\"a\" : 2,\"b\":2, \"c\" : 2}\n",
        "def f(data , a, b, c ):\n",
        "    print(data)\n",
        "    print(a)\n",
        "\n",
        "f(\"data\",**p)"
      ]
    },
    {
      "cell_type": "code",
      "execution_count": 7,
      "id": "751d65e2",
      "metadata": {
        "id": "751d65e2"
      },
      "outputs": [],
      "source": [
        "def genere_dataset_gaussian(positive_center,positive_sigma,negative_center,negative_sigma,nb_points):\n",
        "    data_pos= np.random.multivariate_normal(positive_center, positive_sigma, nb_points)\n",
        "    data_neg= np.random.multivariate_normal(negative_center, negative_sigma, nb_points)\n",
        "\n",
        "    data_label=np.asarray([-1 for i in range (nb_points)] +[+1 for i in range(nb_points)])\n",
        "    \n",
        "    data_decs=np.vstack((data_neg,data_pos))\n",
        "    return data_decs,data_label     \n",
        "\n",
        "\n",
        "X2, y2 = genere_dataset_gaussian(np.array([1,1]),np.array([[1,0],[0,1]]),np.array([-1,-1]),np.array([[1,0],[0,1]]),10)\n",
        "\n",
        "data2=np.hstack((X2,np.reshape(y2,(20,1))))# gaussian"
      ]
    },
    {
      "cell_type": "code",
      "execution_count": 8,
      "id": "5d57c00b",
      "metadata": {
        "id": "5d57c00b",
        "outputId": "71718b2a-2090-4559-995e-f5fe24c1bc9c",
        "colab": {
          "base_uri": "https://localhost:8080/"
        }
      },
      "outputs": [
        {
          "output_type": "stream",
          "name": "stdout",
          "text": [
            "[-1. -1. -1. -1. -1. -1. -1. -1. -1. -1.  1.  1.  1.  1.  1.  1.  1.  1.\n",
            "  1.  1.]\n"
          ]
        }
      ],
      "source": [
        "print(data2[:,-1])\n"
      ]
    },
    {
      "cell_type": "code",
      "execution_count": 9,
      "id": "1b77dc85",
      "metadata": {
        "id": "1b77dc85",
        "outputId": "9eee37a8-d99b-4a24-e6e5-dcf55bd7876d",
        "colab": {
          "base_uri": "https://localhost:8080/"
        }
      },
      "outputs": [
        {
          "output_type": "stream",
          "name": "stdout",
          "text": [
            "(20, 3)\n",
            "0.8571428571428571\n"
          ]
        }
      ],
      "source": [
        "param_modele = {\"n_neighbors\" : 2, \"metric\" : 'cosine'}\n",
        "param_split  = {\"test_size\" : 0.33 , \"random_state\" : 42}\n",
        "K = knn(data2, param_modele, param_split )\n",
        "K.fit()\n",
        "print(K.score())"
      ]
    },
    {
      "cell_type": "code",
      "execution_count": 10,
      "id": "92d62a04",
      "metadata": {
        "id": "92d62a04"
      },
      "outputs": [],
      "source": [
        "prams = {\"n_neighbors\" : 2, \"metric\" : 'cosine' }"
      ]
    },
    {
      "cell_type": "code",
      "source": [
        ""
      ],
      "metadata": {
        "id": "2zvhccGvaFrc"
      },
      "id": "2zvhccGvaFrc",
      "execution_count": 10,
      "outputs": []
    },
    {
      "cell_type": "markdown",
      "id": "d135c607",
      "metadata": {
        "id": "d135c607"
      },
      "source": [
        "### Decision trees"
      ]
    },
    {
      "cell_type": "code",
      "execution_count": 11,
      "id": "3d1aba8c",
      "metadata": {
        "id": "3d1aba8c"
      },
      "outputs": [],
      "source": [
        "class dtrees(classifieur):\n",
        "    \n",
        "    \n",
        "    def __init__(self,data,param_modele,param_split):\n",
        "        super().__init__(data,param_modele, param_split)\n",
        "        for key in param_modele:\n",
        "            setattr(self,key,param_modele[key])\n",
        "            \n",
        "        self.clf = tree.DecisionTreeClassifier(**param_modele)\n",
        "\n",
        "        self.X_train,  self.X_test, self.y_train, self.y_test = train_test_split(data[:,:-1],data[:,-1], **param_split)\n",
        "    \n",
        "   \n",
        "    def fit(self):\n",
        "        self.clf.fit(self.X_train, self.y_train )\n",
        "    def predcit(self):\n",
        "        return self.clf.predict(self.X_test)\n",
        "    def score(self):\n",
        "        return self.clf.score(self.X_test,self.y_test)\n",
        "    \n",
        "    \n"
      ]
    },
    {
      "cell_type": "code",
      "execution_count": 12,
      "id": "82cc0dde",
      "metadata": {
        "id": "82cc0dde",
        "outputId": "6e8ca1b9-cdb4-4364-8209-714715fc2299",
        "colab": {
          "base_uri": "https://localhost:8080/"
        }
      },
      "outputs": [
        {
          "output_type": "execute_result",
          "data": {
            "text/plain": [
              "0.7142857142857143"
            ]
          },
          "metadata": {},
          "execution_count": 12
        }
      ],
      "source": [
        "param_split  = {\"test_size\" : 0.33 , \"random_state\" : 42}\n",
        "params_dtree= {\"max_depth\" : 3  } \n",
        "dtree = dtrees(data2,params_dtree,param_split)\n",
        "dtree.fit()\n",
        "dtree.max_depth\n",
        "dtree.score()"
      ]
    },
    {
      "cell_type": "markdown",
      "id": "12e2476b",
      "metadata": {
        "id": "12e2476b"
      },
      "source": [
        "### CoAt"
      ]
    },
    {
      "cell_type": "code",
      "source": [
        "\n",
        "class coAT(classifieur):\n",
        "\n",
        "    def __init__(self, data,param_modele ,param_split=dict()): \n",
        "      super().__init__(data, param_modele ,param_split)\n",
        "      for key in param_modele:\n",
        "          setattr(self,key,param_modele[key])\n",
        "      self.CB = []\n",
        "    \n",
        "    def set_sigS(self,sigS):\n",
        "      self.sigS = sigS\n",
        "        \n",
        "    def set_sigR(self,sigR):\n",
        "      self.sigR = sigR\n",
        "    #fit\n",
        "    def fit(self,data):\n",
        "      self.CB = data\n",
        "    #predict\n",
        "    def change_outcomes(self,x,y):\n",
        "      return (x,y)\n",
        "    def predict(self,x):\n",
        "      \"\"\"\n",
        "      prend en entrée un tuple x et retourne son label \n",
        "      (label qui minimise la complexité)\n",
        "      \"\"\"\n",
        "      l = []\n",
        "      times = []\n",
        "      for y in self.labels:\n",
        "        tuple =  self.change_outcomes(x,y)\n",
        "        start_time = time.time()\n",
        "        l.append(self.inv(tuple,self.CB,self.w))\n",
        "        times.append((time.time() - start_time))\n",
        "      return self.labels[np.argmin(l)],self.labels,l,times\n",
        "\n",
        "\n",
        "    def score():\n",
        "      pass\n",
        "    \n",
        "    #autre \n",
        "    def inv(self,s0, CB,w):\n",
        "      \"\"\"\n",
        "      fonction qui calcule la cardinalité de l'ensemble ou sigmaS et sigmaR sont iversé pour un s0\n",
        "      sigS : mesure de similarité 1\n",
        "      sigR : mesure de similarité 2\n",
        "      -> faire l'autre moitié des tests\n",
        "      -> mettre les Sig dans des variable\n",
        "      \"\"\"\n",
        "      cpt=0\n",
        "      #parcourir les tuples du dataset \n",
        "      for si in  range(len(CB))  :\n",
        "        for sj in range(si+1,len(CB)) :\n",
        "          #########\n",
        "          #CB[si] = [()]\n",
        "          #CB[si][0] = () le reste dependra de la fonction de similarité (dimensions)\n",
        "          sigS_si = self.sigS(s0[0],CB[si][0],self.w)\n",
        "          sigS_sj = self.sigS(s0[0],CB[sj][0],self.w)\n",
        "          sigR_si = self.sigR(s0[1],CB[si][1])\n",
        "          sigR_sj = self.sigR(s0[1],CB[sj][1])\n",
        "          ########\n",
        "          #incrementer si inversion de similarité (sigR se base sur les labels)\n",
        "          if( (sigS_si>=sigS_sj) and (sigR_si<sigR_sj)) or ( (sigS_si<sigS_sj) and (sigR_si>=sigR_sj)): \n",
        "            cpt+=1    \n",
        "      return cpt\n",
        "    def complex(self,CB):\n",
        "      \"\"\"\n",
        "      fonction qui calcule la complexité d'un CB (dataset)\n",
        "      \"\"\"\n",
        "      gamma=0\n",
        "      for s0 in CB:\n",
        "          gamma += self.inv(s0,CB,self.w)\n",
        "      return gamma\n",
        "\n",
        "    def predict_nonopt(self,x):\n",
        "      \"\"\"\n",
        "      prend en entrée un tuple x et retourne son label \n",
        "      (label qui minimise la complexité)\n",
        "      \"\"\"\n",
        "      l = []\n",
        "      times = []\n",
        "      for y in self.labels:\n",
        "        tmp = self.CB + [self.change_outcomes(x,y)]\n",
        "        start_time = time.time()\n",
        "        l.append(self.complex(tmp))\n",
        "        times.append((time.time() - start_time))\n",
        "      return self.labels[np.argmin(l)],times\n",
        "\n",
        "  \n",
        "\n",
        "\n",
        "\n",
        "\n",
        "\n",
        "  \n"
      ],
      "metadata": {
        "id": "_j526Y6daHnv"
      },
      "id": "_j526Y6daHnv",
      "execution_count": 32,
      "outputs": []
    },
    {
      "cell_type": "markdown",
      "id": "7d6f9e07",
      "metadata": {
        "id": "7d6f9e07"
      },
      "source": [
        "### Similarities"
      ]
    },
    {
      "cell_type": "code",
      "execution_count": 14,
      "id": "830fee34",
      "metadata": {
        "id": "830fee34"
      },
      "outputs": [],
      "source": [
        "def sigmaArea(a1,a2):\n",
        "  \"\"\"\n",
        "  retourne la similarité entre deux areas (int)\n",
        "  \"\"\"\n",
        "  return(int(a1==a2))\n",
        "####\n",
        "#Nb rooms\n",
        "def polynomialSim(n,L,y,x):\n",
        "  \n",
        "  return ((L-abs(y-x)**n)/(L**n))\n",
        "\n",
        "def sigmaNbrooms(nb1,nb2):\n",
        "  \"\"\"\n",
        "  Sigma nb rooms, mesure de similarité de nb rooms\n",
        "  \"\"\"\n",
        "  return polynomialSim(2,6,nb1,nb2)\n",
        "\n",
        "def sigmaS(a,b,w):\n",
        "  \"\"\"\n",
        "  w : list of weights\n",
        "  a : list [nbrooms1,area1]\n",
        "  b : list [nbrooms2,area2]\n",
        "  \"\"\"\n",
        "  nb_rooms1 , area1= a[0],a[1]\n",
        "  nb_rooms2 , area2= b[0],b[1]\n",
        "  #weights between 0.01 and 0.64\n",
        "  sigmaAr=sigmaArea(area1,area2)\n",
        "  sigmarooms = sigmaNbrooms(nb_rooms1,nb_rooms2)\n",
        "  return w[0]*sigmarooms + (1-w[1])*sigmaAr\n",
        "\n",
        "def sigmaR(p1,p2):\n",
        "  return polynomialSim(2,1000,p1,p2)"
      ]
    },
    {
      "cell_type": "code",
      "execution_count": 15,
      "id": "da015e67",
      "metadata": {
        "id": "da015e67"
      },
      "outputs": [],
      "source": [
        "#données\n",
        "\"\"\"\n",
        "situation : 0,1,2,\n",
        "nb_rooms : 1,2,3\n",
        "area : 0:midtown ,1 : downtown\n",
        "price: \n",
        "\"\"\"\n",
        "X_coat = np.array([[1,0], [2,0],[1,1],[3,1]])\n",
        "y_coat = np.array([440,600,700,900])\n",
        "\n",
        "\n",
        "#constuire les données\n",
        "CB_coAt=[]\n",
        "for i in range(len(X_coat)):\n",
        "  CB_coAt.append((X_coat[i].tolist(),y_coat[i]))\n"
      ]
    },
    {
      "cell_type": "code",
      "source": [
        "#modele\n",
        "param_modele = {\"sigS\" : sigmaS, \"sigR\" : sigmaR,\"w\":[0.5,0.5],\"labels\" : [440,600,700,900] + (np.arange(400,1200,100)).tolist()}\n",
        "co= coAT([],param_modele )\n",
        "#fit\n",
        "co.fit(CB_coAt)\n",
        "#predict\n",
        "label,labels,gamma,_ = co.predict([2, 1])\n",
        "print(\"le meilleur prix est : \",label)"
      ],
      "metadata": {
        "colab": {
          "base_uri": "https://localhost:8080/"
        },
        "id": "1C5t-L9GhjKI",
        "outputId": "56bc1138-19f0-4406-8e88-f673cdf16385"
      },
      "id": "1C5t-L9GhjKI",
      "execution_count": 33,
      "outputs": [
        {
          "output_type": "stream",
          "name": "stdout",
          "text": [
            "le meilleur prix est :  800\n"
          ]
        }
      ]
    },
    {
      "cell_type": "markdown",
      "source": [
        "### Variation du temps"
      ],
      "metadata": {
        "id": "PHEc_bA3-RrZ"
      },
      "id": "PHEc_bA3-RrZ"
    },
    {
      "cell_type": "code",
      "source": [
        "d = dict()\n",
        "for l,g in zip(labels,gamma):\n",
        "  d[l] = g\n",
        "print(d)\n",
        "lists = sorted(d.items())\n",
        "labels,gamma = zip(*lists)\n",
        "\n",
        "\n",
        "plt.xlabel('Predicted Price')\n",
        "plt.ylabel('Complexity gamma')\n",
        "plt.title('Complexity for each potential price ')\n",
        "plt.plot(labels,gamma,'bo--')\n",
        "plt.show()"
      ],
      "metadata": {
        "id": "3W8H-OiN98fS",
        "outputId": "65dc3194-7a39-42b5-f288-9feceee3f467",
        "colab": {
          "base_uri": "https://localhost:8080/",
          "height": 312
        }
      },
      "id": "3W8H-OiN98fS",
      "execution_count": 30,
      "outputs": [
        {
          "output_type": "stream",
          "name": "stdout",
          "text": [
            "{440: 5, 600: 3, 700: 1, 900: 1, 400: 5, 500: 5, 800: 0, 1000: 1, 1100: 1}\n"
          ]
        },
        {
          "output_type": "display_data",
          "data": {
            "text/plain": [
              "<Figure size 432x288 with 1 Axes>"
            ],
            "image/png": "[encoded data removed]"
          },
          "metadata": {
            "needs_background": "light"
          }
        }
      ]
    },
    {
      "cell_type": "markdown",
      "source": [
        "## Variation du temps d'execution"
      ],
      "metadata": {
        "id": "Oi72LLQHGBrW"
      },
      "id": "Oi72LLQHGBrW"
    },
    {
      "cell_type": "code",
      "source": [
        "labelopt,labels,_,timesopt= co.predict([2, 1])\n",
        "label,times = co.predict_nonopt([2, 1])\n",
        "# verification que c'est le meme \n",
        "print(labelopt == label)"
      ],
      "metadata": {
        "id": "y7CSSoeaE0g3",
        "outputId": "34330e73-4e84-4b18-cea8-20de1f114843",
        "colab": {
          "base_uri": "https://localhost:8080/"
        }
      },
      "id": "y7CSSoeaE0g3",
      "execution_count": 35,
      "outputs": [
        {
          "output_type": "stream",
          "name": "stdout",
          "text": [
            "True\n"
          ]
        }
      ]
    },
    {
      "cell_type": "markdown",
      "source": [
        "#### Plot"
      ],
      "metadata": {
        "id": "GA7pO6jXGFbA"
      },
      "id": "GA7pO6jXGFbA"
    },
    {
      "cell_type": "code",
      "source": [
        "\n",
        "\n",
        "\n",
        "d = dict()\n",
        "for l,g in zip(labels,times):\n",
        "  d[l] = g\n",
        "print(d)\n",
        "lists = sorted(d.items())\n",
        "labels,times = zip(*lists)\n",
        "\n",
        "d2 = dict()\n",
        "for l,g in zip(labels,timesopt):\n",
        "  d2[l] = g\n",
        "print(d)\n",
        "lists = sorted(d2.items())\n",
        "labels,timesopt = zip(*lists)\n",
        "\n",
        "plt.xlabel('Predicted Price')\n",
        "plt.ylabel('time')\n",
        "plt.title('Time for each potential price ')\n",
        "plt.plot(labels,times,'bo--',label = 'temps ')\n",
        "plt.plot(labels,timesopt,'ro--',label = 'temps optimisé')\n",
        "plt.legend()\n",
        "plt.show()"
      ],
      "metadata": {
        "id": "G8ktiU32Er5_",
        "outputId": "baf44369-c24b-43c4-af1b-4f0785dd5491",
        "colab": {
          "base_uri": "https://localhost:8080/",
          "height": 350
        }
      },
      "id": "G8ktiU32Er5_",
      "execution_count": 39,
      "outputs": [
        {
          "output_type": "stream",
          "name": "stdout",
          "text": [
            "{400: 0.003766298294067383, 440: 0.0005662441253662109, 500: 0.0002875328063964844, 600: 0.0003235340118408203, 700: 0.0003056526184082031, 800: 0.0002949237823486328, 900: 0.0003147125244140625, 1000: 0.0002923011779785156, 1100: 0.0002894401550292969}\n",
            "{400: 0.003766298294067383, 440: 0.0005662441253662109, 500: 0.0002875328063964844, 600: 0.0003235340118408203, 700: 0.0003056526184082031, 800: 0.0002949237823486328, 900: 0.0003147125244140625, 1000: 0.0002923011779785156, 1100: 0.0002894401550292969}\n"
          ]
        },
        {
          "output_type": "display_data",
          "data": {
            "text/plain": [
              "<Figure size 432x288 with 1 Axes>"
            ],
            "image/png": "[encoded data removed]"
          },
          "metadata": {
            "needs_background": "light"
          }
        }
      ]
    },
    {
      "cell_type": "code",
      "source": [
        ""
      ],
      "metadata": {
        "id": "-92cgHoIFjzO"
      },
      "id": "-92cgHoIFjzO",
      "execution_count": null,
      "outputs": []
    }
  ],
  "metadata": {
    "kernelspec": {
      "display_name": "Python 3 (ipykernel)",
      "language": "python",
      "name": "python3"
    },
    "language_info": {
      "codemirror_mode": {
        "name": "ipython",
        "version": 3
      },
      "file_extension": ".py",
      "mimetype": "text/x-python",
      "name": "python",
      "nbconvert_exporter": "python",
      "pygments_lexer": "ipython3",
      "version": "3.8.5"
    },
    "colab": {
      "name": "Main.ipynb",
      "provenance": [],
      "toc_visible": true,
      "include_colab_link": true
    }
  },
  "nbformat": 4,
  "nbformat_minor": 5
}