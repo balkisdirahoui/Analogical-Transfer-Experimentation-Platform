{
  "cells": [
    {
      "cell_type": "markdown",
      "metadata": {
        "id": "view-in-github",
        "colab_type": "text"
      },
      "source": [
        "<a href=\"https://colab.research.google.com/github/balkisdirahoui/pldac-/blob/main/Main.ipynb\" target=\"_parent\"><img src=\"https://colab.research.google.com/assets/colab-badge.svg\" alt=\"Open In Colab\"/></a>"
      ]
    },
    {
      "cell_type": "code",
      "execution_count": null,
      "id": "4f53dbf8",
      "metadata": {
        "id": "4f53dbf8"
      },
      "outputs": [],
      "source": [
        "import numpy as np\n",
        "import sklearn\n",
        "from sklearn.neighbors import KNeighborsClassifier as KNN\n",
        "from sklearn import tree\n",
        "from sklearn.model_selection import train_test_split\n",
        "import math\n",
        "\n",
        "%load_ext autoreload\n",
        "%autoreload 2"
      ]
    },
    {
      "cell_type": "markdown",
      "id": "b5ee5194",
      "metadata": {
        "id": "b5ee5194"
      },
      "source": [
        "### Objet split"
      ]
    },
    {
      "cell_type": "code",
      "execution_count": null,
      "id": "71f92c77",
      "metadata": {
        "id": "71f92c77"
      },
      "outputs": [],
      "source": [
        "class split():\n",
        "    def __init_(self,data):\n",
        "        self.data = data\n",
        "        \n",
        "    def split(self):\n",
        "        return data\n",
        "\n",
        "class splitML(split):\n",
        "    def __init_(self,data, test_size, random_state):\n",
        "        super().__init__(data)\n",
        "        self.test_size =test_size\n",
        "        self.random_state = random_state\n",
        "        \n",
        "    def split(self):\n",
        "        return train_test_split(X, y, test_size= self.test_size , random_state= self.random_state)\n",
        "    \n",
        "class splitTransfert(split):\n",
        "    def __init_(self,data):\n",
        "        super().__init__(data)\n"
      ]
    },
    {
      "cell_type": "markdown",
      "id": "4a7346f9",
      "metadata": {
        "id": "4a7346f9"
      },
      "source": [
        "### Main"
      ]
    },
    {
      "cell_type": "code",
      "execution_count": null,
      "id": "6468834a",
      "metadata": {
        "id": "6468834a",
        "outputId": "90450b21-bcc9-4c56-a9dd-803ec752ce79"
      },
      "outputs": [
        {
          "ename": "NameError",
          "evalue": "name 'data' is not defined",
          "output_type": "error",
          "traceback": [
            "\u001b[0;31m---------------------------------------------------------------------------\u001b[0m",
            "\u001b[0;31mNameError\u001b[0m                                 Traceback (most recent call last)",
            "\u001b[0;32m/tmp/ipykernel_4740/2486758054.py\u001b[0m in \u001b[0;36m<module>\u001b[0;34m\u001b[0m\n\u001b[0;32m----> 1\u001b[0;31m \u001b[0;32mclass\u001b[0m \u001b[0mmain\u001b[0m\u001b[0;34m(\u001b[0m\u001b[0mdata\u001b[0m\u001b[0;34m,\u001b[0m\u001b[0mtypemodele\u001b[0m\u001b[0;34m,\u001b[0m\u001b[0mmodele\u001b[0m\u001b[0;34m,\u001b[0m\u001b[0mparam\u001b[0m\u001b[0;34m,\u001b[0m\u001b[0mmetric\u001b[0m\u001b[0;34m=\u001b[0m\u001b[0;32mNone\u001b[0m\u001b[0;34m)\u001b[0m\u001b[0;34m:\u001b[0m\u001b[0;34m\u001b[0m\u001b[0;34m\u001b[0m\u001b[0m\n\u001b[0m\u001b[1;32m      2\u001b[0m     \"\"\"modele : objet de la classe medele \n\u001b[1;32m      3\u001b[0m         \"\"\"\n\u001b[1;32m      4\u001b[0m     \u001b[0mmodele\u001b[0m \u001b[0;34m=\u001b[0m \u001b[0mmodele\u001b[0m\u001b[0;34m(\u001b[0m\u001b[0mdata\u001b[0m\u001b[0;34m,\u001b[0m\u001b[0mparams\u001b[0m\u001b[0;34m,\u001b[0m\u001b[0mmetric\u001b[0m\u001b[0;34m)\u001b[0m\u001b[0;34m\u001b[0m\u001b[0;34m\u001b[0m\u001b[0m\n\u001b[1;32m      5\u001b[0m \u001b[0;34m\u001b[0m\u001b[0m\n",
            "\u001b[0;31mNameError\u001b[0m: name 'data' is not defined"
          ]
        }
      ],
      "source": [
        "class main(data,typemodele,modele,param,metric=None):\n",
        "    \"\"\"modele : objet de la classe medele \n",
        "        \"\"\"\n",
        "    modele = modele(data,params,metric)\n",
        "    "
      ]
    },
    {
      "cell_type": "code",
      "execution_count": null,
      "id": "4a785b47",
      "metadata": {
        "id": "4a785b47"
      },
      "outputs": [],
      "source": [
        "class classifieur:\n",
        "    def __init__(self,data,param_modele,param_split):\n",
        "        self.data =data\n",
        "        self.param_modele = param_modele\n",
        "        self.param_split = param_split\n",
        "\n",
        "        \n",
        "    def fit(X,y):\n",
        "        pass\n",
        "    def predict(X):\n",
        "        pass\n",
        "    def score(X,y):\n",
        "        pass\n",
        "    \n",
        "    def split(self):\n",
        "        pass\n",
        "\n",
        "        "
      ]
    },
    {
      "cell_type": "markdown",
      "id": "0f9455f0",
      "metadata": {
        "id": "0f9455f0"
      },
      "source": [
        "### KNN"
      ]
    },
    {
      "cell_type": "code",
      "execution_count": null,
      "id": "bbf77287",
      "metadata": {
        "colab": {
          "base_uri": "https://localhost:8080/",
          "height": 236
        },
        "id": "bbf77287",
        "outputId": "f2e020d1-3706-4fac-f93a-6ca24948d394"
      },
      "outputs": [
        {
          "output_type": "error",
          "ename": "NameError",
          "evalue": "ignored",
          "traceback": [
            "\u001b[0;31m---------------------------------------------------------------------------\u001b[0m",
            "\u001b[0;31mNameError\u001b[0m                                 Traceback (most recent call last)",
            "\u001b[0;32m<ipython-input-2-1f8d78214df2>\u001b[0m in \u001b[0;36m<module>\u001b[0;34m()\u001b[0m\n\u001b[1;32m      1\u001b[0m \u001b[0;34m\u001b[0m\u001b[0m\n\u001b[0;32m----> 2\u001b[0;31m \u001b[0;32mclass\u001b[0m \u001b[0mknn\u001b[0m\u001b[0;34m(\u001b[0m\u001b[0mclassifieur\u001b[0m\u001b[0;34m)\u001b[0m\u001b[0;34m:\u001b[0m\u001b[0;34m\u001b[0m\u001b[0;34m\u001b[0m\u001b[0m\n\u001b[0m\u001b[1;32m      3\u001b[0m     \"\"\"\n\u001b[1;32m      4\u001b[0m     \u001b[0mparams\u001b[0m \u001b[0;34m=\u001b[0m \u001b[0;34m{\u001b[0m\u001b[0;34m\"n_neigbors\"\u001b[0m \u001b[0;34m:\u001b[0m \u001b[0;36m2\u001b[0m\u001b[0;34m,\u001b[0m \u001b[0;34m\"metric\"\u001b[0m \u001b[0;34m:\u001b[0m \u001b[0;34m'cosine'\u001b[0m \u001b[0;34m}\u001b[0m \u001b[0mpar\u001b[0m \u001b[0mexemple\u001b[0m\u001b[0;34m\u001b[0m\u001b[0;34m\u001b[0m\u001b[0m\n\u001b[1;32m      5\u001b[0m     \u001b[0mparam_modele\u001b[0m \u001b[0;34m:\u001b[0m \u001b[0mles\u001b[0m \u001b[0mparametres\u001b[0m \u001b[0mpropres\u001b[0m \u001b[0ma\u001b[0m \u001b[0mun\u001b[0m \u001b[0mmodeles\u001b[0m\u001b[0;34m\u001b[0m\u001b[0;34m\u001b[0m\u001b[0m\n",
            "\u001b[0;31mNameError\u001b[0m: name 'classifieur' is not defined"
          ]
        }
      ],
      "source": [
        "\n",
        "class knn(classifieur):\n",
        "    \"\"\"\n",
        "    params = {\"n_neigbors\" : 2, \"metric\" : 'cosine' } par exemple\n",
        "    param_modele : les parametres propres a un modeles \n",
        "    param_split : la taille du test et du train \n",
        "    \"\"\"\n",
        "    \n",
        "    def __init__(self,data,param_modele,param_split):\n",
        "        super().__init__(data,param_modele, param_split)\n",
        "        for key in param_modele:\n",
        "            setattr(self,key,param_modele[key])\n",
        "            \n",
        "        self.clf = KNN(**param_modele)\n",
        "        print(data.shape)\n",
        "        self.X_train,  self.X_test, self.y_train, self.y_test = train_test_split(data[:,:-1],data[:,-1], **param_split)\n",
        "       \n",
        "\n",
        "    def fit(self):\n",
        "        self.clf.fit(self.X_train,self.y_train)\n",
        "    def predcit(self):\n",
        "        return self.clf.predict(self.X_test)\n",
        "    def score(self):\n",
        "      \n",
        "        return self.clf.score(self.X_test,self.y_test)\n"
      ]
    },
    {
      "cell_type": "code",
      "execution_count": null,
      "id": "e1b17d58",
      "metadata": {
        "id": "e1b17d58",
        "outputId": "5f451d83-63b0-4b91-f1f3-73756257d372"
      },
      "outputs": [
        {
          "name": "stdout",
          "output_type": "stream",
          "text": [
            "data\n",
            "2\n"
          ]
        }
      ],
      "source": [
        "p = {\"a\" : 2,\"b\":2, \"c\" : 2}\n",
        "def f(data , a, b, c ):\n",
        "    print(data)\n",
        "    print(a)\n",
        "\n",
        "f(\"data\",**p)"
      ]
    },
    {
      "cell_type": "code",
      "execution_count": null,
      "id": "751d65e2",
      "metadata": {
        "id": "751d65e2"
      },
      "outputs": [],
      "source": [
        "def genere_dataset_gaussian(positive_center,positive_sigma,negative_center,negative_sigma,nb_points):\n",
        "    data_pos= np.random.multivariate_normal(positive_center, positive_sigma, nb_points)\n",
        "    data_neg= np.random.multivariate_normal(negative_center, negative_sigma, nb_points)\n",
        "\n",
        "    data_label=np.asarray([-1 for i in range (nb_points)] +[+1 for i in range(nb_points)])\n",
        "    \n",
        "    data_decs=np.vstack((data_neg,data_pos))\n",
        "    return data_decs,data_label     \n",
        "\n",
        "\n",
        "X2, y2 = genere_dataset_gaussian(np.array([1,1]),np.array([[1,0],[0,1]]),np.array([-1,-1]),np.array([[1,0],[0,1]]),10)\n",
        "\n",
        "data2=np.hstack((X2,np.reshape(y2,(20,1))))# gaussian"
      ]
    },
    {
      "cell_type": "code",
      "execution_count": null,
      "id": "5d57c00b",
      "metadata": {
        "id": "5d57c00b",
        "outputId": "22187f81-4b9f-45f6-c946-8c74bb491d46"
      },
      "outputs": [
        {
          "name": "stdout",
          "output_type": "stream",
          "text": [
            "[-1. -1. -1. -1. -1. -1. -1. -1. -1. -1.  1.  1.  1.  1.  1.  1.  1.  1.\n",
            "  1.  1.]\n"
          ]
        }
      ],
      "source": [
        "print(data2[:,-1])\n"
      ]
    },
    {
      "cell_type": "code",
      "execution_count": null,
      "id": "1b77dc85",
      "metadata": {
        "id": "1b77dc85",
        "outputId": "76fe8be5-1c46-4efd-918f-c8224d4fbac3"
      },
      "outputs": [
        {
          "name": "stdout",
          "output_type": "stream",
          "text": [
            "(20, 3)\n",
            "0.7142857142857143\n"
          ]
        }
      ],
      "source": [
        "param_modele = {\"n_neighbors\" : 2, \"metric\" : 'cosine'}\n",
        "param_split  = {\"test_size\" : 0.33 , \"random_state\" : 42}\n",
        "K = knn(data2, param_modele, param_split )\n",
        "K.fit()\n",
        "print(K.score())"
      ]
    },
    {
      "cell_type": "code",
      "execution_count": null,
      "id": "92d62a04",
      "metadata": {
        "id": "92d62a04"
      },
      "outputs": [],
      "source": [
        "prams = {\"n_neighbors\" : 2, \"metric\" : 'cosine' }"
      ]
    },
    {
      "cell_type": "markdown",
      "id": "d135c607",
      "metadata": {
        "id": "d135c607"
      },
      "source": [
        "### Decision trees"
      ]
    },
    {
      "cell_type": "code",
      "execution_count": null,
      "id": "3d1aba8c",
      "metadata": {
        "id": "3d1aba8c"
      },
      "outputs": [],
      "source": [
        "class dtrees(classifieur):\n",
        "    \n",
        "    \n",
        "    def __init__(self,data,param_modele,param_split):\n",
        "        super().__init__(data,param_modele, param_split)\n",
        "        for key in param_modele:\n",
        "            setattr(self,key,param_modele[key])\n",
        "            \n",
        "        self.clf = tree.DecisionTreeClassifier(**param_modele)\n",
        "\n",
        "        self.X_train,  self.X_test, self.y_train, self.y_test = train_test_split(data[:,:-1],data[:,-1], **param_split)\n",
        "    \n",
        "   \n",
        "    def fit(self):\n",
        "        self.clf.fit(self.X_train, self.y_train )\n",
        "    def predcit(self):\n",
        "        return self.clf.predict(self.X_test)\n",
        "    def score(self):\n",
        "        return self.clf.score(self.X_test,self.y_test)\n",
        "    \n",
        "    \n"
      ]
    },
    {
      "cell_type": "code",
      "execution_count": null,
      "id": "82cc0dde",
      "metadata": {
        "id": "82cc0dde",
        "outputId": "f86cbcd3-65cc-49d8-f375-464998fd4d36"
      },
      "outputs": [
        {
          "data": {
            "text/plain": [
              "0.8571428571428571"
            ]
          },
          "execution_count": 217,
          "metadata": {},
          "output_type": "execute_result"
        }
      ],
      "source": [
        "param_split  = {\"test_size\" : 0.33 , \"random_state\" : 42}\n",
        "params_dtree= {\"max_depth\" : 3  } \n",
        "dtree = dtrees(data2,params_dtree,param_split)\n",
        "dtree.fit()\n",
        "dtree.max_depth\n",
        "dtree.score()"
      ]
    },
    {
      "cell_type": "markdown",
      "id": "12e2476b",
      "metadata": {
        "id": "12e2476b"
      },
      "source": [
        "### Minimisation d'énergie"
      ]
    },
    {
      "cell_type": "code",
      "execution_count": null,
      "id": "0cabea40",
      "metadata": {
        "id": "0cabea40"
      },
      "outputs": [],
      "source": [
        "    \n",
        "class minimisation(classifieur):\n",
        "    \n",
        "\n",
        "    def __init__(self, data, param_modele ,param_split):\n",
        "        super().__init__(data, param_modele ,param_split)\n",
        "        \n",
        "        for key in param_modele:\n",
        "            setattr(self,key,param_modele[key])\n",
        "        self.CB = data\n",
        "    \n",
        "    def set_sigS(self,sigS):\n",
        "        self.sigS = sigS\n",
        "        \n",
        "    def set_sigR(self,sigR):\n",
        "        self.sigR = sigR\n",
        "        \n",
        "    def fit():\n",
        "        pass\n",
        "\n",
        "#################################################\n",
        "\n",
        "    def predict(self,x,labels,CB):\n",
        "        \"\"\"\n",
        "        prend en entrée un tuple x et retourne son label \n",
        "        (label qui minimise la complexité)\n",
        "        \"\"\"\n",
        "        l = []\n",
        "        for y in labels:\n",
        "            tmp = CB + [self.change_outcomes(x,y)]\n",
        "            l.append(self.complex(tmp))\n",
        "        return labels[np.argmin(l)]\n",
        "    \n",
        "#################################################\n",
        "    def change_outcomes(self,x,y):\n",
        "        return (x,y)\n",
        "    \n",
        "#################################################\n",
        "\n",
        "    def score():\n",
        "        pass\n",
        "    \n",
        "################################################# \n",
        "    def inv(self,s0,CB):\n",
        "        \"\"\"\n",
        "        fonction qui calcule la cardinalité de l'ensemble ou sigmaS et sigmaR sont iversé pour un s0\n",
        "        sigS : mesure de similarité 1\n",
        "        sigR : mesure de similarité 2\n",
        "\n",
        "        -> faire l'autre moitié des tests\n",
        "        -> mettre les Sig dans des variable\n",
        "\n",
        "\n",
        "        \"\"\"\n",
        "        cpt=0\n",
        "        #parcourir les tuples du dataset \n",
        "        for si in  range(len(CB))  :\n",
        "            for sj in range(si+1,len(CB)) :\n",
        "                #########\n",
        "                sigS_si = (sigS(s0,CB[si])).value()\n",
        "                sigS_sj = (sigS(s0,CB[sj])).value()\n",
        "                sigR_si = (sigR(s0,CB[si])).value()\n",
        "                sigR_sj = (sigR(s0,CB[sj])).value()\n",
        "                #########\n",
        "\n",
        "                #incrementer si inversion de similarité (sigR se base sur les labels)\n",
        "                if( (sigS_si>=sigS_sj) and (sigR_si<sigR_sj)) or ( (sigS_si<sigS_sj) and (sigR_si>=sigR_sj)):\n",
        "                    cpt+=1\n",
        "\n",
        "        return cpt\n",
        "#################################################\n",
        "\n",
        "    def complex(self,CB):\n",
        "        \"\"\"\n",
        "        fonction qui calcule la complexité d'un CB (dataset)\n",
        "\n",
        "        \"\"\"\n",
        "        gamma=0\n",
        "        for s0 in CB:\n",
        "            gamma += self.inv(s0,CB)\n",
        "        return gamma\n",
        "    \n",
        "#################################################"
      ]
    },
    {
      "cell_type": "markdown",
      "id": "7d6f9e07",
      "metadata": {
        "id": "7d6f9e07"
      },
      "source": [
        "### Similarities"
      ]
    },
    {
      "cell_type": "code",
      "execution_count": null,
      "id": "830fee34",
      "metadata": {
        "id": "830fee34"
      },
      "outputs": [],
      "source": [
        "class sim():\n",
        "    def __init__(self):\n",
        "        pass\n",
        "    def value(self):\n",
        "        pass\n",
        "\n",
        "###################################################\n",
        "class sigS(sim):\n",
        "    def __init__(self,a,b):\n",
        "        super().__init__()\n",
        "        self.s1,_ = a\n",
        "        self.s2,_ = b\n",
        "        \n",
        "    def value(self):\n",
        "        if isinstance(self.s1, np.ndarray): \n",
        "            return ((np.abs(self.s1-self.s2)).sum())**2\n",
        "        return (np.abs(self.s1-self.s2))**2\n",
        "\n",
        "        # (np.abs(s1-s2)) ou (np.abs(s1-s2))^2\n",
        "\n",
        "###################################################\n",
        "class sigR(sim):\n",
        "    def __init__(self,a,b):\n",
        "        super().__init__()\n",
        "        _,self.o1 = a\n",
        "        _,self.o2 = b\n",
        "        \n",
        "    def value(self):\n",
        "        return (np.abs(self.o1-self.o2))**2"
      ]
    },
    {
      "cell_type": "code",
      "execution_count": null,
      "id": "4e3f4164",
      "metadata": {
        "id": "4e3f4164",
        "outputId": "cf9a18f2-b0ff-41b0-8be1-fa1914f5ab65"
      },
      "outputs": [
        {
          "name": "stdout",
          "output_type": "stream",
          "text": [
            "inverse avec le tuple (1,3) =  2\n",
            "\n",
            "complexité du dataset sans ajout =  5\n",
            "\n",
            "avec l'ajout de la situation 7 le meilleur label est = 4\n"
          ]
        }
      ],
      "source": [
        "labels = [1,2,3,4]\n",
        "CB_test=[(0,1),(4,2),(3,2),(1,3)]\n",
        "sit = 7\n",
        "\n",
        "mini = minimisation(None,None,None,None,'sigS','sigR')\n",
        "\n",
        "print(\"inverse avec le tuple ({},{}) = \".format(CB_test[3][0],CB_test[3][1]),mini.inv((1,3), CB_test))\n",
        "print()\n",
        "print(\"complexité du dataset sans ajout = \",mini.complex(CB_test))\n",
        "print()\n",
        "print(\"avec l'ajout de la situation {} le meilleur label est =\".format(sit),mini.predict(sit,labels ,CB_test))"
      ]
    },
    {
      "cell_type": "code",
      "execution_count": null,
      "id": "da015e67",
      "metadata": {
        "id": "da015e67"
      },
      "outputs": [],
      "source": [
        ""
      ]
    }
  ],
  "metadata": {
    "kernelspec": {
      "display_name": "Python 3 (ipykernel)",
      "language": "python",
      "name": "python3"
    },
    "language_info": {
      "codemirror_mode": {
        "name": "ipython",
        "version": 3
      },
      "file_extension": ".py",
      "mimetype": "text/x-python",
      "name": "python",
      "nbconvert_exporter": "python",
      "pygments_lexer": "ipython3",
      "version": "3.8.5"
    },
    "colab": {
      "name": "Main.ipynb",
      "provenance": [],
      "include_colab_link": true
    }
  },
  "nbformat": 4,
  "nbformat_minor": 5
}